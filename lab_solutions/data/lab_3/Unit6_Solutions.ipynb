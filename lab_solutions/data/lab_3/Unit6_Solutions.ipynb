{
 "cells": [
  {
   "cell_type": "code",
   "execution_count": 1,
   "metadata": {},
   "outputs": [],
   "source": [
    "import re\n",
    "\n",
    "import matplotlib.pyplot as plt\n",
    "import numpy as np\n",
    "import pandas as pd\n",
    "from scipy import stats\n",
    "import seaborn as sns\n",
    "import statsmodels.api as sm\n",
    "import statsmodels.formula.api as smf\n",
    "\n",
    "np.seterr('ignore')\n",
    "pd.options.mode.chained_assignment = None\n",
    "sns.set_style(style=\"darkgrid\")\n",
    "\n",
    "%matplotlib inline"
   ]
  },
  {
   "cell_type": "markdown",
   "metadata": {},
   "source": [
    "## Logistics Regression"
   ]
  },
  {
   "cell_type": "code",
   "execution_count": 2,
   "metadata": {},
   "outputs": [],
   "source": [
    "df = pd.read_csv('../data/fifa.csv').drop('Unnamed: 0', axis=1)"
   ]
  },
  {
   "cell_type": "code",
   "execution_count": 3,
   "metadata": {},
   "outputs": [
    {
     "data": {
      "text/html": [
       "<div>\n",
       "<style scoped>\n",
       "    .dataframe tbody tr th:only-of-type {\n",
       "        vertical-align: middle;\n",
       "    }\n",
       "\n",
       "    .dataframe tbody tr th {\n",
       "        vertical-align: top;\n",
       "    }\n",
       "\n",
       "    .dataframe thead th {\n",
       "        text-align: right;\n",
       "    }\n",
       "</style>\n",
       "<table border=\"1\" class=\"dataframe\">\n",
       "  <thead>\n",
       "    <tr style=\"text-align: right;\">\n",
       "      <th></th>\n",
       "      <th>ID</th>\n",
       "      <th>Name</th>\n",
       "      <th>Age</th>\n",
       "      <th>Photo</th>\n",
       "      <th>Nationality</th>\n",
       "      <th>Flag</th>\n",
       "      <th>Overall</th>\n",
       "      <th>Potential</th>\n",
       "      <th>Club</th>\n",
       "      <th>Club Logo</th>\n",
       "      <th>...</th>\n",
       "      <th>Composure</th>\n",
       "      <th>Marking</th>\n",
       "      <th>StandingTackle</th>\n",
       "      <th>SlidingTackle</th>\n",
       "      <th>GKDiving</th>\n",
       "      <th>GKHandling</th>\n",
       "      <th>GKKicking</th>\n",
       "      <th>GKPositioning</th>\n",
       "      <th>GKReflexes</th>\n",
       "      <th>Release Clause</th>\n",
       "    </tr>\n",
       "  </thead>\n",
       "  <tbody>\n",
       "    <tr>\n",
       "      <th>0</th>\n",
       "      <td>158023</td>\n",
       "      <td>L. Messi</td>\n",
       "      <td>31</td>\n",
       "      <td>https://cdn.sofifa.org/players/4/19/158023.png</td>\n",
       "      <td>Argentina</td>\n",
       "      <td>https://cdn.sofifa.org/flags/52.png</td>\n",
       "      <td>94</td>\n",
       "      <td>94</td>\n",
       "      <td>FC Barcelona</td>\n",
       "      <td>https://cdn.sofifa.org/teams/2/light/241.png</td>\n",
       "      <td>...</td>\n",
       "      <td>96.0</td>\n",
       "      <td>33.0</td>\n",
       "      <td>28.0</td>\n",
       "      <td>26.0</td>\n",
       "      <td>6.0</td>\n",
       "      <td>11.0</td>\n",
       "      <td>15.0</td>\n",
       "      <td>14.0</td>\n",
       "      <td>8.0</td>\n",
       "      <td>€226.5M</td>\n",
       "    </tr>\n",
       "    <tr>\n",
       "      <th>1</th>\n",
       "      <td>20801</td>\n",
       "      <td>Cristiano Ronaldo</td>\n",
       "      <td>33</td>\n",
       "      <td>https://cdn.sofifa.org/players/4/19/20801.png</td>\n",
       "      <td>Portugal</td>\n",
       "      <td>https://cdn.sofifa.org/flags/38.png</td>\n",
       "      <td>94</td>\n",
       "      <td>94</td>\n",
       "      <td>Juventus</td>\n",
       "      <td>https://cdn.sofifa.org/teams/2/light/45.png</td>\n",
       "      <td>...</td>\n",
       "      <td>95.0</td>\n",
       "      <td>28.0</td>\n",
       "      <td>31.0</td>\n",
       "      <td>23.0</td>\n",
       "      <td>7.0</td>\n",
       "      <td>11.0</td>\n",
       "      <td>15.0</td>\n",
       "      <td>14.0</td>\n",
       "      <td>11.0</td>\n",
       "      <td>€127.1M</td>\n",
       "    </tr>\n",
       "    <tr>\n",
       "      <th>2</th>\n",
       "      <td>190871</td>\n",
       "      <td>Neymar Jr</td>\n",
       "      <td>26</td>\n",
       "      <td>https://cdn.sofifa.org/players/4/19/190871.png</td>\n",
       "      <td>Brazil</td>\n",
       "      <td>https://cdn.sofifa.org/flags/54.png</td>\n",
       "      <td>92</td>\n",
       "      <td>93</td>\n",
       "      <td>Paris Saint-Germain</td>\n",
       "      <td>https://cdn.sofifa.org/teams/2/light/73.png</td>\n",
       "      <td>...</td>\n",
       "      <td>94.0</td>\n",
       "      <td>27.0</td>\n",
       "      <td>24.0</td>\n",
       "      <td>33.0</td>\n",
       "      <td>9.0</td>\n",
       "      <td>9.0</td>\n",
       "      <td>15.0</td>\n",
       "      <td>15.0</td>\n",
       "      <td>11.0</td>\n",
       "      <td>€228.1M</td>\n",
       "    </tr>\n",
       "  </tbody>\n",
       "</table>\n",
       "<p>3 rows × 88 columns</p>\n",
       "</div>"
      ],
      "text/plain": [
       "       ID               Name  Age  \\\n",
       "0  158023           L. Messi   31   \n",
       "1   20801  Cristiano Ronaldo   33   \n",
       "2  190871          Neymar Jr   26   \n",
       "\n",
       "                                            Photo Nationality  \\\n",
       "0  https://cdn.sofifa.org/players/4/19/158023.png   Argentina   \n",
       "1   https://cdn.sofifa.org/players/4/19/20801.png    Portugal   \n",
       "2  https://cdn.sofifa.org/players/4/19/190871.png      Brazil   \n",
       "\n",
       "                                  Flag  Overall  Potential  \\\n",
       "0  https://cdn.sofifa.org/flags/52.png       94         94   \n",
       "1  https://cdn.sofifa.org/flags/38.png       94         94   \n",
       "2  https://cdn.sofifa.org/flags/54.png       92         93   \n",
       "\n",
       "                  Club                                     Club Logo  ...  \\\n",
       "0         FC Barcelona  https://cdn.sofifa.org/teams/2/light/241.png  ...   \n",
       "1             Juventus   https://cdn.sofifa.org/teams/2/light/45.png  ...   \n",
       "2  Paris Saint-Germain   https://cdn.sofifa.org/teams/2/light/73.png  ...   \n",
       "\n",
       "  Composure Marking  StandingTackle SlidingTackle  GKDiving  GKHandling  \\\n",
       "0      96.0    33.0            28.0          26.0       6.0        11.0   \n",
       "1      95.0    28.0            31.0          23.0       7.0        11.0   \n",
       "2      94.0    27.0            24.0          33.0       9.0         9.0   \n",
       "\n",
       "   GKKicking GKPositioning GKReflexes Release Clause  \n",
       "0       15.0          14.0        8.0        €226.5M  \n",
       "1       15.0          14.0       11.0        €127.1M  \n",
       "2       15.0          15.0       11.0        €228.1M  \n",
       "\n",
       "[3 rows x 88 columns]"
      ]
     },
     "execution_count": 3,
     "metadata": {},
     "output_type": "execute_result"
    }
   ],
   "source": [
    "df.head(3)"
   ]
  },
  {
   "cell_type": "markdown",
   "metadata": {},
   "source": [
    "#### Drop data with missing values in any of the fields: Overall, Reactions, Composure, Potential, and International Reputation"
   ]
  },
  {
   "cell_type": "markdown",
   "metadata": {},
   "source": [
    "Load data. Drop data with missing values in any of the fields: Overall, Reactions, Composure, Potential, and International Reputation. How many rows are there?\n",
    " **Answer:** 18159"
   ]
  },
  {
   "cell_type": "code",
   "execution_count": 4,
   "metadata": {},
   "outputs": [],
   "source": [
    "df_lr = df.dropna(subset = ['Overall', 'Reactions', 'Composure','Potential', 'International Reputation'], axis=0)"
   ]
  },
  {
   "cell_type": "code",
   "execution_count": 5,
   "metadata": {},
   "outputs": [
    {
     "data": {
      "text/plain": [
       "18159"
      ]
     },
     "execution_count": 5,
     "metadata": {},
     "output_type": "execute_result"
    }
   ],
   "source": [
    "df_lr.shape[0]"
   ]
  },
  {
   "cell_type": "markdown",
   "metadata": {},
   "source": [
    "#### Create a new column named is_bad_reputation which is 1 if the players reputation is 1 and 0 otherwise. "
   ]
  },
  {
   "cell_type": "code",
   "execution_count": 6,
   "metadata": {},
   "outputs": [
    {
     "data": {
      "text/plain": [
       "array([5., 4., 3., 2., 1.])"
      ]
     },
     "execution_count": 6,
     "metadata": {},
     "output_type": "execute_result"
    }
   ],
   "source": [
    "df_lr['International Reputation'].unique()"
   ]
  },
  {
   "cell_type": "code",
   "execution_count": 7,
   "metadata": {},
   "outputs": [],
   "source": [
    "df_lr['is_bad_reputation'] = np.where(df_lr['International Reputation']==1, 1, 0)\n",
    "#df_lr['is_bad_reputation'] = df_lr['International Reputation'].apply(lambda x: 1 if x == 1 else 0) "
   ]
  },
  {
   "cell_type": "markdown",
   "metadata": {},
   "source": [
    "#### Fit a Logistic Regression Model with is_bad_reputation as target, and Overall as the only variable. "
   ]
  },
  {
   "cell_type": "code",
   "execution_count": 8,
   "metadata": {},
   "outputs": [
    {
     "data": {
      "text/plain": [
       "Intercept    32.706152\n",
       "Overall      -0.424407\n",
       "dtype: float64"
      ]
     },
     "execution_count": 8,
     "metadata": {},
     "output_type": "execute_result"
    }
   ],
   "source": [
    "lr = smf.glm(formula = 'is_bad_reputation ~ Overall', data=df_lr, family=sm.families.Binomial())\n",
    "lr = lr.fit()\n",
    "lr.params"
   ]
  },
  {
   "cell_type": "code",
   "execution_count": 9,
   "metadata": {},
   "outputs": [
    {
     "data": {
      "text/html": [
       "<table class=\"simpletable\">\n",
       "<caption>Generalized Linear Model Regression Results</caption>\n",
       "<tr>\n",
       "  <th>Dep. Variable:</th>  <td>is_bad_reputation</td> <th>  No. Observations:  </th>  <td> 18159</td>  \n",
       "</tr>\n",
       "<tr>\n",
       "  <th>Model:</th>                 <td>GLM</td>        <th>  Df Residuals:      </th>  <td> 18157</td>  \n",
       "</tr>\n",
       "<tr>\n",
       "  <th>Model Family:</th>       <td>Binomial</td>      <th>  Df Model:          </th>  <td>     1</td>  \n",
       "</tr>\n",
       "<tr>\n",
       "  <th>Link Function:</th>        <td>logit</td>       <th>  Scale:             </th> <td>  1.0000</td> \n",
       "</tr>\n",
       "<tr>\n",
       "  <th>Method:</th>               <td>IRLS</td>        <th>  Log-Likelihood:    </th> <td> -2817.4</td> \n",
       "</tr>\n",
       "<tr>\n",
       "  <th>Date:</th>           <td>Fri, 09 Aug 2019</td>  <th>  Deviance:          </th> <td>  5634.7</td> \n",
       "</tr>\n",
       "<tr>\n",
       "  <th>Time:</th>               <td>11:40:37</td>      <th>  Pearson chi2:      </th> <td>3.43e+04</td> \n",
       "</tr>\n",
       "<tr>\n",
       "  <th>No. Iterations:</th>         <td>8</td>         <th>  Covariance Type:   </th> <td>nonrobust</td>\n",
       "</tr>\n",
       "</table>\n",
       "<table class=\"simpletable\">\n",
       "<tr>\n",
       "      <td></td>         <th>coef</th>     <th>std err</th>      <th>z</th>      <th>P>|z|</th>  <th>[0.025</th>    <th>0.975]</th>  \n",
       "</tr>\n",
       "<tr>\n",
       "  <th>Intercept</th> <td>   32.7062</td> <td>    0.681</td> <td>   47.996</td> <td> 0.000</td> <td>   31.371</td> <td>   34.042</td>\n",
       "</tr>\n",
       "<tr>\n",
       "  <th>Overall</th>   <td>   -0.4244</td> <td>    0.009</td> <td>  -46.209</td> <td> 0.000</td> <td>   -0.442</td> <td>   -0.406</td>\n",
       "</tr>\n",
       "</table>"
      ],
      "text/plain": [
       "<class 'statsmodels.iolib.summary.Summary'>\n",
       "\"\"\"\n",
       "                 Generalized Linear Model Regression Results                  \n",
       "==============================================================================\n",
       "Dep. Variable:      is_bad_reputation   No. Observations:                18159\n",
       "Model:                            GLM   Df Residuals:                    18157\n",
       "Model Family:                Binomial   Df Model:                            1\n",
       "Link Function:                  logit   Scale:                          1.0000\n",
       "Method:                          IRLS   Log-Likelihood:                -2817.4\n",
       "Date:                Fri, 09 Aug 2019   Deviance:                       5634.7\n",
       "Time:                        11:40:37   Pearson chi2:                 3.43e+04\n",
       "No. Iterations:                     8   Covariance Type:             nonrobust\n",
       "==============================================================================\n",
       "                 coef    std err          z      P>|z|      [0.025      0.975]\n",
       "------------------------------------------------------------------------------\n",
       "Intercept     32.7062      0.681     47.996      0.000      31.371      34.042\n",
       "Overall       -0.4244      0.009    -46.209      0.000      -0.442      -0.406\n",
       "==============================================================================\n",
       "\"\"\""
      ]
     },
     "execution_count": 9,
     "metadata": {},
     "output_type": "execute_result"
    }
   ],
   "source": [
    "lr.summary()"
   ]
  },
  {
   "cell_type": "markdown",
   "metadata": {},
   "source": [
    "#### Logistic model interpretation\n",
    "   $$p = P(\\text{player is_bad_reputation}) =  \\frac{exp(\\beta_0 + \\beta_1 * \\text{Overall})}{1 + exp(\\beta_0 + \\beta_1 * \\text{Overall})}$$\n",
    "- In this logistic regression model, we define \n",
    "    - probability: $p$ the probability of a player with a bad reputation\n",
    "    - odds:  $\\frac{p}{1-p} = exp(\\beta_0 + \\beta_1 * \\text{Overall})$\n",
    "    - log odds:  $ log\\left(\\frac{p}{1-p}\\right) = \\beta_0 + \\beta_1 * \\text{Overall}$. \n",
    "    - odds ratio : $$\\frac{\\text{Odds(Overall + 1)}}{\\text{Odds (Overall)}} = \\frac{exp(\\beta_0 + \\beta_1 * (\\text{Overall} + 1))}{exp(\\beta_0 + \\beta_1 * \\text{Overall})} = exp(\\beta_1)$$\n",
    "    - log odds ratio : $$log\\left(\\frac{\\text{Odds(Overall + 1)}}{\\text{Odds (Overall)}}\\right) = \\beta_1 $$"
   ]
  },
  {
   "cell_type": "markdown",
   "metadata": {},
   "source": [
    "1. **What are values of beta0 (intercept) and beta1 (slope)?**\n",
    "\n",
    "    **Answer:** $\\beta_0$:   32.706152, $\\beta_1$:   -0.424407. The variable Overall is significant.\n",
    "    \n",
    "\n",
    "2. **How do we interpret beta0?**\n",
    "\n",
    "    **Answer:**  The log odds of a player with an overall score of zero being with a bad reputation.\n",
    "  \n",
    "  \n",
    "3. **According to the estimation, what is the probability that a player has a bad reputation given his/her Overall score is 0?**\n",
    "\n",
    "  **Answer:**  substitute Overall = 0 to the probability function, we have that probability = 1 / (1 + exp(-$\\beta_0$)), almost equals to 1\n",
    " \n",
    " \n",
    "4. **How do we interpret beta1?**\n",
    "\n",
    "  **Answer:**  For every unit increase in Overall score the log-odds ratio of the player having bad reputation decreases by 0.4244.\n",
    "\n",
    "\n",
    "5. **Plot the logistic curve with x axis as the Overall score and y axis as the probability of the player with a bad reputation. Overlay the line y=0.5 on the plot. How does the plot look like?** "
   ]
  },
  {
   "cell_type": "code",
   "execution_count": 10,
   "metadata": {},
   "outputs": [
    {
     "data": {
      "text/plain": [
       "(46, 94)"
      ]
     },
     "execution_count": 10,
     "metadata": {},
     "output_type": "execute_result"
    },
    {
     "data": {
      "image/png": "[encoded data removed]",
      "text/plain": [
       "<Figure size 432x288 with 1 Axes>"
      ]
     },
     "metadata": {
      "needs_background": "light"
     },
     "output_type": "display_data"
    }
   ],
   "source": [
    "overall_scores = df_lr['Overall']\n",
    "plt.plot(overall_scores, lr.fittedvalues, color='red')\n",
    "plt.scatter(overall_scores, df_lr['is_bad_reputation'], s=6, marker='o')\n",
    "plt.hlines(y=0.5, xmin=min(overall_scores), xmax=max(overall_scores))\n",
    "plt.ylim(-0.05,1.05)\n",
    "plt.xlim(min(overall_scores), max(overall_scores))"
   ]
  },
  {
   "cell_type": "markdown",
   "metadata": {},
   "source": [
    "6. **What is the 90% confidence interval for beta1? How do we interpret this confidence interval?**\n",
    "\n",
    "    **Answer:**\n",
    "      - (1-alpha) % Two-sided confidence interval: \n",
    "        -  $\\beta_1 \\pm Z_{(1-alpha/2)} * SE(\\beta_1)$\n",
    "        - [-0.4395, -0.4093 ]\n",
    "      - If we were to repeat this experiment (sample data from the same distribution and fit the same model) many times, then 90% of the CI's would contain the true beta_1. That is, we can be 90% confident that the log odds of a player with a bad reputation decreases between 0.4093 to 0.4395 for every one unit increase in the Overall score"
   ]
  },
  {
   "cell_type": "code",
   "execution_count": 11,
   "metadata": {},
   "outputs": [
    {
     "data": {
      "text/html": [
       "<div>\n",
       "<style scoped>\n",
       "    .dataframe tbody tr th:only-of-type {\n",
       "        vertical-align: middle;\n",
       "    }\n",
       "\n",
       "    .dataframe tbody tr th {\n",
       "        vertical-align: top;\n",
       "    }\n",
       "\n",
       "    .dataframe thead th {\n",
       "        text-align: right;\n",
       "    }\n",
       "</style>\n",
       "<table border=\"1\" class=\"dataframe\">\n",
       "  <thead>\n",
       "    <tr style=\"text-align: right;\">\n",
       "      <th></th>\n",
       "      <th>0</th>\n",
       "      <th>1</th>\n",
       "    </tr>\n",
       "  </thead>\n",
       "  <tbody>\n",
       "    <tr>\n",
       "      <th>Intercept</th>\n",
       "      <td>31.585282</td>\n",
       "      <td>33.827023</td>\n",
       "    </tr>\n",
       "    <tr>\n",
       "      <th>Overall</th>\n",
       "      <td>-0.439515</td>\n",
       "      <td>-0.409300</td>\n",
       "    </tr>\n",
       "  </tbody>\n",
       "</table>\n",
       "</div>"
      ],
      "text/plain": [
       "                   0          1\n",
       "Intercept  31.585282  33.827023\n",
       "Overall    -0.439515  -0.409300"
      ]
     },
     "execution_count": 11,
     "metadata": {},
     "output_type": "execute_result"
    }
   ],
   "source": [
    "lr.conf_int(alpha=0.1)"
   ]
  },
  {
   "cell_type": "markdown",
   "metadata": {},
   "source": [
    "## Possion Regression"
   ]
  },
  {
   "cell_type": "markdown",
   "metadata": {},
   "source": [
    "We are interested in how many positions a player can compete in a good club. We define the “competence” of a player in a certain position if the player’s score in this position is above 75. For example, the famous Portuguese player Pepe (Id=120533) is competent in 3 positions: LCB, CB and RCB. The list of all positions is: `LS, ST, RS, LW, LF, CF, RF, RW, LAM, CAM, RAM, LM, LCM, CM, RCM, RM, LWB, LDM, CDM, RDM, RWB, LB, LCB, CB, RCB, RB`. The `position_count` is defined as total number of positions a player is competent in. Although this count is limited by 26, we will still treat it as Poisson distributed for the purpose of this practice.\n",
    "\n",
    "In summary, please first conduct these steps to clean the data:\n",
    "- Remove the players with International.Reputation = 1\n",
    "- Remove goalkeepers and players with unknown players, i.e. remove the rows with position = NA or ‘GK’.\n",
    "- Define `position_count` as above. When parsing the scores, please only include the score before the plus sign. For example, for score 75+3, it is used as 75, and therefore not considered as a competent score.\n"
   ]
  },
  {
   "cell_type": "code",
   "execution_count": 12,
   "metadata": {},
   "outputs": [],
   "source": [
    "position_forward = ['LS', 'ST', 'RS', 'LW', 'LF', 'CF', 'RF', 'RW']\n",
    "position_mid = ['LAM', 'CAM', 'RAM', 'LM', 'LCM', 'CM', 'RCM', 'RM', 'LWB', 'LDM', 'CDM', 'RDM']\n",
    "position_back = ['RWB', 'LB', 'LCB', 'CB', 'RCB', 'RB']\n",
    "position_all = position_forward + position_mid + position_back"
   ]
  },
  {
   "cell_type": "code",
   "execution_count": 13,
   "metadata": {},
   "outputs": [],
   "source": [
    "for column in position_all:\n",
    "    df[column] = df[column].str.split(\"+\").str[0]\n",
    "    df[column] = pd.to_numeric(df[column])\n",
    "    df[column] = np.where(df[column] > 75, 1 , 0)"
   ]
  },
  {
   "cell_type": "code",
   "execution_count": 14,
   "metadata": {},
   "outputs": [],
   "source": [
    "df['position_cnt'] = df[position_all].sum(axis=1)"
   ]
  },
  {
   "cell_type": "code",
   "execution_count": 15,
   "metadata": {},
   "outputs": [],
   "source": [
    "df_poisson = df[(df['International Reputation'] > 1) & (df['Position'] != 'GK') & (~df['Position'].isna())].copy()"
   ]
  },
  {
   "cell_type": "code",
   "execution_count": 16,
   "metadata": {},
   "outputs": [
    {
     "data": {
      "text/plain": [
       "(1478, 89)"
      ]
     },
     "execution_count": 16,
     "metadata": {},
     "output_type": "execute_result"
    }
   ],
   "source": [
    "df_poisson.shape"
   ]
  },
  {
   "cell_type": "markdown",
   "metadata": {},
   "source": [
    "#### 1. Fit a GLM model with 'BallControl' (let's call it model 1). \n",
    "\n",
    "How to explain these coefficients (intercept and slope)? \n",
    "\n",
    "**Answer:**\n",
    "1. $\\beta_0 = -8.518$, $\\beta_1 = 0.129$. The variable BallControl is significant\n",
    "1. Intercept: For BallControl = 0, the predicted number of positions the player can play in a top club is $\\exp(\\beta_0) = 0.002$\n",
    "1. Slope: For every one unit the BallControl skill improves, the number of positions will be $\\exp(\\beta_1) = 1.138$ times of the number of positions before the improvement."
   ]
  },
  {
   "cell_type": "code",
   "execution_count": 17,
   "metadata": {},
   "outputs": [
    {
     "data": {
      "text/plain": [
       "Intercept     -8.518234\n",
       "BallControl    0.129473\n",
       "dtype: float64"
      ]
     },
     "execution_count": 17,
     "metadata": {},
     "output_type": "execute_result"
    }
   ],
   "source": [
    "model1 = smf.glm(formula = 'position_cnt ~ BallControl', data=df_poisson, family=sm.families.Poisson())\n",
    "model1 = model1.fit()\n",
    "model1.params"
   ]
  },
  {
   "cell_type": "code",
   "execution_count": 18,
   "metadata": {},
   "outputs": [
    {
     "data": {
      "text/html": [
       "<table class=\"simpletable\">\n",
       "<caption>Generalized Linear Model Regression Results</caption>\n",
       "<tr>\n",
       "  <th>Dep. Variable:</th>    <td>position_cnt</td>   <th>  No. Observations:  </th>  <td>  1478</td>  \n",
       "</tr>\n",
       "<tr>\n",
       "  <th>Model:</th>                 <td>GLM</td>       <th>  Df Residuals:      </th>  <td>  1476</td>  \n",
       "</tr>\n",
       "<tr>\n",
       "  <th>Model Family:</th>        <td>Poisson</td>     <th>  Df Model:          </th>  <td>     1</td>  \n",
       "</tr>\n",
       "<tr>\n",
       "  <th>Link Function:</th>         <td>log</td>       <th>  Scale:             </th> <td>  1.0000</td> \n",
       "</tr>\n",
       "<tr>\n",
       "  <th>Method:</th>               <td>IRLS</td>       <th>  Log-Likelihood:    </th> <td> -4846.8</td> \n",
       "</tr>\n",
       "<tr>\n",
       "  <th>Date:</th>           <td>Fri, 09 Aug 2019</td> <th>  Deviance:          </th> <td>  6690.1</td> \n",
       "</tr>\n",
       "<tr>\n",
       "  <th>Time:</th>               <td>11:40:38</td>     <th>  Pearson chi2:      </th> <td>6.81e+03</td> \n",
       "</tr>\n",
       "<tr>\n",
       "  <th>No. Iterations:</th>         <td>5</td>        <th>  Covariance Type:   </th> <td>nonrobust</td>\n",
       "</tr>\n",
       "</table>\n",
       "<table class=\"simpletable\">\n",
       "<tr>\n",
       "       <td></td>          <th>coef</th>     <th>std err</th>      <th>z</th>      <th>P>|z|</th>  <th>[0.025</th>    <th>0.975]</th>  \n",
       "</tr>\n",
       "<tr>\n",
       "  <th>Intercept</th>   <td>   -8.5182</td> <td>    0.146</td> <td>  -58.208</td> <td> 0.000</td> <td>   -8.805</td> <td>   -8.231</td>\n",
       "</tr>\n",
       "<tr>\n",
       "  <th>BallControl</th> <td>    0.1295</td> <td>    0.002</td> <td>   72.173</td> <td> 0.000</td> <td>    0.126</td> <td>    0.133</td>\n",
       "</tr>\n",
       "</table>"
      ],
      "text/plain": [
       "<class 'statsmodels.iolib.summary.Summary'>\n",
       "\"\"\"\n",
       "                 Generalized Linear Model Regression Results                  \n",
       "==============================================================================\n",
       "Dep. Variable:           position_cnt   No. Observations:                 1478\n",
       "Model:                            GLM   Df Residuals:                     1476\n",
       "Model Family:                 Poisson   Df Model:                            1\n",
       "Link Function:                    log   Scale:                          1.0000\n",
       "Method:                          IRLS   Log-Likelihood:                -4846.8\n",
       "Date:                Fri, 09 Aug 2019   Deviance:                       6690.1\n",
       "Time:                        11:40:38   Pearson chi2:                 6.81e+03\n",
       "No. Iterations:                     5   Covariance Type:             nonrobust\n",
       "===============================================================================\n",
       "                  coef    std err          z      P>|z|      [0.025      0.975]\n",
       "-------------------------------------------------------------------------------\n",
       "Intercept      -8.5182      0.146    -58.208      0.000      -8.805      -8.231\n",
       "BallControl     0.1295      0.002     72.173      0.000       0.126       0.133\n",
       "===============================================================================\n",
       "\"\"\""
      ]
     },
     "execution_count": 18,
     "metadata": {},
     "output_type": "execute_result"
    }
   ],
   "source": [
    "model1.summary()"
   ]
  },
  {
   "cell_type": "markdown",
   "metadata": {},
   "source": [
    "#### 2. Add 'Reaction' into the model (and call it model 2).\n",
    "\n",
    "What does the coefficients mean at this time?\n",
    "\n",
    "**Answer:**\n",
    "1. Same meaning for $\\beta_0$\n",
    "1. Slopes: Given all other features (Reactions) unchanged, one unit of change of BallControl will cause the prediction to become $\\exp(0.07)=1.07$ times of that before the change.\n"
   ]
  },
  {
   "cell_type": "code",
   "execution_count": 19,
   "metadata": {},
   "outputs": [
    {
     "data": {
      "text/plain": [
       "Intercept     -10.932273\n",
       "BallControl     0.072708\n",
       "Reactions       0.088782\n",
       "dtype: float64"
      ]
     },
     "execution_count": 19,
     "metadata": {},
     "output_type": "execute_result"
    }
   ],
   "source": [
    "model2 = smf.glm(formula = 'position_cnt ~ BallControl + Reactions', data=df_poisson, family=sm.families.Poisson())\n",
    "model2 = model2.fit()\n",
    "model2.params"
   ]
  },
  {
   "cell_type": "code",
   "execution_count": 20,
   "metadata": {},
   "outputs": [
    {
     "data": {
      "text/html": [
       "<table class=\"simpletable\">\n",
       "<caption>Generalized Linear Model Regression Results</caption>\n",
       "<tr>\n",
       "  <th>Dep. Variable:</th>    <td>position_cnt</td>   <th>  No. Observations:  </th>  <td>  1478</td>  \n",
       "</tr>\n",
       "<tr>\n",
       "  <th>Model:</th>                 <td>GLM</td>       <th>  Df Residuals:      </th>  <td>  1475</td>  \n",
       "</tr>\n",
       "<tr>\n",
       "  <th>Model Family:</th>        <td>Poisson</td>     <th>  Df Model:          </th>  <td>     2</td>  \n",
       "</tr>\n",
       "<tr>\n",
       "  <th>Link Function:</th>         <td>log</td>       <th>  Scale:             </th> <td>  1.0000</td> \n",
       "</tr>\n",
       "<tr>\n",
       "  <th>Method:</th>               <td>IRLS</td>       <th>  Log-Likelihood:    </th> <td> -4203.2</td> \n",
       "</tr>\n",
       "<tr>\n",
       "  <th>Date:</th>           <td>Fri, 09 Aug 2019</td> <th>  Deviance:          </th> <td>  5403.0</td> \n",
       "</tr>\n",
       "<tr>\n",
       "  <th>Time:</th>               <td>11:40:38</td>     <th>  Pearson chi2:      </th> <td>4.70e+03</td> \n",
       "</tr>\n",
       "<tr>\n",
       "  <th>No. Iterations:</th>         <td>5</td>        <th>  Covariance Type:   </th> <td>nonrobust</td>\n",
       "</tr>\n",
       "</table>\n",
       "<table class=\"simpletable\">\n",
       "<tr>\n",
       "       <td></td>          <th>coef</th>     <th>std err</th>      <th>z</th>      <th>P>|z|</th>  <th>[0.025</th>    <th>0.975]</th>  \n",
       "</tr>\n",
       "<tr>\n",
       "  <th>Intercept</th>   <td>  -10.9323</td> <td>    0.154</td> <td>  -70.793</td> <td> 0.000</td> <td>  -11.235</td> <td>  -10.630</td>\n",
       "</tr>\n",
       "<tr>\n",
       "  <th>BallControl</th> <td>    0.0727</td> <td>    0.002</td> <td>   32.009</td> <td> 0.000</td> <td>    0.068</td> <td>    0.077</td>\n",
       "</tr>\n",
       "<tr>\n",
       "  <th>Reactions</th>   <td>    0.0888</td> <td>    0.002</td> <td>   35.643</td> <td> 0.000</td> <td>    0.084</td> <td>    0.094</td>\n",
       "</tr>\n",
       "</table>"
      ],
      "text/plain": [
       "<class 'statsmodels.iolib.summary.Summary'>\n",
       "\"\"\"\n",
       "                 Generalized Linear Model Regression Results                  \n",
       "==============================================================================\n",
       "Dep. Variable:           position_cnt   No. Observations:                 1478\n",
       "Model:                            GLM   Df Residuals:                     1475\n",
       "Model Family:                 Poisson   Df Model:                            2\n",
       "Link Function:                    log   Scale:                          1.0000\n",
       "Method:                          IRLS   Log-Likelihood:                -4203.2\n",
       "Date:                Fri, 09 Aug 2019   Deviance:                       5403.0\n",
       "Time:                        11:40:38   Pearson chi2:                 4.70e+03\n",
       "No. Iterations:                     5   Covariance Type:             nonrobust\n",
       "===============================================================================\n",
       "                  coef    std err          z      P>|z|      [0.025      0.975]\n",
       "-------------------------------------------------------------------------------\n",
       "Intercept     -10.9323      0.154    -70.793      0.000     -11.235     -10.630\n",
       "BallControl     0.0727      0.002     32.009      0.000       0.068       0.077\n",
       "Reactions       0.0888      0.002     35.643      0.000       0.084       0.094\n",
       "===============================================================================\n",
       "\"\"\""
      ]
     },
     "execution_count": 20,
     "metadata": {},
     "output_type": "execute_result"
    }
   ],
   "source": [
    "model2.summary()"
   ]
  },
  {
   "cell_type": "markdown",
   "metadata": {},
   "source": [
    "#### 3. Diagnose the model2 by producing plots:\n",
    "\n",
    "- Residuals vs Fitted, which draws a scatterplot of fitted values against residuals, with a regression line showing any apparent trend  \n",
    "- Normal Q-Q, which plots the standardized (z-score) residuals against the theoretical normal quantiles.\n"
   ]
  },
  {
   "cell_type": "markdown",
   "metadata": {},
   "source": [
    "#### 4. Is there any problem in model diagnose for model 2? What are the leverage points? \n",
    "\n",
    "**Answer:** Outliers exist in residual plot, QQ plot "
   ]
  },
  {
   "cell_type": "code",
   "execution_count": 21,
   "metadata": {},
   "outputs": [],
   "source": [
    "def lowess_smooth(x, y):\n",
    "    lowess = sm.nonparametric.lowess\n",
    "    z = lowess(y, x, frac=3./4, return_sorted=True)\n",
    "    return z \n",
    "\n",
    "def add_local_smooth(ax, x, y):\n",
    "    \"\"\"Add local smoothing lines to a scatter plot.\"\"\"\n",
    "    smooth = lowess_smooth(x, y)\n",
    "    ax.plot(smooth[:,0], smooth[:,1], color='red')\n",
    "    \n",
    "def residual_plots(fitted_model, figsize=(10, 4), color='#4C72B0'):\n",
    "    \"\"\"Produce residual, and QQ normal plots.\"\"\"\n",
    "    resids = fitted_model.resid_anscombe_unscaled\n",
    "#    resids = fitted_model.resid_pearson\n",
    "    standardized_resids = fitted_model.resid_anscombe_scaled\n",
    "    fittedvalues = np.log(fitted_model.fittedvalues)\n",
    "    \n",
    "    fig, axes = plt.subplots(1, 2, figsize=figsize)\n",
    "    \n",
    "    ## resisual vs. fitted plot\n",
    "    ax = axes[0]\n",
    "    ax.scatter(fittedvalues, resids, color=color)\n",
    "    ax.axhline(y=0, color='grey', linestyle=':')\n",
    "    add_local_smooth(ax, fittedvalues, resids)\n",
    "    ax.plot(y=0, color='grey', linestyle=':')\n",
    "    ax.set_title('Residuals vs Fitted')\n",
    "    ax.set_xlabel('Fitted Values')\n",
    "    ax.set_ylabel('Residuals')\n",
    "\n",
    "    ## resisual QQ plot \n",
    "    ax = axes[1]\n",
    "    stats.probplot(standardized_resids, plot=ax)\n",
    "    ax.get_lines()[0].set_color(color)\n",
    "    ax.set_title('Residual Normal QQ Plot')\n",
    "\n",
    "    fig.tight_layout()\n",
    "    plt.show()"
   ]
  },
  {
   "cell_type": "code",
   "execution_count": 22,
   "metadata": {},
   "outputs": [
    {
     "data": {
      "image/png": "[encoded data removed]",
      "text/plain": [
       "<Figure size 720x288 with 2 Axes>"
      ]
     },
     "metadata": {
      "needs_background": "light"
     },
     "output_type": "display_data"
    }
   ],
   "source": [
    "residual_plots(model2)"
   ]
  },
  {
   "cell_type": "markdown",
   "metadata": {},
   "source": [
    "#### 5. Remove the top 3 players: Messi, Ronaldo and Neymar. Refit model 1 & 2. What do you find this time?\n",
    "**Answer:** Outliers and influential points problems are mitigated, although there are still some potential leverage points.\n",
    "    "
   ]
  },
  {
   "cell_type": "code",
   "execution_count": 23,
   "metadata": {},
   "outputs": [],
   "source": [
    "names_to_remove = [\n",
    "    'L. Messi', \n",
    "    'Cristiano Ronaldo',\n",
    "    'Neymar Jr'\n",
    "]\n",
    "df_poisson2 = df_poisson[~df_poisson['Name'].isin(names_to_remove)]"
   ]
  },
  {
   "cell_type": "code",
   "execution_count": 24,
   "metadata": {},
   "outputs": [
    {
     "data": {
      "text/plain": [
       "(1475, 89)"
      ]
     },
     "execution_count": 24,
     "metadata": {},
     "output_type": "execute_result"
    }
   ],
   "source": [
    "df_poisson2.shape"
   ]
  },
  {
   "cell_type": "code",
   "execution_count": 25,
   "metadata": {},
   "outputs": [
    {
     "data": {
      "text/plain": [
       "Intercept     -8.842443\n",
       "BallControl    0.133610\n",
       "dtype: float64"
      ]
     },
     "execution_count": 25,
     "metadata": {},
     "output_type": "execute_result"
    }
   ],
   "source": [
    "model21 = smf.glm(formula = 'position_cnt ~ BallControl', data=df_poisson2, family=sm.families.Poisson())\n",
    "model21 = model21.fit()\n",
    "model21.params"
   ]
  },
  {
   "cell_type": "code",
   "execution_count": 26,
   "metadata": {},
   "outputs": [
    {
     "data": {
      "image/png": "[encoded data removed]",
      "text/plain": [
       "<Figure size 720x288 with 2 Axes>"
      ]
     },
     "metadata": {
      "needs_background": "light"
     },
     "output_type": "display_data"
    }
   ],
   "source": [
    "residual_plots(model21)"
   ]
  },
  {
   "cell_type": "code",
   "execution_count": 27,
   "metadata": {},
   "outputs": [
    {
     "data": {
      "text/html": [
       "<table class=\"simpletable\">\n",
       "<caption>Generalized Linear Model Regression Results</caption>\n",
       "<tr>\n",
       "  <th>Dep. Variable:</th>    <td>position_cnt</td>   <th>  No. Observations:  </th>  <td>  1475</td>  \n",
       "</tr>\n",
       "<tr>\n",
       "  <th>Model:</th>                 <td>GLM</td>       <th>  Df Residuals:      </th>  <td>  1473</td>  \n",
       "</tr>\n",
       "<tr>\n",
       "  <th>Model Family:</th>        <td>Poisson</td>     <th>  Df Model:          </th>  <td>     1</td>  \n",
       "</tr>\n",
       "<tr>\n",
       "  <th>Link Function:</th>         <td>log</td>       <th>  Scale:             </th> <td>  1.0000</td> \n",
       "</tr>\n",
       "<tr>\n",
       "  <th>Method:</th>               <td>IRLS</td>       <th>  Log-Likelihood:    </th> <td> -4801.0</td> \n",
       "</tr>\n",
       "<tr>\n",
       "  <th>Date:</th>           <td>Fri, 09 Aug 2019</td> <th>  Deviance:          </th> <td>  6612.3</td> \n",
       "</tr>\n",
       "<tr>\n",
       "  <th>Time:</th>               <td>11:40:39</td>     <th>  Pearson chi2:      </th> <td>6.88e+03</td> \n",
       "</tr>\n",
       "<tr>\n",
       "  <th>No. Iterations:</th>         <td>5</td>        <th>  Covariance Type:   </th> <td>nonrobust</td>\n",
       "</tr>\n",
       "</table>\n",
       "<table class=\"simpletable\">\n",
       "<tr>\n",
       "       <td></td>          <th>coef</th>     <th>std err</th>      <th>z</th>      <th>P>|z|</th>  <th>[0.025</th>    <th>0.975]</th>  \n",
       "</tr>\n",
       "<tr>\n",
       "  <th>Intercept</th>   <td>   -8.8424</td> <td>    0.152</td> <td>  -58.001</td> <td> 0.000</td> <td>   -9.141</td> <td>   -8.544</td>\n",
       "</tr>\n",
       "<tr>\n",
       "  <th>BallControl</th> <td>    0.1336</td> <td>    0.002</td> <td>   71.399</td> <td> 0.000</td> <td>    0.130</td> <td>    0.137</td>\n",
       "</tr>\n",
       "</table>"
      ],
      "text/plain": [
       "<class 'statsmodels.iolib.summary.Summary'>\n",
       "\"\"\"\n",
       "                 Generalized Linear Model Regression Results                  \n",
       "==============================================================================\n",
       "Dep. Variable:           position_cnt   No. Observations:                 1475\n",
       "Model:                            GLM   Df Residuals:                     1473\n",
       "Model Family:                 Poisson   Df Model:                            1\n",
       "Link Function:                    log   Scale:                          1.0000\n",
       "Method:                          IRLS   Log-Likelihood:                -4801.0\n",
       "Date:                Fri, 09 Aug 2019   Deviance:                       6612.3\n",
       "Time:                        11:40:39   Pearson chi2:                 6.88e+03\n",
       "No. Iterations:                     5   Covariance Type:             nonrobust\n",
       "===============================================================================\n",
       "                  coef    std err          z      P>|z|      [0.025      0.975]\n",
       "-------------------------------------------------------------------------------\n",
       "Intercept      -8.8424      0.152    -58.001      0.000      -9.141      -8.544\n",
       "BallControl     0.1336      0.002     71.399      0.000       0.130       0.137\n",
       "===============================================================================\n",
       "\"\"\""
      ]
     },
     "execution_count": 27,
     "metadata": {},
     "output_type": "execute_result"
    }
   ],
   "source": [
    "model21.summary()"
   ]
  },
  {
   "cell_type": "code",
   "execution_count": 28,
   "metadata": {},
   "outputs": [
    {
     "data": {
      "text/plain": [
       "Intercept     -11.968023\n",
       "BallControl     0.076069\n",
       "Reactions       0.098684\n",
       "dtype: float64"
      ]
     },
     "execution_count": 28,
     "metadata": {},
     "output_type": "execute_result"
    }
   ],
   "source": [
    "model22 = smf.glm(formula = 'position_cnt ~ BallControl + Reactions', data=df_poisson2, family=sm.families.Poisson())\n",
    "model22 = model22.fit()\n",
    "model22.params"
   ]
  },
  {
   "cell_type": "code",
   "execution_count": 29,
   "metadata": {},
   "outputs": [
    {
     "data": {
      "image/png": "[encoded data removed]",
      "text/plain": [
       "<Figure size 720x288 with 2 Axes>"
      ]
     },
     "metadata": {
      "needs_background": "light"
     },
     "output_type": "display_data"
    }
   ],
   "source": [
    "residual_plots(model22)"
   ]
  },
  {
   "cell_type": "markdown",
   "metadata": {},
   "source": [
    "It is important to be aware that the range of response (position_count) is bounded (to 26 max) and hence violates one of the assumptions of Poisson regression"
   ]
  },
  {
   "cell_type": "code",
   "execution_count": null,
   "metadata": {},
   "outputs": [],
   "source": []
  },
  {
   "cell_type": "markdown",
   "metadata": {},
   "source": [
    "## ANOVA Test"
   ]
  },
  {
   "cell_type": "markdown",
   "metadata": {},
   "source": [
    "1. For multivariate regression, using log_Value as target variable (refer to exercise in the linear regression chapter), fit two models:\n",
    "    1. Model 1: log_Value ~ age_cat\n",
    "    1. Model 2: log_Value ~ age_cat + BallControl\n",
    "    \n",
    "  Also perform ANOVA to compare Model 1 and Model 2. What is your conclusion? Look at the t-value of BallControl for Model 2, and look at the F-value for the ANOVA. What is the relationship between these two values?\n",
    "\n",
    "\n",
    "**Answer**\n",
    "- The model summary shows that the added BallControl variable in model 2 is statistically significant.\n",
    "- Anova results also show that BallControl brings significant improvement of the linear model.\n",
    "- The t-value in model2 for BallControl is 28.73, and F-value in ANOVA is 825.43, which is the square of t-value. Essentially the individual feature test in Model 2 is the same as anova test for BallControl."
   ]
  },
  {
   "cell_type": "code",
   "execution_count": 30,
   "metadata": {},
   "outputs": [],
   "source": [
    "def convert_str_value_to_numeric(str_value):\n",
    "    if str_value in ['NaN', 'nan', np.nan]:\n",
    "        return np.nan\n",
    "    else:\n",
    "        if str_value.endswith('K'):\n",
    "            multiplier = 1\n",
    "        elif str_value.endswith('M'):\n",
    "            multiplier = 1000\n",
    "        else:\n",
    "            multiplier = 1\n",
    "        \n",
    "        re_pattern = re.compile('[^0-9\\.\\-]')\n",
    "        return float(re.sub(re_pattern, '', str_value)) * multiplier"
   ]
  },
  {
   "cell_type": "code",
   "execution_count": 31,
   "metadata": {},
   "outputs": [],
   "source": [
    "df_anova = df_poisson.copy()\n",
    "df_anova['Value'] = df_anova['Value'].apply(convert_str_value_to_numeric)\n",
    "df_anova['Wage'] = df_anova['Wage'].apply(convert_str_value_to_numeric)\n",
    "df_anova['Release Clause'] = df_anova['Release Clause'].apply(convert_str_value_to_numeric)"
   ]
  },
  {
   "cell_type": "code",
   "execution_count": 32,
   "metadata": {},
   "outputs": [],
   "source": [
    "df_anova= df_anova[df_anova['Value'] > 50].copy()\n",
    "df_anova['log_Value'] = np.log(df_anova['Value'])"
   ]
  },
  {
   "cell_type": "code",
   "execution_count": 33,
   "metadata": {},
   "outputs": [],
   "source": [
    "age_cat = pd.cut(\n",
    "    df_anova['Age'], \n",
    "    [0, 22, 31, 50],\n",
    "    ['22 and under', '23-31', '32+'])\n",
    "\n",
    "df_anova['age_cat'] = age_cat"
   ]
  },
  {
   "cell_type": "code",
   "execution_count": 34,
   "metadata": {},
   "outputs": [
    {
     "data": {
      "text/html": [
       "<table class=\"simpletable\">\n",
       "<caption>OLS Regression Results</caption>\n",
       "<tr>\n",
       "  <th>Dep. Variable:</th>        <td>log_Value</td>    <th>  R-squared:         </th> <td>   0.562</td> \n",
       "</tr>\n",
       "<tr>\n",
       "  <th>Model:</th>                   <td>OLS</td>       <th>  Adj. R-squared:    </th> <td>   0.561</td> \n",
       "</tr>\n",
       "<tr>\n",
       "  <th>Method:</th>             <td>Least Squares</td>  <th>  F-statistic:       </th> <td>   622.6</td> \n",
       "</tr>\n",
       "<tr>\n",
       "  <th>Date:</th>             <td>Fri, 09 Aug 2019</td> <th>  Prob (F-statistic):</th> <td>3.18e-260</td>\n",
       "</tr>\n",
       "<tr>\n",
       "  <th>Time:</th>                 <td>11:40:40</td>     <th>  Log-Likelihood:    </th> <td> -1767.1</td> \n",
       "</tr>\n",
       "<tr>\n",
       "  <th>No. Observations:</th>      <td>  1458</td>      <th>  AIC:               </th> <td>   3542.</td> \n",
       "</tr>\n",
       "<tr>\n",
       "  <th>Df Residuals:</th>          <td>  1454</td>      <th>  BIC:               </th> <td>   3563.</td> \n",
       "</tr>\n",
       "<tr>\n",
       "  <th>Df Model:</th>              <td>     3</td>      <th>                     </th>     <td> </td>    \n",
       "</tr>\n",
       "<tr>\n",
       "  <th>Covariance Type:</th>      <td>nonrobust</td>    <th>                     </th>     <td> </td>    \n",
       "</tr>\n",
       "</table>\n",
       "<table class=\"simpletable\">\n",
       "<tr>\n",
       "                       <td></td>                          <th>coef</th>     <th>std err</th>      <th>t</th>      <th>P>|t|</th>  <th>[0.025</th>    <th>0.975]</th>  \n",
       "</tr>\n",
       "<tr>\n",
       "  <th>Intercept</th>                                   <td>    3.8527</td> <td>    0.231</td> <td>   16.703</td> <td> 0.000</td> <td>    3.400</td> <td>    4.305</td>\n",
       "</tr>\n",
       "<tr>\n",
       "  <th>age_cat[T.Interval(22, 31, closed='right')]</th> <td>   -0.4181</td> <td>    0.103</td> <td>   -4.057</td> <td> 0.000</td> <td>   -0.620</td> <td>   -0.216</td>\n",
       "</tr>\n",
       "<tr>\n",
       "  <th>age_cat[T.Interval(31, 50, closed='right')]</th> <td>   -1.5674</td> <td>    0.110</td> <td>  -14.288</td> <td> 0.000</td> <td>   -1.783</td> <td>   -1.352</td>\n",
       "</tr>\n",
       "<tr>\n",
       "  <th>BallControl</th>                                 <td>    0.0758</td> <td>    0.003</td> <td>   28.730</td> <td> 0.000</td> <td>    0.071</td> <td>    0.081</td>\n",
       "</tr>\n",
       "</table>\n",
       "<table class=\"simpletable\">\n",
       "<tr>\n",
       "  <th>Omnibus:</th>       <td>26.018</td> <th>  Durbin-Watson:     </th> <td>   0.879</td>\n",
       "</tr>\n",
       "<tr>\n",
       "  <th>Prob(Omnibus):</th> <td> 0.000</td> <th>  Jarque-Bera (JB):  </th> <td>  48.555</td>\n",
       "</tr>\n",
       "<tr>\n",
       "  <th>Skew:</th>          <td> 0.055</td> <th>  Prob(JB):          </th> <td>2.86e-11</td>\n",
       "</tr>\n",
       "<tr>\n",
       "  <th>Kurtosis:</th>      <td> 3.887</td> <th>  Cond. No.          </th> <td>    875.</td>\n",
       "</tr>\n",
       "</table><br/><br/>Warnings:<br/>[1] Standard Errors assume that the covariance matrix of the errors is correctly specified."
      ],
      "text/plain": [
       "<class 'statsmodels.iolib.summary.Summary'>\n",
       "\"\"\"\n",
       "                            OLS Regression Results                            \n",
       "==============================================================================\n",
       "Dep. Variable:              log_Value   R-squared:                       0.562\n",
       "Model:                            OLS   Adj. R-squared:                  0.561\n",
       "Method:                 Least Squares   F-statistic:                     622.6\n",
       "Date:                Fri, 09 Aug 2019   Prob (F-statistic):          3.18e-260\n",
       "Time:                        11:40:40   Log-Likelihood:                -1767.1\n",
       "No. Observations:                1458   AIC:                             3542.\n",
       "Df Residuals:                    1454   BIC:                             3563.\n",
       "Df Model:                           3                                         \n",
       "Covariance Type:            nonrobust                                         \n",
       "===============================================================================================================\n",
       "                                                  coef    std err          t      P>|t|      [0.025      0.975]\n",
       "---------------------------------------------------------------------------------------------------------------\n",
       "Intercept                                       3.8527      0.231     16.703      0.000       3.400       4.305\n",
       "age_cat[T.Interval(22, 31, closed='right')]    -0.4181      0.103     -4.057      0.000      -0.620      -0.216\n",
       "age_cat[T.Interval(31, 50, closed='right')]    -1.5674      0.110    -14.288      0.000      -1.783      -1.352\n",
       "BallControl                                     0.0758      0.003     28.730      0.000       0.071       0.081\n",
       "==============================================================================\n",
       "Omnibus:                       26.018   Durbin-Watson:                   0.879\n",
       "Prob(Omnibus):                  0.000   Jarque-Bera (JB):               48.555\n",
       "Skew:                           0.055   Prob(JB):                     2.86e-11\n",
       "Kurtosis:                       3.887   Cond. No.                         875.\n",
       "==============================================================================\n",
       "\n",
       "Warnings:\n",
       "[1] Standard Errors assume that the covariance matrix of the errors is correctly specified.\n",
       "\"\"\""
      ]
     },
     "execution_count": 34,
     "metadata": {},
     "output_type": "execute_result"
    }
   ],
   "source": [
    "model1 = smf.ols(formula = 'log_Value ~ age_cat', data=df_anova)\n",
    "model1 = model1.fit()\n",
    "\n",
    "model2 = smf.ols(formula = 'log_Value ~ age_cat + BallControl', data=df_anova)\n",
    "model2 = model2.fit()\n",
    "\n",
    "model2.summary()"
   ]
  },
  {
   "cell_type": "code",
   "execution_count": 35,
   "metadata": {},
   "outputs": [
    {
     "data": {
      "text/html": [
       "<div>\n",
       "<style scoped>\n",
       "    .dataframe tbody tr th:only-of-type {\n",
       "        vertical-align: middle;\n",
       "    }\n",
       "\n",
       "    .dataframe tbody tr th {\n",
       "        vertical-align: top;\n",
       "    }\n",
       "\n",
       "    .dataframe thead th {\n",
       "        text-align: right;\n",
       "    }\n",
       "</style>\n",
       "<table border=\"1\" class=\"dataframe\">\n",
       "  <thead>\n",
       "    <tr style=\"text-align: right;\">\n",
       "      <th></th>\n",
       "      <th>df_resid</th>\n",
       "      <th>ssr</th>\n",
       "      <th>df_diff</th>\n",
       "      <th>ss_diff</th>\n",
       "      <th>F</th>\n",
       "      <th>Pr(&gt;F)</th>\n",
       "    </tr>\n",
       "  </thead>\n",
       "  <tbody>\n",
       "    <tr>\n",
       "      <th>0</th>\n",
       "      <td>1455.0</td>\n",
       "      <td>1511.026943</td>\n",
       "      <td>0.0</td>\n",
       "      <td>NaN</td>\n",
       "      <td>NaN</td>\n",
       "      <td>NaN</td>\n",
       "    </tr>\n",
       "    <tr>\n",
       "      <th>1</th>\n",
       "      <td>1454.0</td>\n",
       "      <td>963.851280</td>\n",
       "      <td>1.0</td>\n",
       "      <td>547.175664</td>\n",
       "      <td>825.431715</td>\n",
       "      <td>3.846158e-144</td>\n",
       "    </tr>\n",
       "  </tbody>\n",
       "</table>\n",
       "</div>"
      ],
      "text/plain": [
       "   df_resid          ssr  df_diff     ss_diff           F         Pr(>F)\n",
       "0    1455.0  1511.026943      0.0         NaN         NaN            NaN\n",
       "1    1454.0   963.851280      1.0  547.175664  825.431715  3.846158e-144"
      ]
     },
     "execution_count": 35,
     "metadata": {},
     "output_type": "execute_result"
    }
   ],
   "source": [
    "sm.stats.anova_lm(model1, model2)"
   ]
  },
  {
   "cell_type": "code",
   "execution_count": null,
   "metadata": {},
   "outputs": [],
   "source": []
  },
  {
   "cell_type": "markdown",
   "metadata": {},
   "source": [
    "2. For logistic regression, using is_bad_reputationas target variable, create nested models as below and perform ANOVA. Which model do youthink is the best?\n",
    "    1. Model 1: is_bad_reputation ~ Overall\n",
    "    1. Model 2: Model 1 + Potential\n",
    "    1. Model 3: Model 2 + Composure\n",
    "    1. Model 4: Model 3 + Reactions"
   ]
  },
  {
   "cell_type": "markdown",
   "metadata": {},
   "source": [
    "--> Model 3"
   ]
  },
  {
   "cell_type": "code",
   "execution_count": 36,
   "metadata": {},
   "outputs": [],
   "source": [
    "# It seems that Python statsmodels doesn't support running anova directly for glm\n",
    "# calculate the p-value \n",
    "# Please see https://thestatsgeek.com/2014/04/26/deviance-goodness-of-fit-test-for-poisson-regression/\n",
    "# in section Comparing Nested models with Deviance\n",
    "lr1 = smf.glm('is_bad_reputation ~ Overall', data=df_lr, family=sm.families.Binomial()).fit()\n",
    "lr2 = smf.glm('is_bad_reputation ~ Overall + Potential', data=df_lr, family=sm.families.Binomial()).fit()\n",
    "lr3 = smf.glm('is_bad_reputation ~ Overall + Potential + Composure ', data=df_lr, family=sm.families.Binomial()).fit()\n",
    "lr4 = smf.glm('is_bad_reputation ~ Overall + Potential + Composure + Reactions', data=df_lr, family=sm.families.Binomial()).fit()"
   ]
  },
  {
   "cell_type": "code",
   "execution_count": 37,
   "metadata": {},
   "outputs": [
    {
     "name": "stdout",
     "output_type": "stream",
     "text": [
      "the p-value for Chi-sqare test between model 1 and model 2 is  0.0\n",
      "the p-value for Chi-sqare test between model 2 and model 3 is  0.0\n",
      "the p-value for Chi-sqare test between model 3 and model 4 is  0.13227287469242077\n"
     ]
    }
   ],
   "source": [
    "print('the p-value for Chi-sqare test between model 1 and model 2 is ',1 - stats.chi2.cdf((lr1.deviance - lr2.deviance), 1))\n",
    "print('the p-value for Chi-sqare test between model 2 and model 3 is ',1 - stats.chi2.cdf((lr2.deviance - lr3.deviance), 1))\n",
    "print('the p-value for Chi-sqare test between model 3 and model 4 is ',1 - stats.chi2.cdf((lr3.deviance - lr4.deviance), 1))"
   ]
  },
  {
   "cell_type": "code",
   "execution_count": null,
   "metadata": {},
   "outputs": [],
   "source": []
  },
  {
   "cell_type": "markdown",
   "metadata": {},
   "source": [
    "3. For the Poisson regression, using positions_count as target variable create nested models as below. Conduct anova on these models. What is your conclusion?\n",
    "    1. Model 1: positions_count ~ BallControl + Reactions\n",
    "    1. Model 2: Model 1 + SlidingTackle + SprintSpeed + HeadingAccuracy + Finishing + ShortPassing\n",
    "    1. Model 3: Model 2 + Volleys + Curve"
   ]
  },
  {
   "cell_type": "code",
   "execution_count": 38,
   "metadata": {},
   "outputs": [],
   "source": [
    "poi1 = smf.glm(formula = 'position_cnt ~ BallControl + Reactions', \n",
    "               data=df_poisson2, \n",
    "               family=sm.families.Poisson()).fit()\n",
    "poi2 = smf.glm(formula = 'position_cnt ~ BallControl +  Reactions + \\\n",
    "                SlidingTackle + SprintSpeed + \\\n",
    "                HeadingAccuracy + Finishing + ShortPassing',\n",
    "               data=df_poisson2, \n",
    "               family=sm.families.Poisson()).fit()\n",
    "poi3 = smf.glm(formula = 'position_cnt ~ BallControl +  Reactions + \\\n",
    "                SlidingTackle + SprintSpeed + \\\n",
    "                HeadingAccuracy + Finishing + ShortPassing \\\n",
    "                + Volleys + Curve',\n",
    "               data=df_poisson2, \n",
    "               family=sm.families.Poisson()).fit()"
   ]
  },
  {
   "cell_type": "code",
   "execution_count": 39,
   "metadata": {},
   "outputs": [
    {
     "name": "stdout",
     "output_type": "stream",
     "text": [
      "the p-value for Chi-sqare test between model 1 and model 2 is  0.0\n",
      "the p-value for Chi-sqare test between model 2 and model 3 is  0.348424899299699\n"
     ]
    }
   ],
   "source": [
    "print('the p-value for Chi-sqare test between model 1 and model 2 is ',1 - stats.chi2.cdf((poi1.deviance - poi2.deviance), 5))\n",
    "print('the p-value for Chi-sqare test between model 2 and model 3 is ',1 - stats.chi2.cdf((poi2.deviance - poi3.deviance), 2))"
   ]
  },
  {
   "cell_type": "markdown",
   "metadata": {},
   "source": [
    "--> Model 2"
   ]
  },
  {
   "cell_type": "code",
   "execution_count": null,
   "metadata": {},
   "outputs": [],
   "source": []
  },
  {
   "cell_type": "code",
   "execution_count": null,
   "metadata": {},
   "outputs": [],
   "source": []
  }
 ],
 "metadata": {
  "kernelspec": {
   "display_name": "Python 3",
   "language": "python",
   "name": "python3"
  },
  "language_info": {
   "codemirror_mode": {
    "name": "ipython",
    "version": 3
   },
   "file_extension": ".py",
   "mimetype": "text/x-python",
   "name": "python",
   "nbconvert_exporter": "python",
   "pygments_lexer": "ipython3",
   "version": "3.6.5"
  }
 },
 "nbformat": 4,
 "nbformat_minor": 2
}
