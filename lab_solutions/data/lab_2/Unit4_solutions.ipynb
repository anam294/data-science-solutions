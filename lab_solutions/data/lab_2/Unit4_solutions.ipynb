{
 "cells": [
  {
   "cell_type": "code",
   "execution_count": 1,
   "metadata": {},
   "outputs": [],
   "source": [
    "import re\n",
    "\n",
    "import pandas as pd\n",
    "import matplotlib.pyplot as plt\n",
    "import numpy as np\n",
    "np.seterr(all='print')\n",
    "import seaborn as sns\n",
    "import statsmodels.api as sm\n",
    "import statsmodels.formula.api as smf\n",
    "\n",
    "%matplotlib inline"
   ]
  },
  {
   "cell_type": "code",
   "execution_count": 2,
   "metadata": {},
   "outputs": [
    {
     "data": {
      "text/plain": [
       "(18207, 88)"
      ]
     },
     "execution_count": 2,
     "metadata": {},
     "output_type": "execute_result"
    }
   ],
   "source": [
    "df = pd.read_csv('../data/fifa.csv', index_col=0)\n",
    "df.shape"
   ]
  },
  {
   "cell_type": "code",
   "execution_count": 3,
   "metadata": {},
   "outputs": [],
   "source": [
    "def convert_str_value_to_numeric(str_value):\n",
    "    if str_value in ['NaN', 'nan', np.nan]:\n",
    "        return np.nan\n",
    "    else:\n",
    "        if str_value.endswith('K'):\n",
    "            multiplier = 1\n",
    "        elif str_value.endswith('M'):\n",
    "            multiplier = 1000\n",
    "        else:\n",
    "            multiplier = 1\n",
    "        \n",
    "        re_pattern = re.compile('[^0-9\\.\\-]')\n",
    "        return float(re.sub(re_pattern, '', str_value)) * multiplier"
   ]
  },
  {
   "cell_type": "code",
   "execution_count": 4,
   "metadata": {},
   "outputs": [],
   "source": [
    "df['Value'] = df['Value'].apply(convert_str_value_to_numeric)\n",
    "df['Wage'] = df['Wage'].apply(convert_str_value_to_numeric)"
   ]
  },
  {
   "cell_type": "markdown",
   "metadata": {},
   "source": [
    "## Exercise: Predict player's value from skills"
   ]
  },
  {
   "cell_type": "markdown",
   "metadata": {},
   "source": [
    "#### 1. Let's filter data by Value >= $50k. Also Lets add a column that represents the log of Value column. Lets plot a boxplots of the log_Values for different Ages - what can you tell about the relationship between Value and Age of a player?"
   ]
  },
  {
   "cell_type": "code",
   "execution_count": 5,
   "metadata": {},
   "outputs": [
    {
     "data": {
      "text/html": [
       "<div>\n",
       "<style scoped>\n",
       "    .dataframe tbody tr th:only-of-type {\n",
       "        vertical-align: middle;\n",
       "    }\n",
       "\n",
       "    .dataframe tbody tr th {\n",
       "        vertical-align: top;\n",
       "    }\n",
       "\n",
       "    .dataframe thead th {\n",
       "        text-align: right;\n",
       "    }\n",
       "</style>\n",
       "<table border=\"1\" class=\"dataframe\">\n",
       "  <thead>\n",
       "    <tr style=\"text-align: right;\">\n",
       "      <th></th>\n",
       "      <th>Value</th>\n",
       "      <th>log_Value</th>\n",
       "    </tr>\n",
       "  </thead>\n",
       "  <tbody>\n",
       "    <tr>\n",
       "      <th>0</th>\n",
       "      <td>110500.0</td>\n",
       "      <td>11.612771</td>\n",
       "    </tr>\n",
       "    <tr>\n",
       "      <th>1</th>\n",
       "      <td>77000.0</td>\n",
       "      <td>11.251561</td>\n",
       "    </tr>\n",
       "    <tr>\n",
       "      <th>2</th>\n",
       "      <td>118500.0</td>\n",
       "      <td>11.682668</td>\n",
       "    </tr>\n",
       "    <tr>\n",
       "      <th>3</th>\n",
       "      <td>72000.0</td>\n",
       "      <td>11.184421</td>\n",
       "    </tr>\n",
       "    <tr>\n",
       "      <th>4</th>\n",
       "      <td>102000.0</td>\n",
       "      <td>11.532728</td>\n",
       "    </tr>\n",
       "  </tbody>\n",
       "</table>\n",
       "</div>"
      ],
      "text/plain": [
       "      Value  log_Value\n",
       "0  110500.0  11.612771\n",
       "1   77000.0  11.251561\n",
       "2  118500.0  11.682668\n",
       "3   72000.0  11.184421\n",
       "4  102000.0  11.532728"
      ]
     },
     "execution_count": 5,
     "metadata": {},
     "output_type": "execute_result"
    }
   ],
   "source": [
    "data_df = df[df['Value'] >= 50].copy()\n",
    "data_df['log_Value'] = np.log(data_df['Value'])\n",
    "\n",
    "data_df[['Value', 'log_Value']].head()"
   ]
  },
  {
   "cell_type": "code",
   "execution_count": 6,
   "metadata": {},
   "outputs": [
    {
     "data": {
      "text/plain": [
       "<matplotlib.axes._subplots.AxesSubplot at 0x11c4d1630>"
      ]
     },
     "execution_count": 6,
     "metadata": {},
     "output_type": "execute_result"
    },
    {
     "data": {
      "image/png": "[encoded data removed]",
      "text/plain": [
       "<Figure size 432x288 with 1 Axes>"
      ]
     },
     "metadata": {
      "needs_background": "light"
     },
     "output_type": "display_data"
    }
   ],
   "source": [
    "data_df['Value'].hist()"
   ]
  },
  {
   "cell_type": "code",
   "execution_count": 7,
   "metadata": {},
   "outputs": [
    {
     "data": {
      "text/plain": [
       "<matplotlib.axes._subplots.AxesSubplot at 0x11c0e1400>"
      ]
     },
     "execution_count": 7,
     "metadata": {},
     "output_type": "execute_result"
    },
    {
     "data": {
      "image/png": "[encoded data removed]",
      "text/plain": [
       "<Figure size 432x288 with 1 Axes>"
      ]
     },
     "metadata": {
      "needs_background": "light"
     },
     "output_type": "display_data"
    }
   ],
   "source": [
    "data_df['log_Value'].hist()"
   ]
  },
  {
   "cell_type": "code",
   "execution_count": 8,
   "metadata": {},
   "outputs": [
    {
     "data": {
      "text/plain": [
       "(17831, 89)"
      ]
     },
     "execution_count": 8,
     "metadata": {},
     "output_type": "execute_result"
    }
   ],
   "source": [
    "data_df.shape"
   ]
  },
  {
   "cell_type": "markdown",
   "metadata": {},
   "source": [
    "- As intuitively expected, the value of players generally peak at age of 23 - 31. For older age groups or much younger age groups, the value generally decreases.\n",
    "- One sensible choice to make use of this observation would be to group ages to different categories - such as 'young', 'mid', 'old'\n",
    "- It is important to visualize to get a sense of the relationship between the predictor and response. In this case, in the context of linear models it would be incorrect to use Age in its raw form as a predictor since the relationship with the response variable is not monotonic"
   ]
  },
  {
   "cell_type": "code",
   "execution_count": 9,
   "metadata": {},
   "outputs": [
    {
     "data": {
      "text/plain": [
       "<matplotlib.axes._subplots.AxesSubplot at 0x11c0e1630>"
      ]
     },
     "execution_count": 9,
     "metadata": {},
     "output_type": "execute_result"
    },
    {
     "data": {
      "image/png": "[encoded data removed]",
      "text/plain": [
       "<Figure size 1296x576 with 1 Axes>"
      ]
     },
     "metadata": {
      "needs_background": "light"
     },
     "output_type": "display_data"
    }
   ],
   "source": [
    "fig, ax = plt.subplots(figsize=(18,8))\n",
    "data_df.boxplot(column='log_Value', by='Age', ax=ax)"
   ]
  },
  {
   "cell_type": "code",
   "execution_count": null,
   "metadata": {},
   "outputs": [],
   "source": []
  },
  {
   "cell_type": "code",
   "execution_count": null,
   "metadata": {},
   "outputs": [],
   "source": []
  },
  {
   "cell_type": "markdown",
   "metadata": {},
   "source": [
    "#### 2. Let’s create a categorical variable (which we will refer to as ‘age_cat’ that splits Age to 3 categories – 22 and under / 23 – 31 / 32 and over. Let’s regress ‘log_Value’ on ‘age_cat’ and show the coefficients. Can we say that the addition of the ‘age_cat’ variables is statistically significant? (hint: ANOVA F-stat)"
   ]
  },
  {
   "cell_type": "code",
   "execution_count": 10,
   "metadata": {},
   "outputs": [
    {
     "data": {
      "text/html": [
       "<div>\n",
       "<style scoped>\n",
       "    .dataframe tbody tr th:only-of-type {\n",
       "        vertical-align: middle;\n",
       "    }\n",
       "\n",
       "    .dataframe tbody tr th {\n",
       "        vertical-align: top;\n",
       "    }\n",
       "\n",
       "    .dataframe thead th {\n",
       "        text-align: right;\n",
       "    }\n",
       "</style>\n",
       "<table border=\"1\" class=\"dataframe\">\n",
       "  <thead>\n",
       "    <tr style=\"text-align: right;\">\n",
       "      <th></th>\n",
       "      <th>Age</th>\n",
       "      <th>age_cat</th>\n",
       "    </tr>\n",
       "  </thead>\n",
       "  <tbody>\n",
       "    <tr>\n",
       "      <th>0</th>\n",
       "      <td>31</td>\n",
       "      <td>(22, 31]</td>\n",
       "    </tr>\n",
       "    <tr>\n",
       "      <th>1</th>\n",
       "      <td>33</td>\n",
       "      <td>(31, 50]</td>\n",
       "    </tr>\n",
       "    <tr>\n",
       "      <th>2</th>\n",
       "      <td>26</td>\n",
       "      <td>(22, 31]</td>\n",
       "    </tr>\n",
       "    <tr>\n",
       "      <th>3</th>\n",
       "      <td>27</td>\n",
       "      <td>(22, 31]</td>\n",
       "    </tr>\n",
       "    <tr>\n",
       "      <th>4</th>\n",
       "      <td>27</td>\n",
       "      <td>(22, 31]</td>\n",
       "    </tr>\n",
       "  </tbody>\n",
       "</table>\n",
       "</div>"
      ],
      "text/plain": [
       "   Age   age_cat\n",
       "0   31  (22, 31]\n",
       "1   33  (31, 50]\n",
       "2   26  (22, 31]\n",
       "3   27  (22, 31]\n",
       "4   27  (22, 31]"
      ]
     },
     "execution_count": 10,
     "metadata": {},
     "output_type": "execute_result"
    }
   ],
   "source": [
    "age_cat = pd.cut(data_df['Age'],  [0, 22, 31, 50],)\n",
    "data_df['age_cat'] = age_cat\n",
    "data_df[['Age', 'age_cat']].head()"
   ]
  },
  {
   "cell_type": "code",
   "execution_count": 11,
   "metadata": {},
   "outputs": [
    {
     "data": {
      "text/plain": [
       "[Interval(22, 31, closed='right'),\n",
       " Interval(31, 50, closed='right'),\n",
       " Interval(0, 22, closed='right')]"
      ]
     },
     "execution_count": 11,
     "metadata": {},
     "output_type": "execute_result"
    }
   ],
   "source": [
    "data_df['age_cat'].unique().tolist()"
   ]
  },
  {
   "cell_type": "code",
   "execution_count": 12,
   "metadata": {},
   "outputs": [
    {
     "data": {
      "text/html": [
       "<table class=\"simpletable\">\n",
       "<caption>OLS Regression Results</caption>\n",
       "<tr>\n",
       "  <th>Dep. Variable:</th>        <td>log_Value</td>    <th>  R-squared:         </th> <td>   0.099</td> \n",
       "</tr>\n",
       "<tr>\n",
       "  <th>Model:</th>                   <td>OLS</td>       <th>  Adj. R-squared:    </th> <td>   0.099</td> \n",
       "</tr>\n",
       "<tr>\n",
       "  <th>Method:</th>             <td>Least Squares</td>  <th>  F-statistic:       </th> <td>   978.9</td> \n",
       "</tr>\n",
       "<tr>\n",
       "  <th>Date:</th>             <td>Fri, 26 Jul 2019</td> <th>  Prob (F-statistic):</th>  <td>  0.00</td>  \n",
       "</tr>\n",
       "<tr>\n",
       "  <th>Time:</th>                 <td>16:25:39</td>     <th>  Log-Likelihood:    </th> <td> -30143.</td> \n",
       "</tr>\n",
       "<tr>\n",
       "  <th>No. Observations:</th>      <td> 17831</td>      <th>  AIC:               </th> <td>6.029e+04</td>\n",
       "</tr>\n",
       "<tr>\n",
       "  <th>Df Residuals:</th>          <td> 17828</td>      <th>  BIC:               </th> <td>6.031e+04</td>\n",
       "</tr>\n",
       "<tr>\n",
       "  <th>Df Model:</th>              <td>     2</td>      <th>                     </th>     <td> </td>    \n",
       "</tr>\n",
       "<tr>\n",
       "  <th>Covariance Type:</th>      <td>nonrobust</td>    <th>                     </th>     <td> </td>    \n",
       "</tr>\n",
       "</table>\n",
       "<table class=\"simpletable\">\n",
       "<tr>\n",
       "                         <td></td>                           <th>coef</th>     <th>std err</th>      <th>t</th>      <th>P>|t|</th>  <th>[0.025</th>    <th>0.975]</th>  \n",
       "</tr>\n",
       "<tr>\n",
       "  <th>Intercept</th>                                      <td>    6.1849</td> <td>    0.017</td> <td>  365.280</td> <td> 0.000</td> <td>    6.152</td> <td>    6.218</td>\n",
       "</tr>\n",
       "<tr>\n",
       "  <th>C(age_cat)[T.Interval(22, 31, closed='right')]</th> <td>    0.9269</td> <td>    0.021</td> <td>   43.322</td> <td> 0.000</td> <td>    0.885</td> <td>    0.969</td>\n",
       "</tr>\n",
       "<tr>\n",
       "  <th>C(age_cat)[T.Interval(31, 50, closed='right')]</th> <td>    0.2844</td> <td>    0.036</td> <td>    8.005</td> <td> 0.000</td> <td>    0.215</td> <td>    0.354</td>\n",
       "</tr>\n",
       "</table>\n",
       "<table class=\"simpletable\">\n",
       "<tr>\n",
       "  <th>Omnibus:</th>       <td>741.975</td> <th>  Durbin-Watson:     </th> <td>   0.420</td> \n",
       "</tr>\n",
       "<tr>\n",
       "  <th>Prob(Omnibus):</th> <td> 0.000</td>  <th>  Jarque-Bera (JB):  </th> <td> 837.787</td> \n",
       "</tr>\n",
       "<tr>\n",
       "  <th>Skew:</th>          <td> 0.530</td>  <th>  Prob(JB):          </th> <td>1.19e-182</td>\n",
       "</tr>\n",
       "<tr>\n",
       "  <th>Kurtosis:</th>      <td> 2.946</td>  <th>  Cond. No.          </th> <td>    4.60</td> \n",
       "</tr>\n",
       "</table><br/><br/>Warnings:<br/>[1] Standard Errors assume that the covariance matrix of the errors is correctly specified."
      ],
      "text/plain": [
       "<class 'statsmodels.iolib.summary.Summary'>\n",
       "\"\"\"\n",
       "                            OLS Regression Results                            \n",
       "==============================================================================\n",
       "Dep. Variable:              log_Value   R-squared:                       0.099\n",
       "Model:                            OLS   Adj. R-squared:                  0.099\n",
       "Method:                 Least Squares   F-statistic:                     978.9\n",
       "Date:                Fri, 26 Jul 2019   Prob (F-statistic):               0.00\n",
       "Time:                        16:25:39   Log-Likelihood:                -30143.\n",
       "No. Observations:               17831   AIC:                         6.029e+04\n",
       "Df Residuals:                   17828   BIC:                         6.031e+04\n",
       "Df Model:                           2                                         \n",
       "Covariance Type:            nonrobust                                         \n",
       "==================================================================================================================\n",
       "                                                     coef    std err          t      P>|t|      [0.025      0.975]\n",
       "------------------------------------------------------------------------------------------------------------------\n",
       "Intercept                                          6.1849      0.017    365.280      0.000       6.152       6.218\n",
       "C(age_cat)[T.Interval(22, 31, closed='right')]     0.9269      0.021     43.322      0.000       0.885       0.969\n",
       "C(age_cat)[T.Interval(31, 50, closed='right')]     0.2844      0.036      8.005      0.000       0.215       0.354\n",
       "==============================================================================\n",
       "Omnibus:                      741.975   Durbin-Watson:                   0.420\n",
       "Prob(Omnibus):                  0.000   Jarque-Bera (JB):              837.787\n",
       "Skew:                           0.530   Prob(JB):                    1.19e-182\n",
       "Kurtosis:                       2.946   Cond. No.                         4.60\n",
       "==============================================================================\n",
       "\n",
       "Warnings:\n",
       "[1] Standard Errors assume that the covariance matrix of the errors is correctly specified.\n",
       "\"\"\""
      ]
     },
     "execution_count": 12,
     "metadata": {},
     "output_type": "execute_result"
    }
   ],
   "source": [
    "lm1 = smf.ols('log_Value ~ C(age_cat)', data=data_df).fit()\n",
    "lm1.summary()\n",
    "\n"
   ]
  },
  {
   "cell_type": "markdown",
   "metadata": {},
   "source": [
    "#### Model Interpretation\n",
    " Let's define three indicator variables\n",
    " ```\n",
    " C0 : 1 if age in Interval(0, 22] else 0\n",
    " C1 : 1 if age in Interval(22, 31] else 0\n",
    " C2 : 1 if age in Interval(31, 50] else 0\n",
    " ```\n",
    " Then we have \n",
    " ```\n",
    " C0 + C1 + C2 = 1\n",
    " ```\n",
    " \n",
    "The formula `'log_Value ~ C(age_cat)'` means:  \n",
    " \n",
    " ```\n",
    " log_Value ~ b0 * 1  + b1 * C1 + b2 * C2 \n",
    "           ~ b0 * (C0 + C1 + C2) + b1 * C1 + b2 * C2\n",
    "           ~ b0 * C0 + (b0 + b1) * C2 + (b0 + b2) * C3\n",
    " ```\n",
    "\n",
    "So we intepretate the coefficients as \n",
    "- Intercept: the mean log value of the age group of 22 and under\n",
    "- beta1: the additional mean log value of the age group of 23 - 31 over the 22 and under age group / it's intuitive that this beta1 is relatively large compared to beta2\n",
    "- beta2: the additional mean log value of the age group of 32 and over over the 22 and under age group\n",
    "- Yes, the F-stat is provided in the summary (p-value for F-stat is 0)"
   ]
  },
  {
   "cell_type": "markdown",
   "metadata": {},
   "source": [
    "##### Sanity Check Intepretation of the coefficients"
   ]
  },
  {
   "cell_type": "code",
   "execution_count": 13,
   "metadata": {},
   "outputs": [
    {
     "data": {
      "text/plain": [
       "(6.184858118406324, 0.9269333280574537, 0.2843846724945063)"
      ]
     },
     "execution_count": 13,
     "metadata": {},
     "output_type": "execute_result"
    }
   ],
   "source": [
    "b0, b1, b2 = lm1.params\n",
    "b0, b1, b2"
   ]
  },
  {
   "cell_type": "code",
   "execution_count": 14,
   "metadata": {},
   "outputs": [
    {
     "data": {
      "text/plain": [
       "age_cat\n",
       "(0, 22]     6.184858\n",
       "(22, 31]    7.111791\n",
       "(31, 50]    6.469243\n",
       "Name: log_Value, dtype: float64"
      ]
     },
     "execution_count": 14,
     "metadata": {},
     "output_type": "execute_result"
    }
   ],
   "source": [
    "age_group_value_mean = data_df.groupby('age_cat')['log_Value'].mean()\n",
    "age_group_value_mean"
   ]
  },
  {
   "cell_type": "code",
   "execution_count": 15,
   "metadata": {},
   "outputs": [
    {
     "data": {
      "text/plain": [
       "6.184858118406355"
      ]
     },
     "execution_count": 15,
     "metadata": {},
     "output_type": "execute_result"
    }
   ],
   "source": [
    "# the mean log value of the age group (0, 22]\n",
    "age_group_value_mean.loc[pd.Interval(left=0, right=22)]"
   ]
  },
  {
   "cell_type": "code",
   "execution_count": 16,
   "metadata": {},
   "outputs": [
    {
     "data": {
      "text/plain": [
       "0.9269333280572782"
      ]
     },
     "execution_count": 16,
     "metadata": {},
     "output_type": "execute_result"
    }
   ],
   "source": [
    "# the additional mean log value of the age group (23, 31] to the group (0, 21]\n",
    "age_group_value_mean.loc[pd.Interval(left=22, right=31)] - b0"
   ]
  },
  {
   "cell_type": "code",
   "execution_count": 17,
   "metadata": {},
   "outputs": [
    {
     "data": {
      "text/plain": [
       "0.2843846724944985"
      ]
     },
     "execution_count": 17,
     "metadata": {},
     "output_type": "execute_result"
    }
   ],
   "source": [
    "# the additional mean log value of the age group (31, 50] to the group (0, 21]\n",
    "age_group_value_mean.loc[pd.Interval(left=31, right=50)] - b0"
   ]
  },
  {
   "cell_type": "markdown",
   "metadata": {},
   "source": [
    "##### Sanity Check Residuals"
   ]
  },
  {
   "cell_type": "code",
   "execution_count": 18,
   "metadata": {},
   "outputs": [
    {
     "data": {
      "text/plain": [
       "   (0, 22]  (22, 31]  (31, 50]\n",
       "0        0         1         0\n",
       "1        0         0         1\n",
       "2        0         1         0\n",
       "3        0         1         0\n",
       "4        0         1         0"
      ]
     },
     "execution_count": 18,
     "metadata": {},
     "output_type": "execute_result"
    }
   ],
   "source": [
    "dummy_df = pd.get_dummies(data_df['age_cat'])\n",
    "dummy_df.head()"
   ]
  },
  {
   "cell_type": "code",
   "execution_count": 19,
   "metadata": {},
   "outputs": [
    {
     "data": {
      "text/plain": [
       "0    7.111791\n",
       "1    6.469243\n",
       "2    7.111791\n",
       "3    7.111791\n",
       "4    7.111791\n",
       "dtype: float64"
      ]
     },
     "execution_count": 19,
     "metadata": {},
     "output_type": "execute_result"
    }
   ],
   "source": [
    "y_pred = b0 + b1 * dummy_df.iloc[:, 1] + b2 *  dummy_df.iloc[:, 2]\n",
    "y_pred.head()"
   ]
  },
  {
   "cell_type": "code",
   "execution_count": 20,
   "metadata": {},
   "outputs": [
    {
     "data": {
      "text/plain": [
       "0    4.500979\n",
       "1    4.782318\n",
       "2    4.570877\n",
       "3    4.072630\n",
       "4    4.420937\n",
       "dtype: float64"
      ]
     },
     "execution_count": 20,
     "metadata": {},
     "output_type": "execute_result"
    }
   ],
   "source": [
    "#compute residual\n",
    "res = data_df['log_Value'] - y_pred\n",
    "res.head()"
   ]
  },
  {
   "cell_type": "code",
   "execution_count": 21,
   "metadata": {},
   "outputs": [
    {
     "data": {
      "text/plain": [
       "0    4.500979\n",
       "1    4.782318\n",
       "2    4.570877\n",
       "3    4.072630\n",
       "4    4.420937\n",
       "dtype: float64"
      ]
     },
     "execution_count": 21,
     "metadata": {},
     "output_type": "execute_result"
    }
   ],
   "source": [
    "# model output residual\n",
    "lm1.resid.head()"
   ]
  },
  {
   "cell_type": "code",
   "execution_count": 22,
   "metadata": {},
   "outputs": [
    {
     "data": {
      "text/plain": [
       "0"
      ]
     },
     "execution_count": 22,
     "metadata": {},
     "output_type": "execute_result"
    }
   ],
   "source": [
    "# computed residual should be equal to the model output residual\n",
    "np.sum(lm1.resid.values !=  res)"
   ]
  },
  {
   "cell_type": "markdown",
   "metadata": {},
   "source": [
    "#### 3. In addition to the previous model's predictors let's add 'BallControl' and again fit OLS. What are the R-squared and coefficients?"
   ]
  },
  {
   "cell_type": "markdown",
   "metadata": {},
   "source": [
    "- R squared and coefficients shown below"
   ]
  },
  {
   "cell_type": "code",
   "execution_count": 23,
   "metadata": {},
   "outputs": [
    {
     "data": {
      "text/html": [
       "<table class=\"simpletable\">\n",
       "<caption>OLS Regression Results</caption>\n",
       "<tr>\n",
       "  <th>Dep. Variable:</th>        <td>log_Value</td>    <th>  R-squared:         </th> <td>   0.320</td> \n",
       "</tr>\n",
       "<tr>\n",
       "  <th>Model:</th>                   <td>OLS</td>       <th>  Adj. R-squared:    </th> <td>   0.320</td> \n",
       "</tr>\n",
       "<tr>\n",
       "  <th>Method:</th>             <td>Least Squares</td>  <th>  F-statistic:       </th> <td>   2787.</td> \n",
       "</tr>\n",
       "<tr>\n",
       "  <th>Date:</th>             <td>Fri, 26 Jul 2019</td> <th>  Prob (F-statistic):</th>  <td>  0.00</td>  \n",
       "</tr>\n",
       "<tr>\n",
       "  <th>Time:</th>                 <td>16:25:39</td>     <th>  Log-Likelihood:    </th> <td> -27572.</td> \n",
       "</tr>\n",
       "<tr>\n",
       "  <th>No. Observations:</th>      <td> 17783</td>      <th>  AIC:               </th> <td>5.515e+04</td>\n",
       "</tr>\n",
       "<tr>\n",
       "  <th>Df Residuals:</th>          <td> 17779</td>      <th>  BIC:               </th> <td>5.518e+04</td>\n",
       "</tr>\n",
       "<tr>\n",
       "  <th>Df Model:</th>              <td>     3</td>      <th>                     </th>     <td> </td>    \n",
       "</tr>\n",
       "<tr>\n",
       "  <th>Covariance Type:</th>      <td>nonrobust</td>    <th>                     </th>     <td> </td>    \n",
       "</tr>\n",
       "</table>\n",
       "<table class=\"simpletable\">\n",
       "<tr>\n",
       "                         <td></td>                           <th>coef</th>     <th>std err</th>      <th>t</th>      <th>P>|t|</th>  <th>[0.025</th>    <th>0.975]</th>  \n",
       "</tr>\n",
       "<tr>\n",
       "  <th>Intercept</th>                                      <td>    3.9841</td> <td>    0.033</td> <td>  122.472</td> <td> 0.000</td> <td>    3.920</td> <td>    4.048</td>\n",
       "</tr>\n",
       "<tr>\n",
       "  <th>C(age_cat)[T.Interval(22, 31, closed='right')]</th> <td>    0.7156</td> <td>    0.019</td> <td>   37.984</td> <td> 0.000</td> <td>    0.679</td> <td>    0.753</td>\n",
       "</tr>\n",
       "<tr>\n",
       "  <th>C(age_cat)[T.Interval(31, 50, closed='right')]</th> <td>    0.1998</td> <td>    0.031</td> <td>    6.456</td> <td> 0.000</td> <td>    0.139</td> <td>    0.260</td>\n",
       "</tr>\n",
       "<tr>\n",
       "  <th>BallControl</th>                                    <td>    0.0398</td> <td>    0.001</td> <td>   75.889</td> <td> 0.000</td> <td>    0.039</td> <td>    0.041</td>\n",
       "</tr>\n",
       "</table>\n",
       "<table class=\"simpletable\">\n",
       "<tr>\n",
       "  <th>Omnibus:</th>       <td>1271.144</td> <th>  Durbin-Watson:     </th> <td>   0.712</td>\n",
       "</tr>\n",
       "<tr>\n",
       "  <th>Prob(Omnibus):</th>  <td> 0.000</td>  <th>  Jarque-Bera (JB):  </th> <td>1579.903</td>\n",
       "</tr>\n",
       "<tr>\n",
       "  <th>Skew:</th>           <td> 0.681</td>  <th>  Prob(JB):          </th> <td>    0.00</td>\n",
       "</tr>\n",
       "<tr>\n",
       "  <th>Kurtosis:</th>       <td> 3.526</td>  <th>  Cond. No.          </th> <td>    253.</td>\n",
       "</tr>\n",
       "</table><br/><br/>Warnings:<br/>[1] Standard Errors assume that the covariance matrix of the errors is correctly specified."
      ],
      "text/plain": [
       "<class 'statsmodels.iolib.summary.Summary'>\n",
       "\"\"\"\n",
       "                            OLS Regression Results                            \n",
       "==============================================================================\n",
       "Dep. Variable:              log_Value   R-squared:                       0.320\n",
       "Model:                            OLS   Adj. R-squared:                  0.320\n",
       "Method:                 Least Squares   F-statistic:                     2787.\n",
       "Date:                Fri, 26 Jul 2019   Prob (F-statistic):               0.00\n",
       "Time:                        16:25:39   Log-Likelihood:                -27572.\n",
       "No. Observations:               17783   AIC:                         5.515e+04\n",
       "Df Residuals:                   17779   BIC:                         5.518e+04\n",
       "Df Model:                           3                                         \n",
       "Covariance Type:            nonrobust                                         \n",
       "==================================================================================================================\n",
       "                                                     coef    std err          t      P>|t|      [0.025      0.975]\n",
       "------------------------------------------------------------------------------------------------------------------\n",
       "Intercept                                          3.9841      0.033    122.472      0.000       3.920       4.048\n",
       "C(age_cat)[T.Interval(22, 31, closed='right')]     0.7156      0.019     37.984      0.000       0.679       0.753\n",
       "C(age_cat)[T.Interval(31, 50, closed='right')]     0.1998      0.031      6.456      0.000       0.139       0.260\n",
       "BallControl                                        0.0398      0.001     75.889      0.000       0.039       0.041\n",
       "==============================================================================\n",
       "Omnibus:                     1271.144   Durbin-Watson:                   0.712\n",
       "Prob(Omnibus):                  0.000   Jarque-Bera (JB):             1579.903\n",
       "Skew:                           0.681   Prob(JB):                         0.00\n",
       "Kurtosis:                       3.526   Cond. No.                         253.\n",
       "==============================================================================\n",
       "\n",
       "Warnings:\n",
       "[1] Standard Errors assume that the covariance matrix of the errors is correctly specified.\n",
       "\"\"\""
      ]
     },
     "execution_count": 23,
     "metadata": {},
     "output_type": "execute_result"
    }
   ],
   "source": [
    "lm2 = smf.ols('log_Value ~ C(age_cat) + BallControl', data=data_df).fit()\n",
    "lm2.summary()"
   ]
  },
  {
   "cell_type": "code",
   "execution_count": null,
   "metadata": {},
   "outputs": [],
   "source": []
  },
  {
   "cell_type": "code",
   "execution_count": null,
   "metadata": {},
   "outputs": [],
   "source": []
  },
  {
   "cell_type": "markdown",
   "metadata": {},
   "source": [
    "#### 4. In addition to the previous model's predictors let's add 'Finishing' and again fit OLS. Do you see anything unintuitive about the coefficient on 'Finishing'?"
   ]
  },
  {
   "cell_type": "markdown",
   "metadata": {},
   "source": [
    "- Result of OLS shown below\n",
    "- It is unintuitive that we see a negative coefficient assigned to the Finishing skill (so with all other variables constant, the model says that as 'Finishing' skill increases, the log value would decrease. There could be several different causes of this:\n",
    "    - Finishing skill matters for specific types of players - particularly the attackers -> we will create interaction features in the next question (domain knowledge would be important here)\n",
    "    - Finishing skill may be highly correlated with other features in the regression. Therefore, when we look at the relationship between log value vs. Finishing skill, with the effects from the other features taken out (from the log value and from the Finishing skill), the residual relationship might be negatively correlated.\n",
    "    - Coefficient is not statistically significant (due to issues such as multi-collinearity)"
   ]
  },
  {
   "cell_type": "code",
   "execution_count": 24,
   "metadata": {},
   "outputs": [
    {
     "data": {
      "text/html": [
       "<table class=\"simpletable\">\n",
       "<caption>OLS Regression Results</caption>\n",
       "<tr>\n",
       "  <th>Dep. Variable:</th>        <td>log_Value</td>    <th>  R-squared:         </th> <td>   0.320</td> \n",
       "</tr>\n",
       "<tr>\n",
       "  <th>Model:</th>                   <td>OLS</td>       <th>  Adj. R-squared:    </th> <td>   0.320</td> \n",
       "</tr>\n",
       "<tr>\n",
       "  <th>Method:</th>             <td>Least Squares</td>  <th>  F-statistic:       </th> <td>   2092.</td> \n",
       "</tr>\n",
       "<tr>\n",
       "  <th>Date:</th>             <td>Fri, 26 Jul 2019</td> <th>  Prob (F-statistic):</th>  <td>  0.00</td>  \n",
       "</tr>\n",
       "<tr>\n",
       "  <th>Time:</th>                 <td>16:25:39</td>     <th>  Log-Likelihood:    </th> <td> -27570.</td> \n",
       "</tr>\n",
       "<tr>\n",
       "  <th>No. Observations:</th>      <td> 17783</td>      <th>  AIC:               </th> <td>5.515e+04</td>\n",
       "</tr>\n",
       "<tr>\n",
       "  <th>Df Residuals:</th>          <td> 17778</td>      <th>  BIC:               </th> <td>5.519e+04</td>\n",
       "</tr>\n",
       "<tr>\n",
       "  <th>Df Model:</th>              <td>     4</td>      <th>                     </th>     <td> </td>    \n",
       "</tr>\n",
       "<tr>\n",
       "  <th>Covariance Type:</th>      <td>nonrobust</td>    <th>                     </th>     <td> </td>    \n",
       "</tr>\n",
       "</table>\n",
       "<table class=\"simpletable\">\n",
       "<tr>\n",
       "                         <td></td>                           <th>coef</th>     <th>std err</th>      <th>t</th>      <th>P>|t|</th>  <th>[0.025</th>    <th>0.975]</th>  \n",
       "</tr>\n",
       "<tr>\n",
       "  <th>Intercept</th>                                      <td>    3.9731</td> <td>    0.033</td> <td>  120.095</td> <td> 0.000</td> <td>    3.908</td> <td>    4.038</td>\n",
       "</tr>\n",
       "<tr>\n",
       "  <th>C(age_cat)[T.Interval(22, 31, closed='right')]</th> <td>    0.7159</td> <td>    0.019</td> <td>   37.998</td> <td> 0.000</td> <td>    0.679</td> <td>    0.753</td>\n",
       "</tr>\n",
       "<tr>\n",
       "  <th>C(age_cat)[T.Interval(31, 50, closed='right')]</th> <td>    0.2001</td> <td>    0.031</td> <td>    6.466</td> <td> 0.000</td> <td>    0.139</td> <td>    0.261</td>\n",
       "</tr>\n",
       "<tr>\n",
       "  <th>BallControl</th>                                    <td>    0.0410</td> <td>    0.001</td> <td>   48.789</td> <td> 0.000</td> <td>    0.039</td> <td>    0.043</td>\n",
       "</tr>\n",
       "<tr>\n",
       "  <th>Finishing</th>                                      <td>   -0.0013</td> <td>    0.001</td> <td>   -1.828</td> <td> 0.068</td> <td>   -0.003</td> <td> 9.37e-05</td>\n",
       "</tr>\n",
       "</table>\n",
       "<table class=\"simpletable\">\n",
       "<tr>\n",
       "  <th>Omnibus:</th>       <td>1273.082</td> <th>  Durbin-Watson:     </th> <td>   0.713</td>\n",
       "</tr>\n",
       "<tr>\n",
       "  <th>Prob(Omnibus):</th>  <td> 0.000</td>  <th>  Jarque-Bera (JB):  </th> <td>1583.298</td>\n",
       "</tr>\n",
       "<tr>\n",
       "  <th>Skew:</th>           <td> 0.681</td>  <th>  Prob(JB):          </th> <td>    0.00</td>\n",
       "</tr>\n",
       "<tr>\n",
       "  <th>Kurtosis:</th>       <td> 3.529</td>  <th>  Cond. No.          </th> <td>    327.</td>\n",
       "</tr>\n",
       "</table><br/><br/>Warnings:<br/>[1] Standard Errors assume that the covariance matrix of the errors is correctly specified."
      ],
      "text/plain": [
       "<class 'statsmodels.iolib.summary.Summary'>\n",
       "\"\"\"\n",
       "                            OLS Regression Results                            \n",
       "==============================================================================\n",
       "Dep. Variable:              log_Value   R-squared:                       0.320\n",
       "Model:                            OLS   Adj. R-squared:                  0.320\n",
       "Method:                 Least Squares   F-statistic:                     2092.\n",
       "Date:                Fri, 26 Jul 2019   Prob (F-statistic):               0.00\n",
       "Time:                        16:25:39   Log-Likelihood:                -27570.\n",
       "No. Observations:               17783   AIC:                         5.515e+04\n",
       "Df Residuals:                   17778   BIC:                         5.519e+04\n",
       "Df Model:                           4                                         \n",
       "Covariance Type:            nonrobust                                         \n",
       "==================================================================================================================\n",
       "                                                     coef    std err          t      P>|t|      [0.025      0.975]\n",
       "------------------------------------------------------------------------------------------------------------------\n",
       "Intercept                                          3.9731      0.033    120.095      0.000       3.908       4.038\n",
       "C(age_cat)[T.Interval(22, 31, closed='right')]     0.7159      0.019     37.998      0.000       0.679       0.753\n",
       "C(age_cat)[T.Interval(31, 50, closed='right')]     0.2001      0.031      6.466      0.000       0.139       0.261\n",
       "BallControl                                        0.0410      0.001     48.789      0.000       0.039       0.043\n",
       "Finishing                                         -0.0013      0.001     -1.828      0.068      -0.003    9.37e-05\n",
       "==============================================================================\n",
       "Omnibus:                     1273.082   Durbin-Watson:                   0.713\n",
       "Prob(Omnibus):                  0.000   Jarque-Bera (JB):             1583.298\n",
       "Skew:                           0.681   Prob(JB):                         0.00\n",
       "Kurtosis:                       3.529   Cond. No.                         327.\n",
       "==============================================================================\n",
       "\n",
       "Warnings:\n",
       "[1] Standard Errors assume that the covariance matrix of the errors is correctly specified.\n",
       "\"\"\""
      ]
     },
     "execution_count": 24,
     "metadata": {},
     "output_type": "execute_result"
    }
   ],
   "source": [
    "lm3 = smf.ols('log_Value ~ C(age_cat) + BallControl + Finishing', data=data_df).fit()\n",
    "lm3.summary()"
   ]
  },
  {
   "cell_type": "code",
   "execution_count": null,
   "metadata": {},
   "outputs": [],
   "source": []
  },
  {
   "cell_type": "code",
   "execution_count": null,
   "metadata": {},
   "outputs": [],
   "source": []
  },
  {
   "cell_type": "markdown",
   "metadata": {},
   "source": [
    "#### 5. Perhaps the Finishing skill has more meaning if the player is in attacking position. Let's add another categorical variable called 'attacking_pos' and assign a value of 1 if position is in [ST/CF/RF/LF/CAM/RAM/LAM] and 0 otherwise"
   ]
  },
  {
   "cell_type": "code",
   "execution_count": 25,
   "metadata": {},
   "outputs": [],
   "source": [
    "attacking_positions = [\n",
    "    'ST', \n",
    "    'CF', \n",
    "    'RF', \n",
    "    'LF', \n",
    "    'CAM',\n",
    "    'RAM', \n",
    "    'LAM'\n",
    "]\n",
    "\n",
    "data_df['attacking_pos'] = data_df['Position'].isin(attacking_positions).astype(int)"
   ]
  },
  {
   "cell_type": "markdown",
   "metadata": {},
   "source": [
    "#### Let's reuse the previous OLS relationship. But in addition to the 'Finishing' predictor let's also add the 'attacking_pos' cateogorical variable and the interaction term between 'attacking_pos' and 'Finishing'. Please show the coefficients. Also, what are the meanings of these added coefficients?"
   ]
  },
  {
   "cell_type": "markdown",
   "metadata": {},
   "source": [
    "- attacking_pos coefficient: the additional log value amount of player in attacking position vs. non attacking position (when all other variables stay constant)\n",
    "- Finishing coefficient: the increase in log value as finishing skill increases for a non-attacking player\n",
    "- attacking_pos:Finishing coefficient: the additional increase (additional to the 'Finishing' coefficient above) in log value as finishing skill increases for an attacking player"
   ]
  },
  {
   "cell_type": "code",
   "execution_count": 26,
   "metadata": {},
   "outputs": [
    {
     "data": {
      "text/html": [
       "<table class=\"simpletable\">\n",
       "<caption>OLS Regression Results</caption>\n",
       "<tr>\n",
       "  <th>Dep. Variable:</th>        <td>log_Value</td>    <th>  R-squared:         </th> <td>   0.370</td> \n",
       "</tr>\n",
       "<tr>\n",
       "  <th>Model:</th>                   <td>OLS</td>       <th>  Adj. R-squared:    </th> <td>   0.370</td> \n",
       "</tr>\n",
       "<tr>\n",
       "  <th>Method:</th>             <td>Least Squares</td>  <th>  F-statistic:       </th> <td>   1739.</td> \n",
       "</tr>\n",
       "<tr>\n",
       "  <th>Date:</th>             <td>Fri, 26 Jul 2019</td> <th>  Prob (F-statistic):</th>  <td>  0.00</td>  \n",
       "</tr>\n",
       "<tr>\n",
       "  <th>Time:</th>                 <td>16:25:39</td>     <th>  Log-Likelihood:    </th> <td> -26893.</td> \n",
       "</tr>\n",
       "<tr>\n",
       "  <th>No. Observations:</th>      <td> 17783</td>      <th>  AIC:               </th> <td>5.380e+04</td>\n",
       "</tr>\n",
       "<tr>\n",
       "  <th>Df Residuals:</th>          <td> 17776</td>      <th>  BIC:               </th> <td>5.386e+04</td>\n",
       "</tr>\n",
       "<tr>\n",
       "  <th>Df Model:</th>              <td>     6</td>      <th>                     </th>     <td> </td>    \n",
       "</tr>\n",
       "<tr>\n",
       "  <th>Covariance Type:</th>      <td>nonrobust</td>    <th>                     </th>     <td> </td>    \n",
       "</tr>\n",
       "</table>\n",
       "<table class=\"simpletable\">\n",
       "<tr>\n",
       "                         <td></td>                           <th>coef</th>     <th>std err</th>      <th>t</th>      <th>P>|t|</th>  <th>[0.025</th>    <th>0.975]</th>  \n",
       "</tr>\n",
       "<tr>\n",
       "  <th>Intercept</th>                                      <td>    4.1371</td> <td>    0.032</td> <td>  128.644</td> <td> 0.000</td> <td>    4.074</td> <td>    4.200</td>\n",
       "</tr>\n",
       "<tr>\n",
       "  <th>C(age_cat)[T.Interval(22, 31, closed='right')]</th> <td>    0.6063</td> <td>    0.018</td> <td>   32.968</td> <td> 0.000</td> <td>    0.570</td> <td>    0.642</td>\n",
       "</tr>\n",
       "<tr>\n",
       "  <th>C(age_cat)[T.Interval(31, 50, closed='right')]</th> <td>    0.0658</td> <td>    0.030</td> <td>    2.194</td> <td> 0.028</td> <td>    0.007</td> <td>    0.125</td>\n",
       "</tr>\n",
       "<tr>\n",
       "  <th>BallControl</th>                                    <td>    0.0415</td> <td>    0.001</td> <td>   49.141</td> <td> 0.000</td> <td>    0.040</td> <td>    0.043</td>\n",
       "</tr>\n",
       "<tr>\n",
       "  <th>attacking_pos</th>                                  <td>   -5.5145</td> <td>    0.147</td> <td>  -37.459</td> <td> 0.000</td> <td>   -5.803</td> <td>   -5.226</td>\n",
       "</tr>\n",
       "<tr>\n",
       "  <th>Finishing</th>                                      <td>   -0.0036</td> <td>    0.001</td> <td>   -4.450</td> <td> 0.000</td> <td>   -0.005</td> <td>   -0.002</td>\n",
       "</tr>\n",
       "<tr>\n",
       "  <th>attacking_pos:Finishing</th>                        <td>    0.0842</td> <td>    0.002</td> <td>   36.648</td> <td> 0.000</td> <td>    0.080</td> <td>    0.089</td>\n",
       "</tr>\n",
       "</table>\n",
       "<table class=\"simpletable\">\n",
       "<tr>\n",
       "  <th>Omnibus:</th>       <td>1402.524</td> <th>  Durbin-Watson:     </th> <td>   0.807</td>\n",
       "</tr>\n",
       "<tr>\n",
       "  <th>Prob(Omnibus):</th>  <td> 0.000</td>  <th>  Jarque-Bera (JB):  </th> <td>1840.768</td>\n",
       "</tr>\n",
       "<tr>\n",
       "  <th>Skew:</th>           <td> 0.694</td>  <th>  Prob(JB):          </th> <td>    0.00</td>\n",
       "</tr>\n",
       "<tr>\n",
       "  <th>Kurtosis:</th>       <td> 3.748</td>  <th>  Cond. No.          </th> <td>1.42e+03</td>\n",
       "</tr>\n",
       "</table><br/><br/>Warnings:<br/>[1] Standard Errors assume that the covariance matrix of the errors is correctly specified.<br/>[2] The condition number is large, 1.42e+03. This might indicate that there are<br/>strong multicollinearity or other numerical problems."
      ],
      "text/plain": [
       "<class 'statsmodels.iolib.summary.Summary'>\n",
       "\"\"\"\n",
       "                            OLS Regression Results                            \n",
       "==============================================================================\n",
       "Dep. Variable:              log_Value   R-squared:                       0.370\n",
       "Model:                            OLS   Adj. R-squared:                  0.370\n",
       "Method:                 Least Squares   F-statistic:                     1739.\n",
       "Date:                Fri, 26 Jul 2019   Prob (F-statistic):               0.00\n",
       "Time:                        16:25:39   Log-Likelihood:                -26893.\n",
       "No. Observations:               17783   AIC:                         5.380e+04\n",
       "Df Residuals:                   17776   BIC:                         5.386e+04\n",
       "Df Model:                           6                                         \n",
       "Covariance Type:            nonrobust                                         \n",
       "==================================================================================================================\n",
       "                                                     coef    std err          t      P>|t|      [0.025      0.975]\n",
       "------------------------------------------------------------------------------------------------------------------\n",
       "Intercept                                          4.1371      0.032    128.644      0.000       4.074       4.200\n",
       "C(age_cat)[T.Interval(22, 31, closed='right')]     0.6063      0.018     32.968      0.000       0.570       0.642\n",
       "C(age_cat)[T.Interval(31, 50, closed='right')]     0.0658      0.030      2.194      0.028       0.007       0.125\n",
       "BallControl                                        0.0415      0.001     49.141      0.000       0.040       0.043\n",
       "attacking_pos                                     -5.5145      0.147    -37.459      0.000      -5.803      -5.226\n",
       "Finishing                                         -0.0036      0.001     -4.450      0.000      -0.005      -0.002\n",
       "attacking_pos:Finishing                            0.0842      0.002     36.648      0.000       0.080       0.089\n",
       "==============================================================================\n",
       "Omnibus:                     1402.524   Durbin-Watson:                   0.807\n",
       "Prob(Omnibus):                  0.000   Jarque-Bera (JB):             1840.768\n",
       "Skew:                           0.694   Prob(JB):                         0.00\n",
       "Kurtosis:                       3.748   Cond. No.                     1.42e+03\n",
       "==============================================================================\n",
       "\n",
       "Warnings:\n",
       "[1] Standard Errors assume that the covariance matrix of the errors is correctly specified.\n",
       "[2] The condition number is large, 1.42e+03. This might indicate that there are\n",
       "strong multicollinearity or other numerical problems.\n",
       "\"\"\""
      ]
     },
     "execution_count": 26,
     "metadata": {},
     "output_type": "execute_result"
    }
   ],
   "source": [
    "## Note: \n",
    "# The formula \n",
    "#  'log_Value ~ I(age_cat) + BallControl + attacking_pos * Finishing' \n",
    "# is equivalent to\n",
    "#  'log_Value ~ C(age_cat) + BallControl + attacking_pos + Finishing + attacking_pos : Finishing' \n",
    "#\n",
    "# If we just want to add the interaction between attacking_pos and Finishing, we can use\n",
    "#    'log_Value ~ C(age_cat) + BallControl + I(attacking_pos * Finishing)'\n",
    "# OR 'log_Value ~ C(age_cat) + BallControl + attacking_pos : Finishing'\n",
    "## \n",
    "\n",
    "lm4 = smf.ols('log_Value ~ C(age_cat) + BallControl + attacking_pos * Finishing', data=data_df).fit()\n",
    "lm4.summary()"
   ]
  },
  {
   "cell_type": "code",
   "execution_count": null,
   "metadata": {},
   "outputs": [],
   "source": []
  },
  {
   "cell_type": "code",
   "execution_count": null,
   "metadata": {},
   "outputs": [],
   "source": []
  },
  {
   "cell_type": "markdown",
   "metadata": {},
   "source": [
    "#### 6. Let’s compare the OLS models in Q3 and Q5. Let’s use ANOVA testing to verify that the newly added group of predictors are statistically significant."
   ]
  },
  {
   "cell_type": "markdown",
   "metadata": {},
   "source": [
    "- We can see the p-value for the ANOVA testing is almost 0: hence we can conclude that the addition of the group of variables 'attacking_pos', 'Finishing', 'attacking_pos:Finishing' is statistically significant"
   ]
  },
  {
   "cell_type": "code",
   "execution_count": 27,
   "metadata": {},
   "outputs": [
    {
     "data": {
      "text/html": [
       "<div>\n",
       "<style scoped>\n",
       "    .dataframe tbody tr th:only-of-type {\n",
       "        vertical-align: middle;\n",
       "    }\n",
       "\n",
       "    .dataframe tbody tr th {\n",
       "        vertical-align: top;\n",
       "    }\n",
       "\n",
       "    .dataframe thead th {\n",
       "        text-align: right;\n",
       "    }\n",
       "</style>\n",
       "<table border=\"1\" class=\"dataframe\">\n",
       "  <thead>\n",
       "    <tr style=\"text-align: right;\">\n",
       "      <th></th>\n",
       "      <th>df_resid</th>\n",
       "      <th>ssr</th>\n",
       "      <th>df_diff</th>\n",
       "      <th>ss_diff</th>\n",
       "      <th>F</th>\n",
       "      <th>Pr(&gt;F)</th>\n",
       "    </tr>\n",
       "  </thead>\n",
       "  <tbody>\n",
       "    <tr>\n",
       "      <th>0</th>\n",
       "      <td>17779.0</td>\n",
       "      <td>23133.224911</td>\n",
       "      <td>0.0</td>\n",
       "      <td>NaN</td>\n",
       "      <td>NaN</td>\n",
       "      <td>NaN</td>\n",
       "    </tr>\n",
       "    <tr>\n",
       "      <th>1</th>\n",
       "      <td>17776.0</td>\n",
       "      <td>21434.078935</td>\n",
       "      <td>3.0</td>\n",
       "      <td>1699.145976</td>\n",
       "      <td>469.719568</td>\n",
       "      <td>9.743199e-294</td>\n",
       "    </tr>\n",
       "  </tbody>\n",
       "</table>\n",
       "</div>"
      ],
      "text/plain": [
       "   df_resid           ssr  df_diff      ss_diff           F         Pr(>F)\n",
       "0   17779.0  23133.224911      0.0          NaN         NaN            NaN\n",
       "1   17776.0  21434.078935      3.0  1699.145976  469.719568  9.743199e-294"
      ]
     },
     "execution_count": 27,
     "metadata": {},
     "output_type": "execute_result"
    }
   ],
   "source": [
    "sm.stats.anova_lm(lm2, lm4,) # add the interactions between finishing and attacking_pos "
   ]
  },
  {
   "cell_type": "code",
   "execution_count": 28,
   "metadata": {},
   "outputs": [
    {
     "data": {
      "text/html": [
       "<div>\n",
       "<style scoped>\n",
       "    .dataframe tbody tr th:only-of-type {\n",
       "        vertical-align: middle;\n",
       "    }\n",
       "\n",
       "    .dataframe tbody tr th {\n",
       "        vertical-align: top;\n",
       "    }\n",
       "\n",
       "    .dataframe thead th {\n",
       "        text-align: right;\n",
       "    }\n",
       "</style>\n",
       "<table border=\"1\" class=\"dataframe\">\n",
       "  <thead>\n",
       "    <tr style=\"text-align: right;\">\n",
       "      <th></th>\n",
       "      <th>df_resid</th>\n",
       "      <th>ssr</th>\n",
       "      <th>df_diff</th>\n",
       "      <th>ss_diff</th>\n",
       "      <th>F</th>\n",
       "      <th>Pr(&gt;F)</th>\n",
       "    </tr>\n",
       "  </thead>\n",
       "  <tbody>\n",
       "    <tr>\n",
       "      <th>0</th>\n",
       "      <td>17779.0</td>\n",
       "      <td>23133.224911</td>\n",
       "      <td>0.0</td>\n",
       "      <td>NaN</td>\n",
       "      <td>NaN</td>\n",
       "      <td>NaN</td>\n",
       "    </tr>\n",
       "    <tr>\n",
       "      <th>1</th>\n",
       "      <td>17778.0</td>\n",
       "      <td>23128.876422</td>\n",
       "      <td>1.0</td>\n",
       "      <td>4.34849</td>\n",
       "      <td>3.342465</td>\n",
       "      <td>0.06753</td>\n",
       "    </tr>\n",
       "  </tbody>\n",
       "</table>\n",
       "</div>"
      ],
      "text/plain": [
       "   df_resid           ssr  df_diff  ss_diff         F   Pr(>F)\n",
       "0   17779.0  23133.224911      0.0      NaN       NaN      NaN\n",
       "1   17778.0  23128.876422      1.0  4.34849  3.342465  0.06753"
      ]
     },
     "execution_count": 28,
     "metadata": {},
     "output_type": "execute_result"
    }
   ],
   "source": [
    "sm.stats.anova_lm(lm2, lm3,) # simply add finishing"
   ]
  },
  {
   "cell_type": "code",
   "execution_count": null,
   "metadata": {},
   "outputs": [],
   "source": []
  },
  {
   "cell_type": "markdown",
   "metadata": {},
   "source": [
    "### Appendix A\n",
    "\n",
    "- ANOVA? F-stat?"
   ]
  },
  {
   "cell_type": "markdown",
   "metadata": {},
   "source": [
    "Let's revisit model 2 (lm2) - are the coefficients significant? (ie) Can we reject the null hypothesis that beta_0 = beta_1 = ... = beta_p = 0? vs. alternative that at least one is significantly non-zero?"
   ]
  },
  {
   "cell_type": "markdown",
   "metadata": {},
   "source": [
    "F-stat = (variance explained by model) / (unexplained variance)\n",
    "\n",
    "If this value is large enough, then we can say that the coefficients are significant (reject the null)"
   ]
  },
  {
   "cell_type": "code",
   "execution_count": 29,
   "metadata": {},
   "outputs": [],
   "source": [
    "from scipy.stats import f"
   ]
  },
  {
   "cell_type": "code",
   "execution_count": 30,
   "metadata": {},
   "outputs": [],
   "source": [
    "y_vals_2 = lm2.model.endog\n",
    "\n",
    "n_2 = y_vals_2.shape[0]\n",
    "p_2 = lm2.model.exog.shape[1] # number of independent features (including intercept)"
   ]
  },
  {
   "cell_type": "code",
   "execution_count": 31,
   "metadata": {},
   "outputs": [],
   "source": [
    "df_model_2 = p_2 - 1\n",
    "df_resid_2 = n_2 - p_2"
   ]
  },
  {
   "cell_type": "code",
   "execution_count": 32,
   "metadata": {},
   "outputs": [],
   "source": [
    "# residual sum of squares\n",
    "rss_2 = (lm2.resid ** 2).sum()\n",
    "var_unexplained_2 = rss_2 / df_resid_2"
   ]
  },
  {
   "cell_type": "code",
   "execution_count": 33,
   "metadata": {},
   "outputs": [],
   "source": [
    "tss_2 = ((y_vals_2 - y_vals_2.mean()) ** 2).sum()\n",
    "ess_2 = tss_2 - rss_2\n",
    "var_explained_2 = ess_2 / df_model_2"
   ]
  },
  {
   "cell_type": "markdown",
   "metadata": {},
   "source": [
    "F-stat follows an f-distribution, hence the calculated p value below"
   ]
  },
  {
   "cell_type": "code",
   "execution_count": 34,
   "metadata": {},
   "outputs": [],
   "source": [
    "f_stat_2 = var_explained_2 / var_unexplained_2\n",
    "p_value_2 = 1 - f.cdf(f_stat_2, dfn=df_model_2, dfd=df_resid_2)"
   ]
  },
  {
   "cell_type": "markdown",
   "metadata": {},
   "source": [
    "Just sanity check vs. statsmodels api"
   ]
  },
  {
   "cell_type": "code",
   "execution_count": 35,
   "metadata": {},
   "outputs": [
    {
     "data": {
      "text/plain": [
       "(2787.401148359008, 1.1102230246251565e-16)"
      ]
     },
     "execution_count": 35,
     "metadata": {},
     "output_type": "execute_result"
    }
   ],
   "source": [
    "f_stat_2, p_value_2"
   ]
  },
  {
   "cell_type": "code",
   "execution_count": 36,
   "metadata": {},
   "outputs": [
    {
     "data": {
      "text/plain": [
       "(2787.4011483590093, 0.0)"
      ]
     },
     "execution_count": 36,
     "metadata": {},
     "output_type": "execute_result"
    }
   ],
   "source": [
    "lm2.fvalue, lm2.f_pvalue"
   ]
  },
  {
   "cell_type": "code",
   "execution_count": null,
   "metadata": {},
   "outputs": [],
   "source": []
  },
  {
   "cell_type": "markdown",
   "metadata": {},
   "source": [
    "Now lets look at model 4 (lm4) - can we say that the additional variables (compared to model 2) are statistically significant? Similar to above but slight variant"
   ]
  },
  {
   "cell_type": "markdown",
   "metadata": {},
   "source": [
    "This time, F-stat = (additional explained variance from larger model) / (unexplained variance of larger model)"
   ]
  },
  {
   "cell_type": "code",
   "execution_count": 37,
   "metadata": {},
   "outputs": [],
   "source": [
    "y_vals_4 = lm4.model.endog\n",
    "\n",
    "n_4 = y_vals_4.shape[0]\n",
    "p_4 = lm4.model.exog.shape[1] # number of independent features (including intercept)"
   ]
  },
  {
   "cell_type": "code",
   "execution_count": 38,
   "metadata": {},
   "outputs": [],
   "source": [
    "df_model_4 = p_4 - 1\n",
    "df_resid_4 = n_4 - p_4"
   ]
  },
  {
   "cell_type": "code",
   "execution_count": 39,
   "metadata": {},
   "outputs": [],
   "source": [
    "# residual sum of squares\n",
    "rss_4 = (lm4.resid ** 2).sum()"
   ]
  },
  {
   "cell_type": "code",
   "execution_count": 40,
   "metadata": {},
   "outputs": [],
   "source": [
    "var_unexplained_4 = rss_4 / df_resid_4"
   ]
  },
  {
   "cell_type": "code",
   "execution_count": 41,
   "metadata": {},
   "outputs": [],
   "source": [
    "df_numerator = p_4 - p_2"
   ]
  },
  {
   "cell_type": "code",
   "execution_count": 42,
   "metadata": {},
   "outputs": [],
   "source": [
    "additional_var_explained_4 = (rss_2 - rss_4) / df_numerator"
   ]
  },
  {
   "cell_type": "code",
   "execution_count": 43,
   "metadata": {},
   "outputs": [],
   "source": [
    "f_stat_4 = additional_var_explained_4 / var_unexplained_4"
   ]
  },
  {
   "cell_type": "code",
   "execution_count": 44,
   "metadata": {},
   "outputs": [],
   "source": [
    "f_stat_4\n",
    "p_value_4 = 1 - f.cdf(f_stat_4, dfn=df_numerator, dfd=df_resid_4)"
   ]
  },
  {
   "cell_type": "code",
   "execution_count": 45,
   "metadata": {},
   "outputs": [
    {
     "data": {
      "text/plain": [
       "(469.71956767264703, 1.1102230246251565e-16)"
      ]
     },
     "execution_count": 45,
     "metadata": {},
     "output_type": "execute_result"
    }
   ],
   "source": [
    "f_stat_4, p_value_4"
   ]
  },
  {
   "cell_type": "code",
   "execution_count": 46,
   "metadata": {},
   "outputs": [
    {
     "data": {
      "text/html": [
       "<div>\n",
       "<style scoped>\n",
       "    .dataframe tbody tr th:only-of-type {\n",
       "        vertical-align: middle;\n",
       "    }\n",
       "\n",
       "    .dataframe tbody tr th {\n",
       "        vertical-align: top;\n",
       "    }\n",
       "\n",
       "    .dataframe thead th {\n",
       "        text-align: right;\n",
       "    }\n",
       "</style>\n",
       "<table border=\"1\" class=\"dataframe\">\n",
       "  <thead>\n",
       "    <tr style=\"text-align: right;\">\n",
       "      <th></th>\n",
       "      <th>df_resid</th>\n",
       "      <th>ssr</th>\n",
       "      <th>df_diff</th>\n",
       "      <th>ss_diff</th>\n",
       "      <th>F</th>\n",
       "      <th>Pr(&gt;F)</th>\n",
       "    </tr>\n",
       "  </thead>\n",
       "  <tbody>\n",
       "    <tr>\n",
       "      <th>0</th>\n",
       "      <td>17779.0</td>\n",
       "      <td>23133.224911</td>\n",
       "      <td>0.0</td>\n",
       "      <td>NaN</td>\n",
       "      <td>NaN</td>\n",
       "      <td>NaN</td>\n",
       "    </tr>\n",
       "    <tr>\n",
       "      <th>1</th>\n",
       "      <td>17776.0</td>\n",
       "      <td>21434.078935</td>\n",
       "      <td>3.0</td>\n",
       "      <td>1699.145976</td>\n",
       "      <td>469.719568</td>\n",
       "      <td>9.743199e-294</td>\n",
       "    </tr>\n",
       "  </tbody>\n",
       "</table>\n",
       "</div>"
      ],
      "text/plain": [
       "   df_resid           ssr  df_diff      ss_diff           F         Pr(>F)\n",
       "0   17779.0  23133.224911      0.0          NaN         NaN            NaN\n",
       "1   17776.0  21434.078935      3.0  1699.145976  469.719568  9.743199e-294"
      ]
     },
     "execution_count": 46,
     "metadata": {},
     "output_type": "execute_result"
    }
   ],
   "source": [
    "sm.stats.anova_lm(lm2, lm4,)"
   ]
  },
  {
   "cell_type": "markdown",
   "metadata": {},
   "source": [
    "### Appendix B\n",
    "\n",
    "Empirical proof of multivariate coefficient being equivalent to univariate with effect of all other variables stripped out"
   ]
  },
  {
   "cell_type": "code",
   "execution_count": 47,
   "metadata": {},
   "outputs": [
    {
     "data": {
      "text/plain": [
       "(17783, 91)"
      ]
     },
     "execution_count": 47,
     "metadata": {},
     "output_type": "execute_result"
    }
   ],
   "source": [
    "wanted_columns = [\n",
    "    'log_Value',\n",
    "    'BallControl',\n",
    "    'attacking_pos',\n",
    "    'Finishing',\n",
    "]\n",
    "append_b_df = data_df.dropna(subset=wanted_columns, how='any')\n",
    "append_b_df.shape"
   ]
  },
  {
   "cell_type": "code",
   "execution_count": 48,
   "metadata": {},
   "outputs": [],
   "source": [
    "multi_lm = smf.ols('log_Value ~ BallControl + attacking_pos + Finishing + attacking_pos:Finishing', data=append_b_df).fit()"
   ]
  },
  {
   "cell_type": "code",
   "execution_count": 49,
   "metadata": {},
   "outputs": [
    {
     "data": {
      "text/plain": [
       "Intercept                  4.345669\n",
       "BallControl                0.043712\n",
       "attacking_pos             -6.170384\n",
       "Finishing                 -0.003086\n",
       "attacking_pos:Finishing    0.093583\n",
       "dtype: float64"
      ]
     },
     "execution_count": 49,
     "metadata": {},
     "output_type": "execute_result"
    }
   ],
   "source": [
    "multi_lm.params"
   ]
  },
  {
   "cell_type": "markdown",
   "metadata": {},
   "source": [
    "Lets focus on the coefficient on 'BallControl'"
   ]
  },
  {
   "cell_type": "code",
   "execution_count": 50,
   "metadata": {},
   "outputs": [],
   "source": [
    "lm_ballcontrol_vs_rest = smf.ols('BallControl ~ attacking_pos + Finishing + attacking_pos:Finishing', data=append_b_df).fit()"
   ]
  },
  {
   "cell_type": "code",
   "execution_count": 51,
   "metadata": {},
   "outputs": [],
   "source": [
    "# This residual represents ballcontrol variable with effects of all other variables stripped out\n",
    "ballcontrol_resid = lm_ballcontrol_vs_rest.resid"
   ]
  },
  {
   "cell_type": "code",
   "execution_count": 52,
   "metadata": {},
   "outputs": [
    {
     "data": {
      "text/plain": [
       "(17783,)"
      ]
     },
     "execution_count": 52,
     "metadata": {},
     "output_type": "execute_result"
    }
   ],
   "source": [
    "ballcontrol_resid.shape"
   ]
  },
  {
   "cell_type": "code",
   "execution_count": 53,
   "metadata": {},
   "outputs": [],
   "source": [
    "uni_lm = smf.ols('log_Value ~ ball_control_resid - 1', data={'log_Value': append_b_df['log_Value'], 'ball_control_resid': ballcontrol_resid}).fit()"
   ]
  },
  {
   "cell_type": "code",
   "execution_count": 54,
   "metadata": {},
   "outputs": [
    {
     "data": {
      "text/plain": [
       "ball_control_resid    0.043712\n",
       "dtype: float64"
      ]
     },
     "execution_count": 54,
     "metadata": {},
     "output_type": "execute_result"
    }
   ],
   "source": [
    "uni_lm.params"
   ]
  },
  {
   "cell_type": "code",
   "execution_count": null,
   "metadata": {},
   "outputs": [],
   "source": []
  },
  {
   "cell_type": "code",
   "execution_count": null,
   "metadata": {},
   "outputs": [],
   "source": []
  }
 ],
 "metadata": {
  "kernelspec": {
   "display_name": "Python 3",
   "language": "python",
   "name": "python3"
  },
  "language_info": {
   "codemirror_mode": {
    "name": "ipython",
    "version": 3
   },
   "file_extension": ".py",
   "mimetype": "text/x-python",
   "name": "python",
   "nbconvert_exporter": "python",
   "pygments_lexer": "ipython3",
   "version": "3.8.2"
  }
 },
 "nbformat": 4,
 "nbformat_minor": 2
}
