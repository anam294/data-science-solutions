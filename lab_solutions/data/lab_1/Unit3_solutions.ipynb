{
 "cells": [
  {
   "cell_type": "code",
   "execution_count": 2,
   "metadata": {},
   "outputs": [],
   "source": [
    "import re\n",
    "\n",
    "import matplotlib.pyplot as plt\n",
    "import numpy as np\n",
    "import pandas as pd\n",
    "from scipy import stats\n",
    "import seaborn as sns\n",
    "import statsmodels.formula.api as smf\n",
    "\n",
    "sns.set_style(style=\"darkgrid\")"
   ]
  },
  {
   "cell_type": "code",
   "execution_count": 7,
   "metadata": {},
   "outputs": [],
   "source": [
    "data = pd.read_csv(\"C:\\\\Projects\\\\DSA-Linear-Model\\\\lab_solutions\\\\data\\\\fifa.csv\").drop('Unnamed: 0', axis=1)"
   ]
  },
  {
   "cell_type": "code",
   "execution_count": 8,
   "metadata": {},
   "outputs": [
    {
     "data": {
      "text/plain": [
       "(18207, 88)"
      ]
     },
     "execution_count": 8,
     "metadata": {},
     "output_type": "execute_result"
    }
   ],
   "source": [
    "data.shape"
   ]
  },
  {
   "cell_type": "markdown",
   "metadata": {},
   "source": [
    "# 1. For this exercise, we drop the players whose heights or weights are nan. Draw a scatter plot of the players’ heights and weights with x-axis being heights (in inches) and y-axis being weights (in lbs). What is the correlation between these two variables? Fit a simple linear regression model using the standardized heights and standardized weights (weights as dependent variable). Verify that the slope of the fitted line is equal to the correlation we just calculated."
   ]
  },
  {
   "cell_type": "markdown",
   "metadata": {},
   "source": [
    "### drop the players whose heights or weights are nan."
   ]
  },
  {
   "cell_type": "code",
   "execution_count": 4,
   "metadata": {},
   "outputs": [
    {
     "data": {
      "text/html": [
       "<div>\n",
       "<style scoped>\n",
       "    .dataframe tbody tr th:only-of-type {\n",
       "        vertical-align: middle;\n",
       "    }\n",
       "\n",
       "    .dataframe tbody tr th {\n",
       "        vertical-align: top;\n",
       "    }\n",
       "\n",
       "    .dataframe thead th {\n",
       "        text-align: right;\n",
       "    }\n",
       "</style>\n",
       "<table border=\"1\" class=\"dataframe\">\n",
       "  <thead>\n",
       "    <tr style=\"text-align: right;\">\n",
       "      <th></th>\n",
       "      <th>Height</th>\n",
       "      <th>Weight</th>\n",
       "    </tr>\n",
       "  </thead>\n",
       "  <tbody>\n",
       "    <tr>\n",
       "      <th>0</th>\n",
       "      <td>5'7</td>\n",
       "      <td>159lbs</td>\n",
       "    </tr>\n",
       "    <tr>\n",
       "      <th>1</th>\n",
       "      <td>6'2</td>\n",
       "      <td>183lbs</td>\n",
       "    </tr>\n",
       "    <tr>\n",
       "      <th>2</th>\n",
       "      <td>5'9</td>\n",
       "      <td>150lbs</td>\n",
       "    </tr>\n",
       "    <tr>\n",
       "      <th>3</th>\n",
       "      <td>6'4</td>\n",
       "      <td>168lbs</td>\n",
       "    </tr>\n",
       "    <tr>\n",
       "      <th>4</th>\n",
       "      <td>5'11</td>\n",
       "      <td>154lbs</td>\n",
       "    </tr>\n",
       "  </tbody>\n",
       "</table>\n",
       "</div>"
      ],
      "text/plain": [
       "  Height  Weight\n",
       "0    5'7  159lbs\n",
       "1    6'2  183lbs\n",
       "2    5'9  150lbs\n",
       "3    6'4  168lbs\n",
       "4   5'11  154lbs"
      ]
     },
     "execution_count": 4,
     "metadata": {},
     "output_type": "execute_result"
    }
   ],
   "source": [
    "data[['Height', 'Weight']].head()"
   ]
  },
  {
   "cell_type": "code",
   "execution_count": 5,
   "metadata": {},
   "outputs": [],
   "source": [
    "df = data.dropna(axis=0, subset=['Height','Weight'], how='any').copy()"
   ]
  },
  {
   "cell_type": "code",
   "execution_count": 6,
   "metadata": {},
   "outputs": [],
   "source": [
    "def convert_height(height):\n",
    "    return int(height.split(\"'\")[0]) * 12 + int(height.split(\"'\")[1])\n",
    "\n",
    "df['Height_convert'] = df['Height'].apply(convert_height)\n",
    "df['Weight_convert'] = df['Weight'].str.strip('lbs').astype(int)"
   ]
  },
  {
   "cell_type": "code",
   "execution_count": 7,
   "metadata": {},
   "outputs": [
    {
     "data": {
      "text/html": [
       "<div>\n",
       "<style scoped>\n",
       "    .dataframe tbody tr th:only-of-type {\n",
       "        vertical-align: middle;\n",
       "    }\n",
       "\n",
       "    .dataframe tbody tr th {\n",
       "        vertical-align: top;\n",
       "    }\n",
       "\n",
       "    .dataframe thead th {\n",
       "        text-align: right;\n",
       "    }\n",
       "</style>\n",
       "<table border=\"1\" class=\"dataframe\">\n",
       "  <thead>\n",
       "    <tr style=\"text-align: right;\">\n",
       "      <th></th>\n",
       "      <th>Height</th>\n",
       "      <th>Height_convert</th>\n",
       "      <th>Weight</th>\n",
       "      <th>Weight_convert</th>\n",
       "    </tr>\n",
       "  </thead>\n",
       "  <tbody>\n",
       "    <tr>\n",
       "      <th>0</th>\n",
       "      <td>5'7</td>\n",
       "      <td>67</td>\n",
       "      <td>159lbs</td>\n",
       "      <td>159</td>\n",
       "    </tr>\n",
       "    <tr>\n",
       "      <th>1</th>\n",
       "      <td>6'2</td>\n",
       "      <td>74</td>\n",
       "      <td>183lbs</td>\n",
       "      <td>183</td>\n",
       "    </tr>\n",
       "    <tr>\n",
       "      <th>2</th>\n",
       "      <td>5'9</td>\n",
       "      <td>69</td>\n",
       "      <td>150lbs</td>\n",
       "      <td>150</td>\n",
       "    </tr>\n",
       "    <tr>\n",
       "      <th>3</th>\n",
       "      <td>6'4</td>\n",
       "      <td>76</td>\n",
       "      <td>168lbs</td>\n",
       "      <td>168</td>\n",
       "    </tr>\n",
       "    <tr>\n",
       "      <th>4</th>\n",
       "      <td>5'11</td>\n",
       "      <td>71</td>\n",
       "      <td>154lbs</td>\n",
       "      <td>154</td>\n",
       "    </tr>\n",
       "  </tbody>\n",
       "</table>\n",
       "</div>"
      ],
      "text/plain": [
       "  Height  Height_convert  Weight  Weight_convert\n",
       "0    5'7              67  159lbs             159\n",
       "1    6'2              74  183lbs             183\n",
       "2    5'9              69  150lbs             150\n",
       "3    6'4              76  168lbs             168\n",
       "4   5'11              71  154lbs             154"
      ]
     },
     "execution_count": 7,
     "metadata": {},
     "output_type": "execute_result"
    }
   ],
   "source": [
    "df[['Height', 'Height_convert', 'Weight', 'Weight_convert']].head()"
   ]
  },
  {
   "cell_type": "markdown",
   "metadata": {},
   "source": [
    "### Draw a scatter plot of the players’ heights and weights with x-axis being heights (in inches) and y-axis being weights (in lbs)."
   ]
  },
  {
   "cell_type": "code",
   "execution_count": 8,
   "metadata": {},
   "outputs": [
    {
     "data": {
      "text/plain": [
       "Text(0, 0.5, 'Weight (in lbs)')"
      ]
     },
     "execution_count": 8,
     "metadata": {},
     "output_type": "execute_result"
    },
    {
     "data": {
      "image/png": "[encoded data removed]",
      "text/plain": [
       "<Figure size 864x504 with 1 Axes>"
      ]
     },
     "metadata": {
      "needs_background": "light"
     },
     "output_type": "display_data"
    }
   ],
   "source": [
    "plt.figure(figsize=(12,7))\n",
    "plt.scatter('Height_convert', 'Weight_convert', data=df, alpha=0.2)\n",
    "plt.xlabel('Height (in inches)')\n",
    "plt.ylabel('Weight (in lbs)')"
   ]
  },
  {
   "cell_type": "code",
   "execution_count": 9,
   "metadata": {},
   "outputs": [
    {
     "data": {
      "text/plain": [
       "0.7546782163284699"
      ]
     },
     "execution_count": 9,
     "metadata": {},
     "output_type": "execute_result"
    }
   ],
   "source": [
    "#Correlation coefficient\n",
    "df['Height_convert'].corr(df['Weight_convert'])"
   ]
  },
  {
   "cell_type": "markdown",
   "metadata": {},
   "source": [
    "- Correlation summarizes the strength and direction of the linear (straight-line) association between two quantitative variables. Denoted by r, it takes values between -1 and +1. A positive value for r indicates a positive association, and a negative value for r indicates a negative association."
   ]
  },
  {
   "cell_type": "markdown",
   "metadata": {},
   "source": [
    "### Fit a simple linear regression model using the standardized heights and standardized weights (weights as dependent variable)"
   ]
  },
  {
   "cell_type": "code",
   "execution_count": 10,
   "metadata": {},
   "outputs": [],
   "source": [
    "def standarize_series(data_series): \n",
    "    # Standardized the data, could applied the scale funtion from sklearn package to achieve this directly\n",
    "    return (data_series - data_series.mean()) / data_series.std()\n",
    "\n",
    "df['height_scale'] = standarize_series(df['Height_convert'])\n",
    "df['weight_scale'] = standarize_series(df['Weight_convert'])"
   ]
  },
  {
   "cell_type": "markdown",
   "metadata": {},
   "source": [
    "- Standardization refers to shifting the distribution of each attribute to have a mean of zero and a standard deviation of one (unit variance). It is useful to standardize attributes for a model that relies on the distribution of attributes such as Gaussian processes.\n",
    "\n",
    "Standardization ways:\n",
    "1. Subtract mean and divide by standard deviation: Center the data and change the units to standard deviations. ...\n",
    "2. Subtract mean: Center the data. ...\n",
    "3. Divide by standard deviation: Standardize the scale for each variable that you specify, so that you can compare them on a similar scale."
   ]
  },
  {
   "cell_type": "code",
   "execution_count": 11,
   "metadata": {},
   "outputs": [
    {
     "data": {
      "text/html": [
       "<table class=\"simpletable\">\n",
       "<caption>OLS Regression Results</caption>\n",
       "<tr>\n",
       "  <th>Dep. Variable:</th>      <td>weight_scale</td>   <th>  R-squared:         </th> <td>   0.570</td> \n",
       "</tr>\n",
       "<tr>\n",
       "  <th>Model:</th>                   <td>OLS</td>       <th>  Adj. R-squared:    </th> <td>   0.570</td> \n",
       "</tr>\n",
       "<tr>\n",
       "  <th>Method:</th>             <td>Least Squares</td>  <th>  F-statistic:       </th> <td>2.402e+04</td>\n",
       "</tr>\n",
       "<tr>\n",
       "  <th>Date:</th>             <td>Fri, 12 Jul 2019</td> <th>  Prob (F-statistic):</th>  <td>  0.00</td>  \n",
       "</tr>\n",
       "<tr>\n",
       "  <th>Time:</th>                 <td>15:33:33</td>     <th>  Log-Likelihood:    </th> <td> -18113.</td> \n",
       "</tr>\n",
       "<tr>\n",
       "  <th>No. Observations:</th>      <td> 18159</td>      <th>  AIC:               </th> <td>3.623e+04</td>\n",
       "</tr>\n",
       "<tr>\n",
       "  <th>Df Residuals:</th>          <td> 18157</td>      <th>  BIC:               </th> <td>3.625e+04</td>\n",
       "</tr>\n",
       "<tr>\n",
       "  <th>Df Model:</th>              <td>     1</td>      <th>                     </th>     <td> </td>    \n",
       "</tr>\n",
       "<tr>\n",
       "  <th>Covariance Type:</th>      <td>nonrobust</td>    <th>                     </th>     <td> </td>    \n",
       "</tr>\n",
       "</table>\n",
       "<table class=\"simpletable\">\n",
       "<tr>\n",
       "        <td></td>          <th>coef</th>     <th>std err</th>      <th>t</th>      <th>P>|t|</th>  <th>[0.025</th>    <th>0.975]</th>  \n",
       "</tr>\n",
       "<tr>\n",
       "  <th>Intercept</th>    <td> 6.029e-16</td> <td>    0.005</td> <td> 1.24e-13</td> <td> 1.000</td> <td>   -0.010</td> <td>    0.010</td>\n",
       "</tr>\n",
       "<tr>\n",
       "  <th>height_scale</th> <td>    0.7547</td> <td>    0.005</td> <td>  154.995</td> <td> 0.000</td> <td>    0.745</td> <td>    0.764</td>\n",
       "</tr>\n",
       "</table>\n",
       "<table class=\"simpletable\">\n",
       "<tr>\n",
       "  <th>Omnibus:</th>       <td>255.118</td> <th>  Durbin-Watson:     </th> <td>   1.928</td>\n",
       "</tr>\n",
       "<tr>\n",
       "  <th>Prob(Omnibus):</th> <td> 0.000</td>  <th>  Jarque-Bera (JB):  </th> <td> 455.360</td>\n",
       "</tr>\n",
       "<tr>\n",
       "  <th>Skew:</th>          <td> 0.076</td>  <th>  Prob(JB):          </th> <td>1.32e-99</td>\n",
       "</tr>\n",
       "<tr>\n",
       "  <th>Kurtosis:</th>      <td> 3.761</td>  <th>  Cond. No.          </th> <td>    1.00</td>\n",
       "</tr>\n",
       "</table><br/><br/>Warnings:<br/>[1] Standard Errors assume that the covariance matrix of the errors is correctly specified."
      ],
      "text/plain": [
       "<class 'statsmodels.iolib.summary.Summary'>\n",
       "\"\"\"\n",
       "                            OLS Regression Results                            \n",
       "==============================================================================\n",
       "Dep. Variable:           weight_scale   R-squared:                       0.570\n",
       "Model:                            OLS   Adj. R-squared:                  0.570\n",
       "Method:                 Least Squares   F-statistic:                 2.402e+04\n",
       "Date:                Fri, 12 Jul 2019   Prob (F-statistic):               0.00\n",
       "Time:                        15:33:33   Log-Likelihood:                -18113.\n",
       "No. Observations:               18159   AIC:                         3.623e+04\n",
       "Df Residuals:                   18157   BIC:                         3.625e+04\n",
       "Df Model:                           1                                         \n",
       "Covariance Type:            nonrobust                                         \n",
       "================================================================================\n",
       "                   coef    std err          t      P>|t|      [0.025      0.975]\n",
       "--------------------------------------------------------------------------------\n",
       "Intercept     6.029e-16      0.005   1.24e-13      1.000      -0.010       0.010\n",
       "height_scale     0.7547      0.005    154.995      0.000       0.745       0.764\n",
       "==============================================================================\n",
       "Omnibus:                      255.118   Durbin-Watson:                   1.928\n",
       "Prob(Omnibus):                  0.000   Jarque-Bera (JB):              455.360\n",
       "Skew:                           0.076   Prob(JB):                     1.32e-99\n",
       "Kurtosis:                       3.761   Cond. No.                         1.00\n",
       "==============================================================================\n",
       "\n",
       "Warnings:\n",
       "[1] Standard Errors assume that the covariance matrix of the errors is correctly specified.\n",
       "\"\"\""
      ]
     },
     "execution_count": 11,
     "metadata": {},
     "output_type": "execute_result"
    }
   ],
   "source": [
    "# weight_scale = beta_0 + beta_1 * height_scale\n",
    "lm1 = smf.ols('weight_scale ~ height_scale', data=df).fit()\n",
    "lm1.summary()"
   ]
  },
  {
   "cell_type": "markdown",
   "metadata": {},
   "source": [
    "#### Slope of the fitted line equals the correlation coefficient"
   ]
  },
  {
   "cell_type": "code",
   "execution_count": 12,
   "metadata": {},
   "outputs": [
    {
     "data": {
      "text/plain": [
       "0.754678216328469"
      ]
     },
     "execution_count": 12,
     "metadata": {},
     "output_type": "execute_result"
    }
   ],
   "source": [
    "#Correlation coefficient\n",
    "df['height_scale'].corr(df['weight_scale'])"
   ]
  },
  {
   "cell_type": "code",
   "execution_count": 13,
   "metadata": {},
   "outputs": [
    {
     "data": {
      "text/plain": [
       "0.754678216328469"
      ]
     },
     "execution_count": 13,
     "metadata": {},
     "output_type": "execute_result"
    }
   ],
   "source": [
    "# slope of the fitted line\n",
    "lm1.params[1] "
   ]
  },
  {
   "cell_type": "markdown",
   "metadata": {},
   "source": [
    "####  Relationship between R2 and the correlation coefficient of actual and fitted values\n",
    "\n",
    "Ref: https://en.wikipedia.org/wiki/Coefficient_of_determination#As_squared_correlation_coefficient\n",
    "> In linear least squares multiple regression with an estimated intercept term, $R^2$ equals the \n",
    "> square of the Pearson correlation coefficient between the observed and modeled (predicted) data values of the dependent variable."
   ]
  },
  {
   "cell_type": "markdown",
   "metadata": {},
   "source": [
    "- R-squared (R2) is a statistical measure that represents the proportion of the variance for a dependent variable that's explained by an independent variable or variables in a regression model. Whereas correlation explains the strength of the relationship between an independent and dependent variable, R-squared explains to what extent the variance of one variable explains the variance of the second variable. So, if the R2 of a model is 0.50, then approximately half of the observed variation can be explained by the model's inputs."
   ]
  },
  {
   "cell_type": "code",
   "execution_count": 14,
   "metadata": {},
   "outputs": [
    {
     "data": {
      "text/plain": [
       "0.5695392102007204"
      ]
     },
     "execution_count": 14,
     "metadata": {},
     "output_type": "execute_result"
    }
   ],
   "source": [
    "# R-squared value\n",
    "lm1.rsquared"
   ]
  },
  {
   "cell_type": "code",
   "execution_count": 15,
   "metadata": {},
   "outputs": [
    {
     "data": {
      "text/plain": [
       "1.1102230246251565e-16"
      ]
     },
     "execution_count": 15,
     "metadata": {},
     "output_type": "execute_result"
    }
   ],
   "source": [
    "fitted_values = lm1.fittedvalues\n",
    "abs(df['weight_scale'].corr(lm1.fittedvalues) ** 2 - lm1.rsquared)"
   ]
  },
  {
   "cell_type": "code",
   "execution_count": null,
   "metadata": {},
   "outputs": [],
   "source": []
  },
  {
   "cell_type": "markdown",
   "metadata": {},
   "source": [
    "# 2. Fit a simple linear regression to players’ heights and weights in their original scales (no standardization) with weight as dependent variable. What is the R2 score? What is the correlation between the true weights and the predicted weights using the fitted linear regression model and how is it related to the R2 score?\n"
   ]
  },
  {
   "cell_type": "code",
   "execution_count": 16,
   "metadata": {},
   "outputs": [
    {
     "data": {
      "text/html": [
       "<table class=\"simpletable\">\n",
       "<caption>OLS Regression Results</caption>\n",
       "<tr>\n",
       "  <th>Dep. Variable:</th>     <td>Weight_convert</td>  <th>  R-squared:         </th> <td>   0.570</td> \n",
       "</tr>\n",
       "<tr>\n",
       "  <th>Model:</th>                   <td>OLS</td>       <th>  Adj. R-squared:    </th> <td>   0.570</td> \n",
       "</tr>\n",
       "<tr>\n",
       "  <th>Method:</th>             <td>Least Squares</td>  <th>  F-statistic:       </th> <td>2.402e+04</td>\n",
       "</tr>\n",
       "<tr>\n",
       "  <th>Date:</th>             <td>Fri, 12 Jul 2019</td> <th>  Prob (F-statistic):</th>  <td>  0.00</td>  \n",
       "</tr>\n",
       "<tr>\n",
       "  <th>Time:</th>                 <td>15:33:33</td>     <th>  Log-Likelihood:    </th> <td> -67993.</td> \n",
       "</tr>\n",
       "<tr>\n",
       "  <th>No. Observations:</th>      <td> 18159</td>      <th>  AIC:               </th> <td>1.360e+05</td>\n",
       "</tr>\n",
       "<tr>\n",
       "  <th>Df Residuals:</th>          <td> 18157</td>      <th>  BIC:               </th> <td>1.360e+05</td>\n",
       "</tr>\n",
       "<tr>\n",
       "  <th>Df Model:</th>              <td>     1</td>      <th>                     </th>     <td> </td>    \n",
       "</tr>\n",
       "<tr>\n",
       "  <th>Covariance Type:</th>      <td>nonrobust</td>    <th>                     </th>     <td> </td>    \n",
       "</tr>\n",
       "</table>\n",
       "<table class=\"simpletable\">\n",
       "<tr>\n",
       "         <td></td>           <th>coef</th>     <th>std err</th>      <th>t</th>      <th>P>|t|</th>  <th>[0.025</th>    <th>0.975]</th>  \n",
       "</tr>\n",
       "<tr>\n",
       "  <th>Intercept</th>      <td> -150.9578</td> <td>    2.046</td> <td>  -73.774</td> <td> 0.000</td> <td> -154.969</td> <td> -146.947</td>\n",
       "</tr>\n",
       "<tr>\n",
       "  <th>Height_convert</th> <td>    4.4413</td> <td>    0.029</td> <td>  154.995</td> <td> 0.000</td> <td>    4.385</td> <td>    4.497</td>\n",
       "</tr>\n",
       "</table>\n",
       "<table class=\"simpletable\">\n",
       "<tr>\n",
       "  <th>Omnibus:</th>       <td>255.118</td> <th>  Durbin-Watson:     </th> <td>   1.928</td>\n",
       "</tr>\n",
       "<tr>\n",
       "  <th>Prob(Omnibus):</th> <td> 0.000</td>  <th>  Jarque-Bera (JB):  </th> <td> 455.360</td>\n",
       "</tr>\n",
       "<tr>\n",
       "  <th>Skew:</th>          <td> 0.076</td>  <th>  Prob(JB):          </th> <td>1.32e-99</td>\n",
       "</tr>\n",
       "<tr>\n",
       "  <th>Kurtosis:</th>      <td> 3.761</td>  <th>  Cond. No.          </th> <td>1.92e+03</td>\n",
       "</tr>\n",
       "</table><br/><br/>Warnings:<br/>[1] Standard Errors assume that the covariance matrix of the errors is correctly specified.<br/>[2] The condition number is large, 1.92e+03. This might indicate that there are<br/>strong multicollinearity or other numerical problems."
      ],
      "text/plain": [
       "<class 'statsmodels.iolib.summary.Summary'>\n",
       "\"\"\"\n",
       "                            OLS Regression Results                            \n",
       "==============================================================================\n",
       "Dep. Variable:         Weight_convert   R-squared:                       0.570\n",
       "Model:                            OLS   Adj. R-squared:                  0.570\n",
       "Method:                 Least Squares   F-statistic:                 2.402e+04\n",
       "Date:                Fri, 12 Jul 2019   Prob (F-statistic):               0.00\n",
       "Time:                        15:33:33   Log-Likelihood:                -67993.\n",
       "No. Observations:               18159   AIC:                         1.360e+05\n",
       "Df Residuals:                   18157   BIC:                         1.360e+05\n",
       "Df Model:                           1                                         \n",
       "Covariance Type:            nonrobust                                         \n",
       "==================================================================================\n",
       "                     coef    std err          t      P>|t|      [0.025      0.975]\n",
       "----------------------------------------------------------------------------------\n",
       "Intercept       -150.9578      2.046    -73.774      0.000    -154.969    -146.947\n",
       "Height_convert     4.4413      0.029    154.995      0.000       4.385       4.497\n",
       "==============================================================================\n",
       "Omnibus:                      255.118   Durbin-Watson:                   1.928\n",
       "Prob(Omnibus):                  0.000   Jarque-Bera (JB):              455.360\n",
       "Skew:                           0.076   Prob(JB):                     1.32e-99\n",
       "Kurtosis:                       3.761   Cond. No.                     1.92e+03\n",
       "==============================================================================\n",
       "\n",
       "Warnings:\n",
       "[1] Standard Errors assume that the covariance matrix of the errors is correctly specified.\n",
       "[2] The condition number is large, 1.92e+03. This might indicate that there are\n",
       "strong multicollinearity or other numerical problems.\n",
       "\"\"\""
      ]
     },
     "execution_count": 16,
     "metadata": {},
     "output_type": "execute_result"
    }
   ],
   "source": [
    "lm2 = smf.ols('Weight_convert ~ Height_convert', data=df).fit()\n",
    "lm2.summary()"
   ]
  },
  {
   "cell_type": "code",
   "execution_count": 17,
   "metadata": {},
   "outputs": [
    {
     "data": {
      "text/plain": [
       "0.5695392102007202"
      ]
     },
     "execution_count": 17,
     "metadata": {},
     "output_type": "execute_result"
    }
   ],
   "source": [
    "lm2.rsquared"
   ]
  },
  {
   "cell_type": "code",
   "execution_count": 18,
   "metadata": {},
   "outputs": [
    {
     "data": {
      "text/plain": [
       "8.881784197001252e-16"
      ]
     },
     "execution_count": 18,
     "metadata": {},
     "output_type": "execute_result"
    }
   ],
   "source": [
    "abs(df['Weight_convert'].corr(lm2.fittedvalues) ** 2 - lm2.rsquared)"
   ]
  },
  {
   "cell_type": "code",
   "execution_count": null,
   "metadata": {},
   "outputs": [],
   "source": []
  },
  {
   "cell_type": "markdown",
   "metadata": {},
   "source": [
    "# 3. Assuming iid Gaussian noise, give the 95 percent confidence interval for the slope of the linear regression line in question 2.\n"
   ]
  },
  {
   "cell_type": "markdown",
   "metadata": {},
   "source": [
    "- IID is an acronym that stands for independent and identically distributed. In probability theory and statistics, a collection of random variables is independent and identically distributed if each random variable has the same probability distribution as the others and all are mutually independent.\n",
    "- In machine learning theory, i.i.d. assumption is often made for training datasets to imply that all samples stem from the same generative process and that the generative process is assumed to have no memory of past generated samples.\n"
   ]
  },
  {
   "cell_type": "code",
   "execution_count": 19,
   "metadata": {},
   "outputs": [
    {
     "data": {
      "text/html": [
       "<div>\n",
       "<style scoped>\n",
       "    .dataframe tbody tr th:only-of-type {\n",
       "        vertical-align: middle;\n",
       "    }\n",
       "\n",
       "    .dataframe tbody tr th {\n",
       "        vertical-align: top;\n",
       "    }\n",
       "\n",
       "    .dataframe thead th {\n",
       "        text-align: right;\n",
       "    }\n",
       "</style>\n",
       "<table border=\"1\" class=\"dataframe\">\n",
       "  <thead>\n",
       "    <tr style=\"text-align: right;\">\n",
       "      <th></th>\n",
       "      <th>0</th>\n",
       "      <th>1</th>\n",
       "    </tr>\n",
       "  </thead>\n",
       "  <tbody>\n",
       "    <tr>\n",
       "      <th>Intercept</th>\n",
       "      <td>-154.968593</td>\n",
       "      <td>-146.946975</td>\n",
       "    </tr>\n",
       "    <tr>\n",
       "      <th>Height_convert</th>\n",
       "      <td>4.385137</td>\n",
       "      <td>4.497468</td>\n",
       "    </tr>\n",
       "  </tbody>\n",
       "</table>\n",
       "</div>"
      ],
      "text/plain": [
       "                         0           1\n",
       "Intercept      -154.968593 -146.946975\n",
       "Height_convert    4.385137    4.497468"
      ]
     },
     "execution_count": 19,
     "metadata": {},
     "output_type": "execute_result"
    }
   ],
   "source": [
    "lm2.conf_int(alpha=0.05)"
   ]
  },
  {
   "cell_type": "markdown",
   "metadata": {},
   "source": [
    "- A confidence interval, in statistics, refers to the probability that a population parameter will fall between two set values for a certain proportion of times. Confidence intervals measure the degree of uncertainty or certainty in a sampling method.\n"
   ]
  },
  {
   "cell_type": "markdown",
   "metadata": {},
   "source": [
    "# 4. On top of the scatter plot drawn in question 1/, plot the fitted linear regression line from question 2/, and plot the 95 percent confidence intervals for the linear regression line and the 95 percent prediction intervals."
   ]
  },
  {
   "cell_type": "code",
   "execution_count": 20,
   "metadata": {},
   "outputs": [
    {
     "data": {
      "text/plain": [
       "Text(0, 0.5, 'Weight (in lbs)')"
      ]
     },
     "execution_count": 20,
     "metadata": {},
     "output_type": "execute_result"
    },
    {
     "data": {
      "image/png": "[encoded data removed]",
      "text/plain": [
       "<Figure size 864x504 with 1 Axes>"
      ]
     },
     "metadata": {
      "needs_background": "light"
     },
     "output_type": "display_data"
    }
   ],
   "source": [
    "# ci: Size of the confidence interval for the regression estimate.\n",
    "ci = 0.95\n",
    "\n",
    "newx = {\n",
    "    'Height_convert': np.arange(df['Height_convert'].min(), df['Height_convert'].max(), 0.1)\n",
    "}\n",
    "newx = pd.DataFrame(newx)\n",
    "plt.figure(figsize=(12, 7))\n",
    "sns.regplot('Height_convert', 'Weight_convert', data=df, scatter_kws={'alpha':0.2}, ci=ci)\n",
    "\n",
    "\n",
    "#  draw the prediction interval\n",
    "prediction_summary = lm2.get_prediction(newx).summary_frame(alpha=1 - ci)\n",
    "plt.fill_between(newx['Height_convert'],\n",
    "                 prediction_summary['obs_ci_lower'],\n",
    "                 prediction_summary['obs_ci_upper'],\n",
    "                 color='grey', \n",
    "                 alpha=0.5, \n",
    "                 interpolate=True)\n",
    "plt.xlabel('Height (in inches)')\n",
    "plt.ylabel('Weight (in lbs)')"
   ]
  },
  {
   "cell_type": "markdown",
   "metadata": {},
   "source": [
    "### 5. For this question, let’s filter the data by Value >= $50K and Overall >= 60. Draw the scatter plot of Value and Overall with Value on the y-axis. Fit a simple linear regression model on Value vs Overall (Value as dependent variable) and draw the residual plot. How do you think the simple linear model performs here? What is the R2 score? Now, take the log of the variable ‘Value’ and fit a simple linear regression using ‘log_Value’ and Overall. Draw the residual plot and calculate the R2 score.\n"
   ]
  },
  {
   "cell_type": "markdown",
   "metadata": {},
   "source": [
    "### filter the data by Value >= $50K and Overall >= 60"
   ]
  },
  {
   "cell_type": "code",
   "execution_count": 21,
   "metadata": {},
   "outputs": [],
   "source": [
    "def convert_str_value_to_numeric(str_value):\n",
    "    if str_value in ['NaN', 'nan', np.nan]:\n",
    "        return np.nan\n",
    "    else:\n",
    "        if str_value.endswith('K'):\n",
    "            multiplier = 1\n",
    "        elif str_value.endswith('M'):\n",
    "            multiplier = 1000\n",
    "        else:\n",
    "            multiplier = 1\n",
    "        \n",
    "        re_pattern = re.compile('[^0-9\\.\\-]')\n",
    "        return float(re.sub(re_pattern, '', str_value)) * multiplier"
   ]
  },
  {
   "cell_type": "code",
   "execution_count": 22,
   "metadata": {},
   "outputs": [],
   "source": [
    "df['Value_trans'] = df['Value'].apply(convert_str_value_to_numeric)\n",
    "df['Wage_trans'] = df['Wage'].apply(convert_str_value_to_numeric)"
   ]
  },
  {
   "cell_type": "code",
   "execution_count": 23,
   "metadata": {},
   "outputs": [],
   "source": [
    "filtered_df = df[(df['Value_trans'] >= 50) & (df['Overall'] >= 60)].copy()"
   ]
  },
  {
   "cell_type": "code",
   "execution_count": null,
   "metadata": {},
   "outputs": [],
   "source": []
  },
  {
   "cell_type": "markdown",
   "metadata": {},
   "source": [
    "### Draw the scatter plot of Value and Overall with Value on the y-axis. "
   ]
  },
  {
   "cell_type": "code",
   "execution_count": 24,
   "metadata": {},
   "outputs": [
    {
     "data": {
      "text/plain": [
       "Text(0, 0.5, 'Vlaue')"
      ]
     },
     "execution_count": 24,
     "metadata": {},
     "output_type": "execute_result"
    },
    {
     "data": {
      "image/png": "[encoded data removed]",
      "text/plain": [
       "<Figure size 864x504 with 1 Axes>"
      ]
     },
     "metadata": {
      "needs_background": "light"
     },
     "output_type": "display_data"
    }
   ],
   "source": [
    "plt.figure(figsize=(12, 7))\n",
    "plt.scatter(y='Value_trans', x='Overall', data=filtered_df, alpha=0.2)\n",
    "plt.xlabel('Overall')\n",
    "plt.ylabel('Vlaue')"
   ]
  },
  {
   "cell_type": "markdown",
   "metadata": {},
   "source": [
    "### Fit a simple linear regression model on Value vs Overall (Value as dependent variable) "
   ]
  },
  {
   "cell_type": "code",
   "execution_count": 25,
   "metadata": {},
   "outputs": [
    {
     "data": {
      "text/html": [
       "<table class=\"simpletable\">\n",
       "<caption>OLS Regression Results</caption>\n",
       "<tr>\n",
       "  <th>Dep. Variable:</th>       <td>Value_trans</td>   <th>  R-squared:         </th>  <td>   0.516</td>  \n",
       "</tr>\n",
       "<tr>\n",
       "  <th>Model:</th>                   <td>OLS</td>       <th>  Adj. R-squared:    </th>  <td>   0.516</td>  \n",
       "</tr>\n",
       "<tr>\n",
       "  <th>Method:</th>             <td>Least Squares</td>  <th>  F-statistic:       </th>  <td>1.602e+04</td> \n",
       "</tr>\n",
       "<tr>\n",
       "  <th>Date:</th>             <td>Fri, 12 Jul 2019</td> <th>  Prob (F-statistic):</th>   <td>  0.00</td>   \n",
       "</tr>\n",
       "<tr>\n",
       "  <th>Time:</th>                 <td>15:33:35</td>     <th>  Log-Likelihood:    </th> <td>-1.4650e+05</td>\n",
       "</tr>\n",
       "<tr>\n",
       "  <th>No. Observations:</th>      <td> 15004</td>      <th>  AIC:               </th>  <td>2.930e+05</td> \n",
       "</tr>\n",
       "<tr>\n",
       "  <th>Df Residuals:</th>          <td> 15002</td>      <th>  BIC:               </th>  <td>2.930e+05</td> \n",
       "</tr>\n",
       "<tr>\n",
       "  <th>Df Model:</th>              <td>     1</td>      <th>                     </th>      <td> </td>     \n",
       "</tr>\n",
       "<tr>\n",
       "  <th>Covariance Type:</th>      <td>nonrobust</td>    <th>                     </th>      <td> </td>     \n",
       "</tr>\n",
       "</table>\n",
       "<table class=\"simpletable\">\n",
       "<tr>\n",
       "      <td></td>         <th>coef</th>     <th>std err</th>      <th>t</th>      <th>P>|t|</th>  <th>[0.025</th>    <th>0.975]</th>  \n",
       "</tr>\n",
       "<tr>\n",
       "  <th>Intercept</th> <td>-5.142e+04</td> <td>  430.539</td> <td> -119.430</td> <td> 0.000</td> <td>-5.23e+04</td> <td>-5.06e+04</td>\n",
       "</tr>\n",
       "<tr>\n",
       "  <th>Overall</th>   <td>  795.5120</td> <td>    6.286</td> <td>  126.560</td> <td> 0.000</td> <td>  783.191</td> <td>  807.833</td>\n",
       "</tr>\n",
       "</table>\n",
       "<table class=\"simpletable\">\n",
       "<tr>\n",
       "  <th>Omnibus:</th>       <td>19777.767</td> <th>  Durbin-Watson:     </th>  <td>   0.278</td>  \n",
       "</tr>\n",
       "<tr>\n",
       "  <th>Prob(Omnibus):</th>  <td> 0.000</td>   <th>  Jarque-Bera (JB):  </th> <td>6165139.212</td>\n",
       "</tr>\n",
       "<tr>\n",
       "  <th>Skew:</th>           <td> 7.308</td>   <th>  Prob(JB):          </th>  <td>    0.00</td>  \n",
       "</tr>\n",
       "<tr>\n",
       "  <th>Kurtosis:</th>       <td>101.224</td>  <th>  Cond. No.          </th>  <td>    858.</td>  \n",
       "</tr>\n",
       "</table><br/><br/>Warnings:<br/>[1] Standard Errors assume that the covariance matrix of the errors is correctly specified."
      ],
      "text/plain": [
       "<class 'statsmodels.iolib.summary.Summary'>\n",
       "\"\"\"\n",
       "                            OLS Regression Results                            \n",
       "==============================================================================\n",
       "Dep. Variable:            Value_trans   R-squared:                       0.516\n",
       "Model:                            OLS   Adj. R-squared:                  0.516\n",
       "Method:                 Least Squares   F-statistic:                 1.602e+04\n",
       "Date:                Fri, 12 Jul 2019   Prob (F-statistic):               0.00\n",
       "Time:                        15:33:35   Log-Likelihood:            -1.4650e+05\n",
       "No. Observations:               15004   AIC:                         2.930e+05\n",
       "Df Residuals:                   15002   BIC:                         2.930e+05\n",
       "Df Model:                           1                                         \n",
       "Covariance Type:            nonrobust                                         \n",
       "==============================================================================\n",
       "                 coef    std err          t      P>|t|      [0.025      0.975]\n",
       "------------------------------------------------------------------------------\n",
       "Intercept  -5.142e+04    430.539   -119.430      0.000   -5.23e+04   -5.06e+04\n",
       "Overall      795.5120      6.286    126.560      0.000     783.191     807.833\n",
       "==============================================================================\n",
       "Omnibus:                    19777.767   Durbin-Watson:                   0.278\n",
       "Prob(Omnibus):                  0.000   Jarque-Bera (JB):          6165139.212\n",
       "Skew:                           7.308   Prob(JB):                         0.00\n",
       "Kurtosis:                     101.224   Cond. No.                         858.\n",
       "==============================================================================\n",
       "\n",
       "Warnings:\n",
       "[1] Standard Errors assume that the covariance matrix of the errors is correctly specified.\n",
       "\"\"\""
      ]
     },
     "execution_count": 25,
     "metadata": {},
     "output_type": "execute_result"
    }
   ],
   "source": [
    "lm3 = smf.ols('Value_trans ~ Overall', data=filtered_df).fit()\n",
    "lm3.summary()"
   ]
  },
  {
   "cell_type": "markdown",
   "metadata": {},
   "source": [
    "### Print the R-square"
   ]
  },
  {
   "cell_type": "code",
   "execution_count": 26,
   "metadata": {},
   "outputs": [
    {
     "data": {
      "text/plain": [
       "0.5163687882968182"
      ]
     },
     "execution_count": 26,
     "metadata": {},
     "output_type": "execute_result"
    }
   ],
   "source": [
    "lm3.rsquared"
   ]
  },
  {
   "cell_type": "markdown",
   "metadata": {},
   "source": [
    "### draw the residual plot"
   ]
  },
  {
   "cell_type": "code",
   "execution_count": 27,
   "metadata": {
    "scrolled": false
   },
   "outputs": [
    {
     "data": {
      "text/plain": [
       "<matplotlib.lines.Line2D at 0x1205c7390>"
      ]
     },
     "execution_count": 27,
     "metadata": {},
     "output_type": "execute_result"
    },
    {
     "data": {
      "image/png": "[encoded data removed]",
      "text/plain": [
       "<Figure size 864x504 with 1 Axes>"
      ]
     },
     "metadata": {
      "needs_background": "light"
     },
     "output_type": "display_data"
    }
   ],
   "source": [
    "plt.figure(figsize=(12, 7))\n",
    "plt.scatter(x=lm3.fittedvalues, y=lm3.resid, alpha=0.2)\n",
    "plt.xlabel('Fitted')\n",
    "plt.ylabel('Residual')\n",
    "plt.axhline(y=0)"
   ]
  },
  {
   "cell_type": "code",
   "execution_count": null,
   "metadata": {},
   "outputs": [],
   "source": []
  },
  {
   "cell_type": "markdown",
   "metadata": {},
   "source": [
    "### Take the log of the variable ‘Value’ and fit a simple linear regression using ‘log_Value’ and Overall. Draw the residual plot and calculate the R2 score."
   ]
  },
  {
   "cell_type": "code",
   "execution_count": 28,
   "metadata": {},
   "outputs": [],
   "source": [
    "filtered_df['log_value'] = np.log(filtered_df['Value_trans'])"
   ]
  },
  {
   "cell_type": "code",
   "execution_count": 29,
   "metadata": {},
   "outputs": [
    {
     "data": {
      "text/html": [
       "<table class=\"simpletable\">\n",
       "<caption>OLS Regression Results</caption>\n",
       "<tr>\n",
       "  <th>Dep. Variable:</th>        <td>log_value</td>    <th>  R-squared:         </th> <td>   0.853</td> \n",
       "</tr>\n",
       "<tr>\n",
       "  <th>Model:</th>                   <td>OLS</td>       <th>  Adj. R-squared:    </th> <td>   0.853</td> \n",
       "</tr>\n",
       "<tr>\n",
       "  <th>Method:</th>             <td>Least Squares</td>  <th>  F-statistic:       </th> <td>8.704e+04</td>\n",
       "</tr>\n",
       "<tr>\n",
       "  <th>Date:</th>             <td>Fri, 12 Jul 2019</td> <th>  Prob (F-statistic):</th>  <td>  0.00</td>  \n",
       "</tr>\n",
       "<tr>\n",
       "  <th>Time:</th>                 <td>15:33:36</td>     <th>  Log-Likelihood:    </th> <td> -9932.9</td> \n",
       "</tr>\n",
       "<tr>\n",
       "  <th>No. Observations:</th>      <td> 15004</td>      <th>  AIC:               </th> <td>1.987e+04</td>\n",
       "</tr>\n",
       "<tr>\n",
       "  <th>Df Residuals:</th>          <td> 15002</td>      <th>  BIC:               </th> <td>1.988e+04</td>\n",
       "</tr>\n",
       "<tr>\n",
       "  <th>Df Model:</th>              <td>     1</td>      <th>                     </th>     <td> </td>    \n",
       "</tr>\n",
       "<tr>\n",
       "  <th>Covariance Type:</th>      <td>nonrobust</td>    <th>                     </th>     <td> </td>    \n",
       "</tr>\n",
       "</table>\n",
       "<table class=\"simpletable\">\n",
       "<tr>\n",
       "      <td></td>         <th>coef</th>     <th>std err</th>      <th>t</th>      <th>P>|t|</th>  <th>[0.025</th>    <th>0.975]</th>  \n",
       "</tr>\n",
       "<tr>\n",
       "  <th>Intercept</th> <td>   -7.0326</td> <td>    0.048</td> <td> -146.583</td> <td> 0.000</td> <td>   -7.127</td> <td>   -6.939</td>\n",
       "</tr>\n",
       "<tr>\n",
       "  <th>Overall</th>   <td>    0.2066</td> <td>    0.001</td> <td>  295.022</td> <td> 0.000</td> <td>    0.205</td> <td>    0.208</td>\n",
       "</tr>\n",
       "</table>\n",
       "<table class=\"simpletable\">\n",
       "<tr>\n",
       "  <th>Omnibus:</th>       <td>5014.803</td> <th>  Durbin-Watson:     </th> <td>   1.676</td> \n",
       "</tr>\n",
       "<tr>\n",
       "  <th>Prob(Omnibus):</th>  <td> 0.000</td>  <th>  Jarque-Bera (JB):  </th> <td>21675.360</td>\n",
       "</tr>\n",
       "<tr>\n",
       "  <th>Skew:</th>           <td>-1.594</td>  <th>  Prob(JB):          </th> <td>    0.00</td> \n",
       "</tr>\n",
       "<tr>\n",
       "  <th>Kurtosis:</th>       <td> 7.950</td>  <th>  Cond. No.          </th> <td>    858.</td> \n",
       "</tr>\n",
       "</table><br/><br/>Warnings:<br/>[1] Standard Errors assume that the covariance matrix of the errors is correctly specified."
      ],
      "text/plain": [
       "<class 'statsmodels.iolib.summary.Summary'>\n",
       "\"\"\"\n",
       "                            OLS Regression Results                            \n",
       "==============================================================================\n",
       "Dep. Variable:              log_value   R-squared:                       0.853\n",
       "Model:                            OLS   Adj. R-squared:                  0.853\n",
       "Method:                 Least Squares   F-statistic:                 8.704e+04\n",
       "Date:                Fri, 12 Jul 2019   Prob (F-statistic):               0.00\n",
       "Time:                        15:33:36   Log-Likelihood:                -9932.9\n",
       "No. Observations:               15004   AIC:                         1.987e+04\n",
       "Df Residuals:                   15002   BIC:                         1.988e+04\n",
       "Df Model:                           1                                         \n",
       "Covariance Type:            nonrobust                                         \n",
       "==============================================================================\n",
       "                 coef    std err          t      P>|t|      [0.025      0.975]\n",
       "------------------------------------------------------------------------------\n",
       "Intercept     -7.0326      0.048   -146.583      0.000      -7.127      -6.939\n",
       "Overall        0.2066      0.001    295.022      0.000       0.205       0.208\n",
       "==============================================================================\n",
       "Omnibus:                     5014.803   Durbin-Watson:                   1.676\n",
       "Prob(Omnibus):                  0.000   Jarque-Bera (JB):            21675.360\n",
       "Skew:                          -1.594   Prob(JB):                         0.00\n",
       "Kurtosis:                       7.950   Cond. No.                         858.\n",
       "==============================================================================\n",
       "\n",
       "Warnings:\n",
       "[1] Standard Errors assume that the covariance matrix of the errors is correctly specified.\n",
       "\"\"\""
      ]
     },
     "execution_count": 29,
     "metadata": {},
     "output_type": "execute_result"
    }
   ],
   "source": [
    "lm4 = smf.ols('log_value ~ Overall', data=filtered_df).fit()\n",
    "lm4.summary()"
   ]
  },
  {
   "cell_type": "code",
   "execution_count": 30,
   "metadata": {},
   "outputs": [
    {
     "data": {
      "text/plain": [
       "0.8529788609536011"
      ]
     },
     "execution_count": 30,
     "metadata": {},
     "output_type": "execute_result"
    }
   ],
   "source": [
    "lm4.rsquared"
   ]
  },
  {
   "cell_type": "code",
   "execution_count": 31,
   "metadata": {},
   "outputs": [
    {
     "data": {
      "text/plain": [
       "<matplotlib.lines.Line2D at 0x1212a41d0>"
      ]
     },
     "execution_count": 31,
     "metadata": {},
     "output_type": "execute_result"
    },
    {
     "data": {
      "image/png": "[encoded data removed]",
      "text/plain": [
       "<Figure size 1080x576 with 1 Axes>"
      ]
     },
     "metadata": {
      "needs_background": "light"
     },
     "output_type": "display_data"
    }
   ],
   "source": [
    "plt.figure(figsize=(15,8))\n",
    "plt.scatter(x=lm4.fittedvalues, y=lm4.resid, alpha=0.2)\n",
    "plt.xlabel('Fitted')\n",
    "plt.ylabel('Residual')\n",
    "plt.axhline(y=0)"
   ]
  },
  {
   "cell_type": "markdown",
   "metadata": {},
   "source": [
    "#### Observation from the Residual Plots\n",
    "- For the first residual plot, there are some non-linear patterns not captured by the model.\n",
    "- After the log transformation (2nd residual plot), there is less such effect."
   ]
  },
  {
   "cell_type": "code",
   "execution_count": null,
   "metadata": {},
   "outputs": [],
   "source": []
  },
  {
   "cell_type": "code",
   "execution_count": null,
   "metadata": {},
   "outputs": [],
   "source": []
  },
  {
   "cell_type": "markdown",
   "metadata": {},
   "source": [
    "## Appendix - Confidence Intevals, Predition Intervals"
   ]
  },
  {
   "cell_type": "markdown",
   "metadata": {},
   "source": [
    "- We provide some derivations below for people who want to understand better what statsmodels calculates behind the scenes for confidence intervals / prediction intervals. There is no need to perform the below calculations in practice and using statsmodels is sufficient. \n",
    "\n",
    "- Also, https://rpubs.com/aaronsc32/regression-confidence-prediction-intervals is a helpful resource if you are interested in what kind of questions are answered by confidence intervals vs. prediction intervals."
   ]
  },
  {
   "cell_type": "markdown",
   "metadata": {},
   "source": [
    "Let's use the same data, x, y variables that we used to answer question 4 above"
   ]
  },
  {
   "cell_type": "code",
   "execution_count": 32,
   "metadata": {},
   "outputs": [],
   "source": [
    "X = df['Height_convert'].values\n",
    "\n",
    "# Add a column vector of ones for intercept\n",
    "X = np.vstack((np.ones_like(X), X)).T"
   ]
  },
  {
   "cell_type": "code",
   "execution_count": 33,
   "metadata": {},
   "outputs": [],
   "source": [
    "y = df['Weight_convert'].values"
   ]
  },
  {
   "cell_type": "code",
   "execution_count": 34,
   "metadata": {},
   "outputs": [
    {
     "data": {
      "text/plain": [
       "((18159, 2), (18159,))"
      ]
     },
     "execution_count": 34,
     "metadata": {},
     "output_type": "execute_result"
    }
   ],
   "source": [
    "X.shape, y.shape"
   ]
  },
  {
   "cell_type": "code",
   "execution_count": 35,
   "metadata": {},
   "outputs": [],
   "source": [
    "x_t_x = X.T.dot(X)\n",
    "x_t_y = X.T.dot(y)\n",
    "\n",
    "# beta_hat is the OLS estimator \n",
    "# vector of size 2 - first element is the intercept, second element is the slope coeffcient\n",
    "beta_hat = np.linalg.inv(x_t_x).dot(x_t_y)\n",
    "\n",
    "# Now that we have OLS estimator, beta_hat, we can calculate y_hat, or the fitted value of y\n",
    "# and the residuals\n",
    "y_hat = X.dot(beta_hat)\n",
    "resids = y - y_hat"
   ]
  },
  {
   "cell_type": "code",
   "execution_count": 36,
   "metadata": {},
   "outputs": [],
   "source": [
    "# Below are std dev and variance of residuals\n",
    "std_eps = resids.std(ddof=2)\n",
    "var_eps = std_eps ** 2"
   ]
  },
  {
   "cell_type": "code",
   "execution_count": 37,
   "metadata": {},
   "outputs": [],
   "source": [
    "# Below is the covariance matrix for beta_hat\n",
    "# Beta_hat is an estimate of the true beta and thus can fluctuate (is random)\n",
    "beta_hat_cov = var_eps * np.linalg.inv(x_t_x)"
   ]
  },
  {
   "cell_type": "code",
   "execution_count": 38,
   "metadata": {},
   "outputs": [
    {
     "data": {
      "text/plain": [
       "array([-150.95778405,    4.4413025 ])"
      ]
     },
     "execution_count": 38,
     "metadata": {},
     "output_type": "execute_result"
    }
   ],
   "source": [
    "beta_hat"
   ]
  },
  {
   "cell_type": "code",
   "execution_count": 39,
   "metadata": {},
   "outputs": [
    {
     "data": {
      "text/plain": [
       "Intercept        -150.957784\n",
       "Height_convert      4.441302\n",
       "dtype: float64"
      ]
     },
     "execution_count": 39,
     "metadata": {},
     "output_type": "execute_result"
    }
   ],
   "source": [
    "# Compare with statsmodels for sanity check\n",
    "lm2.params"
   ]
  },
  {
   "cell_type": "code",
   "execution_count": null,
   "metadata": {},
   "outputs": [],
   "source": []
  },
  {
   "cell_type": "markdown",
   "metadata": {},
   "source": [
    "Now lets suppose you have a new data called x0 that represents height=70inches and you would like to get its, prediction of weight and confidence / prediction intervals (using the relationship we fitted above)"
   ]
  },
  {
   "cell_type": "code",
   "execution_count": 40,
   "metadata": {},
   "outputs": [],
   "source": [
    "height_0 = 70\n",
    "x0 = np.array([1, height_0])  # 1 is added for the intercept term"
   ]
  },
  {
   "cell_type": "code",
   "execution_count": 41,
   "metadata": {},
   "outputs": [],
   "source": [
    "y_hat_0 = x0.dot(beta_hat)"
   ]
  },
  {
   "cell_type": "markdown",
   "metadata": {},
   "source": [
    "Let's find the standard error of the 'predicted mean of y' or the y_hat_0 given x0"
   ]
  },
  {
   "cell_type": "code",
   "execution_count": 42,
   "metadata": {},
   "outputs": [],
   "source": [
    "var_y_hat_0 = (x0.T).dot(beta_hat_cov).dot(x0)\n",
    "std_y_hat_0 = np.sqrt(var_y_hat_0)"
   ]
  },
  {
   "cell_type": "markdown",
   "metadata": {},
   "source": [
    "Let's find the standard error of the 'predicted y' or y_0 given x0\n",
    "Note that this has additional variance since we now are interested in the range of observation y_0 itself (and not just its mean) so we need to take into account the residual variance. The result would be that prediction interval is always wider than confidence interval"
   ]
  },
  {
   "cell_type": "code",
   "execution_count": 43,
   "metadata": {},
   "outputs": [],
   "source": [
    "var_y_0 = var_y_hat_0 + var_eps\n",
    "std_y_0 = np.sqrt(var_y_0)"
   ]
  },
  {
   "cell_type": "markdown",
   "metadata": {},
   "source": [
    "Now we have all the ingredients - let's find out the confidence / prediction interval at 95% confidence level"
   ]
  },
  {
   "cell_type": "code",
   "execution_count": 44,
   "metadata": {},
   "outputs": [],
   "source": [
    "from scipy.stats import t"
   ]
  },
  {
   "cell_type": "code",
   "execution_count": 45,
   "metadata": {},
   "outputs": [],
   "source": [
    "confidence_level = 0.95\n",
    "\n",
    "ddof = X.shape[0] - 2\n",
    "t_critical = t.ppf(1 - (1 - confidence_level) / 2, df=ddof)"
   ]
  },
  {
   "cell_type": "code",
   "execution_count": 46,
   "metadata": {},
   "outputs": [],
   "source": [
    "confidence_interval = y_hat_0 - t_critical * std_y_hat_0, y_hat_0 + t_critical * std_y_hat_0\n",
    "\n",
    "prediction_interval = y_hat_0 - t_critical * std_y_0, y_hat_0 + t_critical * std_y_0"
   ]
  },
  {
   "cell_type": "markdown",
   "metadata": {},
   "source": [
    "Our result:"
   ]
  },
  {
   "cell_type": "code",
   "execution_count": 47,
   "metadata": {},
   "outputs": [
    {
     "data": {
      "text/plain": [
       "(159.93339080094347,\n",
       " (159.7660838743345, 160.10069772755244),\n",
       " (139.87896713407096, 179.98781446781598))"
      ]
     },
     "execution_count": 47,
     "metadata": {},
     "output_type": "execute_result"
    }
   ],
   "source": [
    "y_hat_0, confidence_interval, prediction_interval"
   ]
  },
  {
   "cell_type": "markdown",
   "metadata": {},
   "source": [
    "Statsmodels result:"
   ]
  },
  {
   "cell_type": "code",
   "execution_count": 48,
   "metadata": {},
   "outputs": [
    {
     "data": {
      "text/html": [
       "<div>\n",
       "<style scoped>\n",
       "    .dataframe tbody tr th:only-of-type {\n",
       "        vertical-align: middle;\n",
       "    }\n",
       "\n",
       "    .dataframe tbody tr th {\n",
       "        vertical-align: top;\n",
       "    }\n",
       "\n",
       "    .dataframe thead th {\n",
       "        text-align: right;\n",
       "    }\n",
       "</style>\n",
       "<table border=\"1\" class=\"dataframe\">\n",
       "  <thead>\n",
       "    <tr style=\"text-align: right;\">\n",
       "      <th></th>\n",
       "      <th>mean</th>\n",
       "      <th>mean_se</th>\n",
       "      <th>mean_ci_lower</th>\n",
       "      <th>mean_ci_upper</th>\n",
       "      <th>obs_ci_lower</th>\n",
       "      <th>obs_ci_upper</th>\n",
       "    </tr>\n",
       "  </thead>\n",
       "  <tbody>\n",
       "    <tr>\n",
       "      <th>0</th>\n",
       "      <td>159.933391</td>\n",
       "      <td>0.085357</td>\n",
       "      <td>159.766084</td>\n",
       "      <td>160.100698</td>\n",
       "      <td>139.878967</td>\n",
       "      <td>179.987814</td>\n",
       "    </tr>\n",
       "  </tbody>\n",
       "</table>\n",
       "</div>"
      ],
      "text/plain": [
       "         mean   mean_se  mean_ci_lower  mean_ci_upper  obs_ci_lower  \\\n",
       "0  159.933391  0.085357     159.766084     160.100698    139.878967   \n",
       "\n",
       "   obs_ci_upper  \n",
       "0    179.987814  "
      ]
     },
     "execution_count": 48,
     "metadata": {},
     "output_type": "execute_result"
    }
   ],
   "source": [
    "lm2.get_prediction({'Height_convert': height_0}).summary_frame(alpha=1 - confidence_level)"
   ]
  },
  {
   "cell_type": "markdown",
   "metadata": {},
   "source": [
    "We can see that we achieve the same result as from statsmodels (confidence interval corresponds to 'mean_ci' fields and prediction interval corresponds to 'obs_ci' columns in statsmodels)"
   ]
  },
  {
   "cell_type": "code",
   "execution_count": null,
   "metadata": {},
   "outputs": [],
   "source": []
  }
 ],
 "metadata": {
  "kernelspec": {
   "display_name": "Python 3",
   "language": "python",
   "name": "python3"
  },
  "language_info": {
   "codemirror_mode": {
    "name": "ipython",
    "version": 3
   },
   "file_extension": ".py",
   "mimetype": "text/x-python",
   "name": "python",
   "nbconvert_exporter": "python",
   "pygments_lexer": "ipython3",
   "version": "3.8.2"
  }
 },
 "nbformat": 4,
 "nbformat_minor": 2
}
