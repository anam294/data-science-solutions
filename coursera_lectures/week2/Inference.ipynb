{
 "cells": [
  {
   "cell_type": "code",
   "execution_count": 1,
   "metadata": {},
   "outputs": [],
   "source": [
    "import pandas as pd\n",
    "import numpy as np\n",
    "import seaborn as sns\n",
    "import matplotlib.pyplot as plt\n",
    "from scipy.stats import t\n",
    "import statsmodels.formula.api  as smf\n",
    "sns.set_style(style=\"darkgrid\")"
   ]
  },
  {
   "cell_type": "code",
   "execution_count": 2,
   "metadata": {},
   "outputs": [],
   "source": [
    "diamond = pd.read_csv('../data/diamond.csv').drop('Unnamed: 0', axis=1)"
   ]
  },
  {
   "cell_type": "code",
   "execution_count": 3,
   "metadata": {},
   "outputs": [],
   "source": [
    "y = diamond['price']\n",
    "x = diamond['carat']\n",
    "n = len(y)"
   ]
  },
  {
   "cell_type": "code",
   "execution_count": 4,
   "metadata": {},
   "outputs": [],
   "source": [
    "beta1 = np.corrcoef(x, y)[0][1] * y.std() / x.std()\n",
    "beta0 = y.mean() - beta1 * x.mean()"
   ]
  },
  {
   "cell_type": "code",
   "execution_count": 5,
   "metadata": {},
   "outputs": [],
   "source": [
    "e = y - beta0 - beta1 * x\n",
    "sigma = np.sqrt(sum(e ** 2) / (n-2))"
   ]
  },
  {
   "cell_type": "code",
   "execution_count": 6,
   "metadata": {},
   "outputs": [],
   "source": [
    "ssx = ((x - x.mean()) ** 2).sum()\n",
    "seBeta0 = (1 / n + x.mean() ** 2 / ssx) ** 0.5 * sigma\n",
    "seBeta1 = sigma / np.sqrt(ssx)"
   ]
  },
  {
   "cell_type": "code",
   "execution_count": 7,
   "metadata": {},
   "outputs": [],
   "source": [
    "tBeta0 = beta0 / seBeta0\n",
    "tBeta1 = beta1 / seBeta1"
   ]
  },
  {
   "cell_type": "code",
   "execution_count": 8,
   "metadata": {},
   "outputs": [],
   "source": [
    "pBeta0 = 2 * t.sf(abs(tBeta0), df=n-2) # Survival function (1-cdf).\n",
    "pBeta1 = 2 * t.sf(abs(tBeta1), df=n-2) "
   ]
  },
  {
   "cell_type": "code",
   "execution_count": 9,
   "metadata": {},
   "outputs": [
    {
     "name": "stdout",
     "output_type": "stream",
     "text": [
      "                Estimate  Std. Error    t value       P(>|t|)\n",
      "(Intercept)  -259.625907   17.318856 -14.990938  2.523271e-19\n",
      "x            3721.024852   81.785880  45.497155  6.751260e-40\n"
     ]
    }
   ],
   "source": [
    "coefTable = pd.DataFrame(\n",
    "    {'Estimate': [beta0, beta1], \n",
    "     'Std. Error':[seBeta0, seBeta1],\n",
    "     't value': [tBeta0, tBeta1], \n",
    "     'P(>|t|)':[pBeta0, pBeta1]}, \n",
    "    index = ['(Intercept)','x']\n",
    ")\n",
    "print(coefTable)\n"
   ]
  },
  {
   "cell_type": "code",
   "execution_count": 10,
   "metadata": {},
   "outputs": [],
   "source": [
    "data = {\n",
    "    'y': y,\n",
    "    'x': x,\n",
    "}\n",
    "data = pd.DataFrame(data)\n",
    "\n",
    "model = smf.ols(formula = 'y ~ x', data=diamond).fit()"
   ]
  },
  {
   "cell_type": "code",
   "execution_count": 11,
   "metadata": {},
   "outputs": [
    {
     "name": "stdout",
     "output_type": "stream",
     "text": [
      "                            OLS Regression Results                            \n",
      "==============================================================================\n",
      "Dep. Variable:                      y   R-squared:                       0.978\n",
      "Model:                            OLS   Adj. R-squared:                  0.978\n",
      "Method:                 Least Squares   F-statistic:                     2070.\n",
      "Date:                Tue, 05 Mar 2019   Prob (F-statistic):           6.75e-40\n",
      "Time:                        17:23:55   Log-Likelihood:                -233.20\n",
      "No. Observations:                  48   AIC:                             470.4\n",
      "Df Residuals:                      46   BIC:                             474.1\n",
      "Df Model:                           1                                         \n",
      "Covariance Type:            nonrobust                                         \n",
      "==============================================================================\n",
      "                 coef    std err          t      P>|t|      [0.025      0.975]\n",
      "------------------------------------------------------------------------------\n",
      "Intercept   -259.6259     17.319    -14.991      0.000    -294.487    -224.765\n",
      "x           3721.0249     81.786     45.497      0.000    3556.398    3885.651\n",
      "==============================================================================\n",
      "Omnibus:                        0.739   Durbin-Watson:                   1.994\n",
      "Prob(Omnibus):                  0.691   Jarque-Bera (JB):                0.181\n",
      "Skew:                           0.056   Prob(JB):                        0.913\n",
      "Kurtosis:                       3.280   Cond. No.                         18.5\n",
      "==============================================================================\n",
      "\n",
      "Warnings:\n",
      "[1] Standard Errors assume that the covariance matrix of the errors is correctly specified.\n"
     ]
    }
   ],
   "source": [
    "print(model.summary())"
   ]
  },
  {
   "cell_type": "code",
   "execution_count": null,
   "metadata": {},
   "outputs": [],
   "source": []
  },
  {
   "cell_type": "code",
   "execution_count": 12,
   "metadata": {},
   "outputs": [
    {
     "data": {
      "text/html": [
       "<div>\n",
       "<style scoped>\n",
       "    .dataframe tbody tr th:only-of-type {\n",
       "        vertical-align: middle;\n",
       "    }\n",
       "\n",
       "    .dataframe tbody tr th {\n",
       "        vertical-align: top;\n",
       "    }\n",
       "\n",
       "    .dataframe thead th {\n",
       "        text-align: right;\n",
       "    }\n",
       "</style>\n",
       "<table border=\"1\" class=\"dataframe\">\n",
       "  <thead>\n",
       "    <tr style=\"text-align: right;\">\n",
       "      <th></th>\n",
       "      <th>0</th>\n",
       "      <th>1</th>\n",
       "    </tr>\n",
       "  </thead>\n",
       "  <tbody>\n",
       "    <tr>\n",
       "      <th>Intercept</th>\n",
       "      <td>-294.486957</td>\n",
       "      <td>-224.764858</td>\n",
       "    </tr>\n",
       "    <tr>\n",
       "      <th>x</th>\n",
       "      <td>3556.398413</td>\n",
       "      <td>3885.651290</td>\n",
       "    </tr>\n",
       "  </tbody>\n",
       "</table>\n",
       "</div>"
      ],
      "text/plain": [
       "                     0            1\n",
       "Intercept  -294.486957  -224.764858\n",
       "x          3556.398413  3885.651290"
      ]
     },
     "execution_count": 12,
     "metadata": {},
     "output_type": "execute_result"
    }
   ],
   "source": [
    "model.conf_int(alpha=0.05)"
   ]
  },
  {
   "cell_type": "code",
   "execution_count": null,
   "metadata": {},
   "outputs": [],
   "source": []
  },
  {
   "cell_type": "markdown",
   "metadata": {},
   "source": [
    "## Prediction"
   ]
  },
  {
   "cell_type": "code",
   "execution_count": 13,
   "metadata": {},
   "outputs": [],
   "source": [
    "newx = {\n",
    "    'x': np.arange(min(x), max(x), step=(max(x) - min(x)) / 100),    \n",
    "}\n",
    "newx = pd.DataFrame(newx)"
   ]
  },
  {
   "cell_type": "code",
   "execution_count": 14,
   "metadata": {},
   "outputs": [],
   "source": [
    "dat = model.get_prediction(newx).summary_frame()"
   ]
  },
  {
   "cell_type": "code",
   "execution_count": 15,
   "metadata": {},
   "outputs": [],
   "source": [
    "dat['x'] = newx['x']"
   ]
  },
  {
   "cell_type": "code",
   "execution_count": 16,
   "metadata": {},
   "outputs": [
    {
     "data": {
      "text/plain": [
       "Index(['mean', 'mean_se', 'mean_ci_lower', 'mean_ci_upper', 'obs_ci_lower',\n",
       "       'obs_ci_upper', 'x'],\n",
       "      dtype='object')"
      ]
     },
     "execution_count": 16,
     "metadata": {},
     "output_type": "execute_result"
    }
   ],
   "source": [
    "dat.columns"
   ]
  },
  {
   "cell_type": "code",
   "execution_count": 17,
   "metadata": {},
   "outputs": [
    {
     "data": {
      "text/plain": [
       "<matplotlib.legend.Legend at 0x11f004668>"
      ]
     },
     "execution_count": 17,
     "metadata": {},
     "output_type": "execute_result"
    },
    {
     "data": {
      "image/png": "[encoded data removed]",
      "text/plain": [
       "<Figure size 864x504 with 1 Axes>"
      ]
     },
     "metadata": {
      "needs_background": "light"
     },
     "output_type": "display_data"
    }
   ],
   "source": [
    "'''\n",
    "    fill_between: Fill the area between two horizontal curves.\n",
    "'''\n",
    "fig, ax = plt.subplots(figsize=(12, 7))\n",
    "plt.scatter(x=x, y=y, alpha=0.5, s=6)\n",
    "plt.fill_between( \n",
    "    dat['x'], dat['mean_ci_lower'], dat['mean_ci_upper'], \n",
    "    alpha=0.5, facecolor='red', label='confidence'\n",
    ")\n",
    "plt.fill_between( \n",
    "    dat['x'], dat['obs_ci_lower'], dat['obs_ci_upper'], \n",
    "    alpha=0.2, facecolor='blue', label='prediction')\n",
    "plt.legend()"
   ]
  },
  {
   "cell_type": "code",
   "execution_count": null,
   "metadata": {},
   "outputs": [],
   "source": []
  },
  {
   "cell_type": "code",
   "execution_count": null,
   "metadata": {},
   "outputs": [],
   "source": []
  }
 ],
 "metadata": {
  "kernelspec": {
   "display_name": "Python 3",
   "language": "python",
   "name": "python3"
  },
  "language_info": {
   "codemirror_mode": {
    "name": "ipython",
    "version": 3
   },
   "file_extension": ".py",
   "mimetype": "text/x-python",
   "name": "python",
   "nbconvert_exporter": "python",
   "pygments_lexer": "ipython3",
   "version": "3.6.4"
  }
 },
 "nbformat": 4,
 "nbformat_minor": 2
}
