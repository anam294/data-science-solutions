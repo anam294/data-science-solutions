{
 "cells": [
  {
   "cell_type": "code",
   "execution_count": 1,
   "metadata": {},
   "outputs": [],
   "source": [
    "import numpy as np\n",
    "import pandas as pd\n",
    "import seaborn as sns\n",
    "import statsmodels.formula.api as smf\n",
    "import matplotlib.pyplot as plt\n",
    "%matplotlib inline"
   ]
  },
  {
   "cell_type": "code",
   "execution_count": 2,
   "metadata": {},
   "outputs": [],
   "source": [
    "swiss = pd.read_csv('../data/swiss.csv').drop('Unnamed: 0', axis=1)"
   ]
  },
  {
   "cell_type": "code",
   "execution_count": 3,
   "metadata": {},
   "outputs": [
    {
     "data": {
      "text/html": [
       "<div>\n",
       "<style scoped>\n",
       "    .dataframe tbody tr th:only-of-type {\n",
       "        vertical-align: middle;\n",
       "    }\n",
       "\n",
       "    .dataframe tbody tr th {\n",
       "        vertical-align: top;\n",
       "    }\n",
       "\n",
       "    .dataframe thead th {\n",
       "        text-align: right;\n",
       "    }\n",
       "</style>\n",
       "<table border=\"1\" class=\"dataframe\">\n",
       "  <thead>\n",
       "    <tr style=\"text-align: right;\">\n",
       "      <th></th>\n",
       "      <th>Fertility</th>\n",
       "      <th>Agriculture</th>\n",
       "      <th>Examination</th>\n",
       "      <th>Education</th>\n",
       "      <th>Catholic</th>\n",
       "      <th>Infant.Mortality</th>\n",
       "    </tr>\n",
       "  </thead>\n",
       "  <tbody>\n",
       "    <tr>\n",
       "      <th>0</th>\n",
       "      <td>80.2</td>\n",
       "      <td>17.0</td>\n",
       "      <td>15</td>\n",
       "      <td>12</td>\n",
       "      <td>9.96</td>\n",
       "      <td>22.2</td>\n",
       "    </tr>\n",
       "    <tr>\n",
       "      <th>1</th>\n",
       "      <td>83.1</td>\n",
       "      <td>45.1</td>\n",
       "      <td>6</td>\n",
       "      <td>9</td>\n",
       "      <td>84.84</td>\n",
       "      <td>22.2</td>\n",
       "    </tr>\n",
       "    <tr>\n",
       "      <th>2</th>\n",
       "      <td>92.5</td>\n",
       "      <td>39.7</td>\n",
       "      <td>5</td>\n",
       "      <td>5</td>\n",
       "      <td>93.40</td>\n",
       "      <td>20.2</td>\n",
       "    </tr>\n",
       "    <tr>\n",
       "      <th>3</th>\n",
       "      <td>85.8</td>\n",
       "      <td>36.5</td>\n",
       "      <td>12</td>\n",
       "      <td>7</td>\n",
       "      <td>33.77</td>\n",
       "      <td>20.3</td>\n",
       "    </tr>\n",
       "    <tr>\n",
       "      <th>4</th>\n",
       "      <td>76.9</td>\n",
       "      <td>43.5</td>\n",
       "      <td>17</td>\n",
       "      <td>15</td>\n",
       "      <td>5.16</td>\n",
       "      <td>20.6</td>\n",
       "    </tr>\n",
       "  </tbody>\n",
       "</table>\n",
       "</div>"
      ],
      "text/plain": [
       "   Fertility  Agriculture  Examination  Education  Catholic  Infant.Mortality\n",
       "0       80.2         17.0           15         12      9.96              22.2\n",
       "1       83.1         45.1            6          9     84.84              22.2\n",
       "2       92.5         39.7            5          5     93.40              20.2\n",
       "3       85.8         36.5           12          7     33.77              20.3\n",
       "4       76.9         43.5           17         15      5.16              20.6"
      ]
     },
     "execution_count": 3,
     "metadata": {},
     "output_type": "execute_result"
    }
   ],
   "source": [
    "swiss.head()"
   ]
  },
  {
   "cell_type": "code",
   "execution_count": 4,
   "metadata": {},
   "outputs": [
    {
     "data": {
      "image/png": "[encoded data removed]",
      "text/plain": [
       "<Figure size 720x432 with 1 Axes>"
      ]
     },
     "metadata": {
      "needs_background": "light"
     },
     "output_type": "display_data"
    }
   ],
   "source": [
    "fig, ax = plt.subplots(figsize=(10,6))\n",
    "swiss['Catholic'].hist(ax=ax)\n",
    "ax.set_title('Histogram of swiss[Catholic]')\n",
    "plt.show()"
   ]
  },
  {
   "cell_type": "code",
   "execution_count": 5,
   "metadata": {},
   "outputs": [],
   "source": [
    "swiss['Catholic_Bin'] = np.where(swiss['Catholic'] > 50, 1, 0)"
   ]
  },
  {
   "cell_type": "code",
   "execution_count": 6,
   "metadata": {},
   "outputs": [],
   "source": [
    "def plot_baseline_points(data_df):\n",
    "    fig, ax = plt.subplots(figsize=(8, 6))\n",
    "    data_df.query('Catholic_Bin==0').plot(x='Agriculture', \n",
    "                                        y='Fertility', \n",
    "                                        kind='scatter', \n",
    "                                        ax=ax, \n",
    "                                        color='r',\n",
    "                                        label=0)\n",
    "    data_df.query('Catholic_Bin==1').plot(x='Agriculture', \n",
    "                                        y='Fertility', \n",
    "                                        kind='scatter', \n",
    "                                        ax=ax, \n",
    "                                        color='b',\n",
    "                                        label=1)\n",
    "    return fig, ax"
   ]
  },
  {
   "cell_type": "code",
   "execution_count": 7,
   "metadata": {},
   "outputs": [
    {
     "data": {
      "image/png": "[encoded data removed]",
      "text/plain": [
       "<Figure size 576x432 with 1 Axes>"
      ]
     },
     "metadata": {
      "needs_background": "light"
     },
     "output_type": "display_data"
    }
   ],
   "source": [
    "fig, ax = plot_baseline_points(swiss)\n",
    "plt.show()"
   ]
  },
  {
   "cell_type": "code",
   "execution_count": null,
   "metadata": {},
   "outputs": [],
   "source": []
  },
  {
   "cell_type": "markdown",
   "metadata": {},
   "source": [
    "### Model not including Religion"
   ]
  },
  {
   "cell_type": "code",
   "execution_count": 8,
   "metadata": {},
   "outputs": [
    {
     "data": {
      "text/html": [
       "<table class=\"simpletable\">\n",
       "<tr>\n",
       "       <td></td>          <th>coef</th>     <th>std err</th>      <th>t</th>      <th>P>|t|</th>  <th>[0.025</th>    <th>0.975]</th>  \n",
       "</tr>\n",
       "<tr>\n",
       "  <th>Intercept</th>   <td>   60.3044</td> <td>    4.251</td> <td>   14.185</td> <td> 0.000</td> <td>   51.742</td> <td>   68.867</td>\n",
       "</tr>\n",
       "<tr>\n",
       "  <th>Agriculture</th> <td>    0.1942</td> <td>    0.077</td> <td>    2.532</td> <td> 0.015</td> <td>    0.040</td> <td>    0.349</td>\n",
       "</tr>\n",
       "</table>"
      ],
      "text/plain": [
       "<class 'statsmodels.iolib.table.SimpleTable'>"
      ]
     },
     "execution_count": 8,
     "metadata": {},
     "output_type": "execute_result"
    }
   ],
   "source": [
    "lm1 = smf.ols('Fertility ~ Agriculture', data=swiss).fit()\n",
    "lm1.summary().tables[1]"
   ]
  },
  {
   "cell_type": "code",
   "execution_count": null,
   "metadata": {},
   "outputs": [],
   "source": []
  },
  {
   "cell_type": "code",
   "execution_count": 9,
   "metadata": {},
   "outputs": [],
   "source": [
    "xs_to_plot_1 = swiss['Agriculture'].min(), swiss['Agriculture'].max()\n",
    "ys_to_plot_1 = lm1.predict({'Agriculture': xs_to_plot_1})"
   ]
  },
  {
   "cell_type": "code",
   "execution_count": 10,
   "metadata": {},
   "outputs": [
    {
     "data": {
      "image/png": "[encoded data removed]",
      "text/plain": [
       "<Figure size 576x432 with 1 Axes>"
      ]
     },
     "metadata": {
      "needs_background": "light"
     },
     "output_type": "display_data"
    }
   ],
   "source": [
    "fig, ax = plot_baseline_points(swiss)\n",
    "ax.plot(xs_to_plot_1, ys_to_plot_1, color='black')\n",
    "plt.show()"
   ]
  },
  {
   "cell_type": "code",
   "execution_count": null,
   "metadata": {},
   "outputs": [],
   "source": []
  },
  {
   "cell_type": "markdown",
   "metadata": {},
   "source": [
    "### Model effectively fitting 2 different intercepts"
   ]
  },
  {
   "cell_type": "code",
   "execution_count": 11,
   "metadata": {},
   "outputs": [
    {
     "data": {
      "text/html": [
       "<table class=\"simpletable\">\n",
       "<tr>\n",
       "        <td></td>          <th>coef</th>     <th>std err</th>      <th>t</th>      <th>P>|t|</th>  <th>[0.025</th>    <th>0.975]</th>  \n",
       "</tr>\n",
       "<tr>\n",
       "  <th>Intercept</th>    <td>   60.8322</td> <td>    4.106</td> <td>   14.816</td> <td> 0.000</td> <td>   52.557</td> <td>   69.107</td>\n",
       "</tr>\n",
       "<tr>\n",
       "  <th>Agriculture</th>  <td>    0.1242</td> <td>    0.081</td> <td>    1.531</td> <td> 0.133</td> <td>   -0.039</td> <td>    0.288</td>\n",
       "</tr>\n",
       "<tr>\n",
       "  <th>Catholic_Bin</th> <td>    7.8843</td> <td>    3.748</td> <td>    2.103</td> <td> 0.041</td> <td>    0.330</td> <td>   15.439</td>\n",
       "</tr>\n",
       "</table>"
      ],
      "text/plain": [
       "<class 'statsmodels.iolib.table.SimpleTable'>"
      ]
     },
     "execution_count": 11,
     "metadata": {},
     "output_type": "execute_result"
    }
   ],
   "source": [
    "lm2 = smf.ols('Fertility ~ Agriculture + Catholic_Bin', data=swiss).fit()\n",
    "lm2.summary().tables[1]"
   ]
  },
  {
   "cell_type": "code",
   "execution_count": 12,
   "metadata": {},
   "outputs": [],
   "source": [
    "xs_to_plot_2 = swiss['Agriculture'].min(), swiss['Agriculture'].max()\n",
    "xs_to_plot_2_1 = {'Agriculture': xs_to_plot_2, 'Catholic_Bin': [0, 0]}\n",
    "xs_to_plot_2_2 = {'Agriculture': xs_to_plot_2, 'Catholic_Bin': [1, 1]}\n",
    "\n",
    "ys_to_plot_2_1 = lm2.predict(xs_to_plot_2_1)\n",
    "ys_to_plot_2_2 = lm2.predict(xs_to_plot_2_2)"
   ]
  },
  {
   "cell_type": "code",
   "execution_count": 13,
   "metadata": {},
   "outputs": [
    {
     "data": {
      "image/png": "[encoded data removed]",
      "text/plain": [
       "<Figure size 576x432 with 1 Axes>"
      ]
     },
     "metadata": {
      "needs_background": "light"
     },
     "output_type": "display_data"
    }
   ],
   "source": [
    "fig, ax = plot_baseline_points(swiss)\n",
    "ax.plot(xs_to_plot_2, ys_to_plot_2_1, color='black')\n",
    "ax.plot(xs_to_plot_2, ys_to_plot_2_2, color='black')\n",
    "plt.show()"
   ]
  },
  {
   "cell_type": "code",
   "execution_count": null,
   "metadata": {},
   "outputs": [],
   "source": []
  },
  {
   "cell_type": "markdown",
   "metadata": {},
   "source": [
    "### Model effectively fitting 2 lines"
   ]
  },
  {
   "cell_type": "code",
   "execution_count": 14,
   "metadata": {},
   "outputs": [
    {
     "data": {
      "text/html": [
       "<table class=\"simpletable\">\n",
       "<tr>\n",
       "              <td></td>                <th>coef</th>     <th>std err</th>      <th>t</th>      <th>P>|t|</th>  <th>[0.025</th>    <th>0.975]</th>  \n",
       "</tr>\n",
       "<tr>\n",
       "  <th>Intercept</th>                <td>   62.0499</td> <td>    4.789</td> <td>   12.956</td> <td> 0.000</td> <td>   52.392</td> <td>   71.708</td>\n",
       "</tr>\n",
       "<tr>\n",
       "  <th>Agriculture</th>              <td>    0.0961</td> <td>    0.099</td> <td>    0.973</td> <td> 0.336</td> <td>   -0.103</td> <td>    0.295</td>\n",
       "</tr>\n",
       "<tr>\n",
       "  <th>Catholic_Bin</th>             <td>    2.8577</td> <td>   10.626</td> <td>    0.269</td> <td> 0.789</td> <td>  -18.573</td> <td>   24.288</td>\n",
       "</tr>\n",
       "<tr>\n",
       "  <th>Agriculture:Catholic_Bin</th> <td>    0.0891</td> <td>    0.176</td> <td>    0.506</td> <td> 0.615</td> <td>   -0.266</td> <td>    0.444</td>\n",
       "</tr>\n",
       "</table>"
      ],
      "text/plain": [
       "<class 'statsmodels.iolib.table.SimpleTable'>"
      ]
     },
     "execution_count": 14,
     "metadata": {},
     "output_type": "execute_result"
    }
   ],
   "source": [
    "lm3 = smf.ols('Fertility ~ Agriculture * Catholic_Bin', data=swiss).fit()\n",
    "lm3.summary().tables[1]"
   ]
  },
  {
   "cell_type": "code",
   "execution_count": 15,
   "metadata": {},
   "outputs": [],
   "source": [
    "xs_to_plot_3 = swiss['Agriculture'].min(), swiss['Agriculture'].max()\n",
    "xs_to_plot_3_1 = {'Agriculture': xs_to_plot_3, 'Catholic_Bin': [0, 0]}\n",
    "xs_to_plot_3_2 = {'Agriculture': xs_to_plot_3, 'Catholic_Bin': [1, 1]}\n",
    "\n",
    "ys_to_plot_3_1 = lm3.predict(xs_to_plot_3_1)\n",
    "ys_to_plot_3_2 = lm3.predict(xs_to_plot_3_2)"
   ]
  },
  {
   "cell_type": "code",
   "execution_count": 16,
   "metadata": {},
   "outputs": [
    {
     "data": {
      "image/png": "[encoded data removed]",
      "text/plain": [
       "<Figure size 576x432 with 1 Axes>"
      ]
     },
     "metadata": {
      "needs_background": "light"
     },
     "output_type": "display_data"
    }
   ],
   "source": [
    "fig, ax = plot_baseline_points(swiss)\n",
    "ax.plot(xs_to_plot_3, ys_to_plot_3_1, color='black', label='Mostly non catholic')\n",
    "ax.plot(xs_to_plot_3, ys_to_plot_3_2, color='black', ls='--', label='Mostly catholic')\n",
    "ax.legend()\n",
    "plt.show()"
   ]
  },
  {
   "cell_type": "code",
   "execution_count": null,
   "metadata": {},
   "outputs": [],
   "source": []
  }
 ],
 "metadata": {
  "kernelspec": {
   "display_name": "Python 3",
   "language": "python",
   "name": "python3"
  },
  "language_info": {
   "codemirror_mode": {
    "name": "ipython",
    "version": 3
   },
   "file_extension": ".py",
   "mimetype": "text/x-python",
   "name": "python",
   "nbconvert_exporter": "python",
   "pygments_lexer": "ipython3",
   "version": "3.6.4"
  }
 },
 "nbformat": 4,
 "nbformat_minor": 2
}
